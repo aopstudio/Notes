{
 "cells": [
  {
   "cell_type": "code",
   "execution_count": 4,
   "metadata": {},
   "outputs": [],
   "source": [
    "from IPython.display import Latex\n",
    "import numpy as np"
   ]
  },
  {
   "cell_type": "markdown",
   "metadata": {},
   "source": [
    "# 常用numpy函数\n",
    "## expand_dims\n",
    "在指定位置插入新的轴来扩展数组形状\n",
    "\n",
    "例如原本为一维的2个数据，axis=0，则shape变为(1,2),axis=1则shape变为(2,1)\n",
    "再例如 原本为 (2,3),axis=0，则shape变为(1,2,3),axis=1则shape变为(2,1,3)"
   ]
  },
  {
   "cell_type": "code",
   "execution_count": 6,
   "metadata": {},
   "outputs": [
    {
     "name": "stdout",
     "output_type": "stream",
     "text": [
      "[1 2 3]\n",
      "x.shape:  (3,)\n",
      "[[1 2 3]]\n",
      "y.shape:  (1, 3)\n",
      "y[0][1]:  2\n",
      "[[1]\n",
      " [2]\n",
      " [3]]\n",
      "y.shape:  (3, 1)\n",
      "y[1][0]:  2\n"
     ]
    }
   ],
   "source": [
    "# 测试expand_dims函数\n",
    "x = np.array([1,2,3])\n",
    "print(x)\n",
    "print(\"x.shape: \",x.shape)\n",
    "y = np.expand_dims(x,axis=0)\n",
    "print(y)\n",
    "print(\"y.shape: \",y.shape)\n",
    "print(\"y[0][1]: \",y[0][1])\n",
    "y = np.expand_dims(x,axis=1)\n",
    "print(y)\n",
    "print(\"y.shape: \",y.shape)\n",
    "print(\"y[1][0]: \",y[1][0])"
   ]
  },
  {
   "cell_type": "markdown",
   "metadata": {},
   "source": [
    "# 矩阵微积分\n",
    "## 标量关于向量的偏导数\n",
    "$$\\frac{\\partial y}{\\partial \\boldsymbol{x}}=[\\frac{\\partial y}{\\partial x_1},\\dots,\\frac{\\partial y}{\\partial x_M}]^T$$\n",
    "\n",
    "## 向量关于向量的偏导数\n",
    "$$\\frac{\\partial f(\\boldsymbol{x})}{\\partial \\boldsymbol{x}}=\\begin{bmatrix} \\frac{\\partial y_1}{\\partial x_1} & \\dots  & \\frac{\\partial y_N}{\\partial x_1} \\\\\n",
    "\\vdots & \\vdots & \\vdots \\\\\n",
    " \\frac{\\partial y_1}{\\partial x_M} & \\dots & \\frac{\\partial y_N}{\\partial x_M}\\end{bmatrix}$$\n",
    "\n",
    "## 向量函数及其导数\n",
    "$$\\frac{\\partial \\boldsymbol{x}}{\\partial \\boldsymbol{x}} = \\boldsymbol{I}（单位矩阵）$$\n",
    "$$\\frac{\\partial \\boldsymbol{Ax}}{\\partial \\boldsymbol{x}}=\\boldsymbol{A}^T $$\n",
    "$$\\frac{\\partial \\boldsymbol{x^TA}}{\\partial \\boldsymbol{x}}=\\boldsymbol{A} \\\\$$"
   ]
  }
 ],
 "metadata": {
  "interpreter": {
   "hash": "b3ba2566441a7c06988d0923437866b63cedc61552a5af99d1f4fb67d367b25f"
  },
  "kernelspec": {
   "display_name": "Python 3.9.7 ('base')",
   "language": "python",
   "name": "python3"
  },
  "language_info": {
   "codemirror_mode": {
    "name": "ipython",
    "version": 3
   },
   "file_extension": ".py",
   "mimetype": "text/x-python",
   "name": "python",
   "nbconvert_exporter": "python",
   "pygments_lexer": "ipython3",
   "version": "3.9.7"
  },
  "orig_nbformat": 4
 },
 "nbformat": 4,
 "nbformat_minor": 2
}
