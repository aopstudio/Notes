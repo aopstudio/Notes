{
 "cells": [
  {
   "cell_type": "markdown",
   "metadata": {},
   "source": [
    "计算一个数的二进制位中的最低一位1（lowbit），可以用`x & -x`实现。"
   ]
  },
  {
   "cell_type": "code",
   "execution_count": 1,
   "metadata": {},
   "outputs": [
    {
     "data": {
      "text/plain": [
       "1"
      ]
     },
     "execution_count": 1,
     "metadata": {},
     "output_type": "execute_result"
    }
   ],
   "source": [
    "lowbit = 5 & (-5)\n",
    "lowbit"
   ]
  },
  {
   "cell_type": "markdown",
   "metadata": {},
   "source": [
    "异或运算有以下三个性质。\n",
    "\n",
    "1. 任何数和 0 做异或运算，结果仍然是原来的数，即 $a⊕0=a$。\n",
    "2. 任何数和其自身做异或运算，结果是 0，即 $a⊕a=0$。\n",
    "3. 异或运算满足交换律和结合律，即 $a⊕b⊕a=b⊕a⊕a=b⊕(a⊕a)=b⊕0=b$\n",
    "\n",
    "出题，给你一个 非空 整数数组 nums ，除了某个元素只出现一次以外，其余每个元素均出现两次。找出那个只出现了一次的元素。"
   ]
  },
  {
   "cell_type": "code",
   "execution_count": null,
   "metadata": {},
   "outputs": [],
   "source": [
    "from functools import reduce\n",
    "class Solution:\n",
    "    def singleNumber(self, nums: list) -> int:\n",
    "        return reduce(lambda x, y: x ^ y, nums)"
   ]
  }
 ],
 "metadata": {
  "kernelspec": {
   "display_name": "kafka",
   "language": "python",
   "name": "python3"
  },
  "language_info": {
   "codemirror_mode": {
    "name": "ipython",
    "version": 3
   },
   "file_extension": ".py",
   "mimetype": "text/x-python",
   "name": "python",
   "nbconvert_exporter": "python",
   "pygments_lexer": "ipython3",
   "version": "3.8.15"
  }
 },
 "nbformat": 4,
 "nbformat_minor": 2
}
