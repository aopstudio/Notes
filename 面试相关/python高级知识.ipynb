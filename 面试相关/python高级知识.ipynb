{
 "cells": [
  {
   "cell_type": "markdown",
   "metadata": {},
   "source": [
    "# 常规装饰器（函数实现）"
   ]
  },
  {
   "cell_type": "code",
   "execution_count": null,
   "metadata": {},
   "outputs": [],
   "source": [
    "from typing import Callable\n",
    "from functools import wraps\n",
    "def decorator(fn: Callable):\n",
    "    @wraps(fn)  # 指明下面的函数是用来包裹fn的函数，如果不加这个，则原函数加上@decorator后将直接被wrapper函数替换，simple_plus.__name__会变成wrapper\n",
    "    def wrapper(*args,**kwargs):\n",
    "        fn_name = fn.__name__\n",
    "        print(f'{fn_name} start')\n",
    "        result = fn(*args,**kwargs)\n",
    "        print(f'{fn_name} end')\n",
    "        return result\n",
    "    return wrapper\n",
    "\n",
    "@decorator # 本质上就是将simple_plus替换为decorator(simple_plus)\n",
    "def simple_plus(a,b):\n",
    "    return a+b\n",
    "print(simple_plus.__name__) # 确认原函数依然是原函数，因为@wraps的作用\n",
    "result = simple_plus('1','2')\n",
    "print(result)"
   ]
  },
  {
   "cell_type": "markdown",
   "metadata": {},
   "source": [
    "# 本身也带参数的装饰器\n",
    "外面再包一层带参数的，里面都不用变"
   ]
  },
  {
   "cell_type": "code",
   "execution_count": null,
   "metadata": {},
   "outputs": [],
   "source": [
    "def welcome(name):\n",
    "    def decorator(fn: Callable):\n",
    "        @wraps(fn)\n",
    "        def wrapper(*args,**kwargs):\n",
    "            print(f'Welcome {name}')\n",
    "            print(f'{fn.__name__} start')\n",
    "            result = fn(*args,**kwargs)\n",
    "            print(f'{fn.__name__} end')\n",
    "            return result\n",
    "        return wrapper\n",
    "    return decorator\n",
    "\n",
    "@welcome('User')\n",
    "def simple_sum(*args):\n",
    "    return sum(args)\n",
    "\n",
    "print(simple_sum(1,2,3,4))"
   ]
  },
  {
   "cell_type": "markdown",
   "metadata": {},
   "source": [
    "# 生成器\n",
    "当一个函数包含yield语句后，就不再是一个普通的函数，而是一个生成器\n",
    "\n",
    "return只能执行一次，yield可以执行好多次"
   ]
  },
  {
   "cell_type": "code",
   "execution_count": null,
   "metadata": {},
   "outputs": [],
   "source": [
    "def hello():    # 执行时返回一个可迭代的对象\n",
    "    print('Step 1:')\n",
    "    yield 1\n",
    "    print('Step 2:')\n",
    "    yield 2\n",
    "    print('Step 3:')\n",
    "    yield 3\n",
    "a = hello() # a是可迭代对象\n",
    "print(next(a))    # 测试一下a的迭代方法，输出Step 1:1。每次调用next时，函数只会执行到下一个yield语句\n",
    "for i in a: # for循环迭代a的剩余部分（后台实际上也是在执行next方法）分别输出Step 2:2 Step 3:3\n",
    "    print(i)"
   ]
  },
  {
   "cell_type": "markdown",
   "metadata": {},
   "source": [
    "相比于在函数中构造出一个大的list并最后return，使用yield可以大大节省资源"
   ]
  },
  {
   "cell_type": "markdown",
   "metadata": {},
   "source": [
    "## 实战：构造一个生成从0到n-1的每个数的平方值的生成器"
   ]
  },
  {
   "cell_type": "code",
   "execution_count": null,
   "metadata": {},
   "outputs": [],
   "source": [
    "def square(n):\n",
    "    for i in range(n):\n",
    "        yield i**2\n",
    "\n",
    "for i in square(4):\n",
    "    print(i)\n",
    "\n",
    "# 不使用生成器的版本\n",
    "# def square_wo_generator(n):\n",
    "#     result = []\n",
    "#     for i in range(n):\n",
    "#         result.append(i**2)\n",
    "#     return result\n",
    "# for i in square_wo_generator(4):\n",
    "#     print(i)"
   ]
  },
  {
   "cell_type": "markdown",
   "metadata": {},
   "source": [
    "## 上下文管理器\n",
    "一个上下文管理器是一个对象，它定义了运行时的上下文，使用with语句来执行\n",
    "### with语句\n",
    "```py\n",
    "with context as ctx：\n",
    "    # 使用这个上下文对象\n",
    "# 上下文对象已经被清除了\n",
    "```"
   ]
  },
  {
   "cell_type": "code",
   "execution_count": null,
   "metadata": {},
   "outputs": [],
   "source": [
    "with open(\"mydata.txt\",\"w\") as instance: # instance指向的不是open的返回值，而是上下文管理器对象的__enter__方法的返回值\n",
    "    instance.write(\"Hello\")"
   ]
  },
  {
   "cell_type": "code",
   "execution_count": 1,
   "metadata": {},
   "outputs": [
    {
     "name": "stdout",
     "output_type": "stream",
     "text": [
      "0.0024603330000000367\n"
     ]
    }
   ],
   "source": [
    "import time\n",
    "start = time.perf_counter()\n",
    "nums = []\n",
    "for n in range(10000):\n",
    "    nums.append(n**2)\n",
    "stop = time.perf_counter()\n",
    "elaspsed = stop-start\n",
    "print(elaspsed)"
   ]
  },
  {
   "cell_type": "code",
   "execution_count": 1,
   "metadata": {},
   "outputs": [
    {
     "name": "stdout",
     "output_type": "stream",
     "text": [
      "0.0011598000000958564\n"
     ]
    }
   ],
   "source": [
    "import time\n",
    "start = time.perf_counter()\n",
    "class Timer:\n",
    "    def __init__(self):\n",
    "        self.elapsed = 0\n",
    "    def __enter__(self):\n",
    "        self.start = time.perf_counter()\n",
    "        return self\n",
    "    def __exit__(self,exc_type,exc_val,exc_tb):\n",
    "        self.stop = time.perf_counter()\n",
    "        self.elapsed = self.stop-self.start\n",
    "        return False\n",
    "\n",
    "with Timer() as timer:  # 这时候会自动执行timer中的__enter__方法，timer指向的是__enter__方法的返回值\n",
    "    nums = []\n",
    "    for n in range(10000):\n",
    "        nums.append(n**2)\n",
    "    # 执行结束的时候会自动执行__exit__方法\n",
    "print(timer.elapsed)"
   ]
  },
  {
   "cell_type": "code",
   "execution_count": null,
   "metadata": {},
   "outputs": [],
   "source": [
    "with open('1.txt') as f:\n",
    "    pass"
   ]
  },
  {
   "cell_type": "markdown",
   "metadata": {},
   "source": [
    "上下文管理器一般用在\n",
    "* 开-关\n",
    "* 锁-释放\n",
    "* 启动-停止\n",
    "* 改变-重置"
   ]
  }
 ],
 "metadata": {
  "kernelspec": {
   "display_name": "Python 3",
   "language": "python",
   "name": "python3"
  },
  "language_info": {
   "codemirror_mode": {
    "name": "ipython",
    "version": 3
   },
   "file_extension": ".py",
   "mimetype": "text/x-python",
   "name": "python",
   "nbconvert_exporter": "python",
   "pygments_lexer": "ipython3",
   "version": "3.12.1"
  }
 },
 "nbformat": 4,
 "nbformat_minor": 2
}
