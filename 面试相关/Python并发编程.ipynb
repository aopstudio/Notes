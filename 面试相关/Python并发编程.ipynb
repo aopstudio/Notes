{
 "cells": [
  {
   "cell_type": "markdown",
   "metadata": {},
   "source": [
    "# 三者对比\n",
    "![](../images/Python并发编程/三者对比.png)"
   ]
  },
  {
   "cell_type": "markdown",
   "metadata": {},
   "source": [
    "# 三者选择\n",
    "![](../images/Python并发编程/三者选择.png)"
   ]
  },
  {
   "cell_type": "markdown",
   "metadata": {},
   "source": [
    "# 全局解释器锁\n",
    "## Python速度慢的两大原因\n",
    "1. Python是动态类型语言，边解释边执行\n",
    "2. GIL无法利用多核CPU并发执行\n",
    "## GIL是什么\n",
    "全局解释器锁是编程语言解释器用于同步线程的一种机制，它使得任何时刻只有一个线程在执行\n",
    "\n",
    "即便在多核心处理器上，使用GIL的解释器也只允许同一时间执行一个线程\n",
    "![](../images/Python并发编程/GIL.png)"
   ]
  },
  {
   "cell_type": "markdown",
   "metadata": {},
   "source": [
    "## 为什么会有GIL？\n",
    "在一个古老的单核CPU上调度多个线程任务，大家相互共享一个全局锁，谁在CPU执行，谁就占有这把锁，直到这个线程因为IO操作或者Timer Tick到期让出CPU，没有在执行的线程就安静的等待着这把锁。使用全局解释器锁的方案是最简单的\n",
    "\n",
    "由于多个线程同时对数据进行操作，会引发数据不一致，导致内存泄漏，我们可以对其进行加锁，所以Cpython就创建了GIL锁\n",
    "但是既然有了锁，一个对象就需要一把锁，那么多个对象就会有多把锁，可能会给我们带来2个问题\n",
    "\n",
    "1. 死锁（线程之间互相争抢锁的资源）\n",
    "2. 反复获取和释放锁而导致性能降低\n",
    "\n",
    "为了保证单线程情况下python的正常执行和效率，GIL锁（单一锁）由此产生了，它添加了一个规则，即任何Python字节码的执行都需要获取解释器锁。这样可以防止死锁（因为只有一个锁），并且不会带来太多的性能开销。但这实际上使所有受CPU约束的Python程序（指的是CPU密集型程序）都是单线程的。\n",
    "\n",
    "### 另一个思路：为什么 JVM 不需要 GIL？\n",
    "不妨思考这样一个问题：为什么 JVM 不需要 GIL ？试想一下，你费尽九牛二虎之力写了一个 Hash Map，准备丢给别人用，突然别人告诉你我会多线程同时访问你这个东西，此时你有两个选择：\n",
    "\n",
    "改造底层设计，例如给哈希空间中的每一个桶都加上锁，让整个 Hash Map 能在大部分情境下真正支持多线程并发；当然如果你这个 Map 带缩扩容之类的，那要改造成线程安全的就更麻烦了。\n",
    "\n",
    "直接给整个 Map 加一个全局锁，谁想访问就得先拿这个锁，一分钟改完。这里的 Map 就是 CPython，全局锁就是 GIL，只是复杂程度要高很多。\n",
    "\n",
    "CPython 在两种策略中选择了后者（这是 “CPython 的内存管理为什么不是线程安全的“ 的回答，选择如此），因此同一时刻永远只有一个线程在真正执行；而 JVM 在两种策略中选择了前者，使得它真正支持多核并发。\n",
    "\n",
    "但是后者并非除了省事之外就一无是处。选择后者，CPython 运行起来像是这样的：\n",
    "\n",
    "```\n",
    "取得GIL(); \n",
    "...\n",
    "...\n",
    "...\n",
    "释放GIL();\n",
    "```\n",
    "\n",
    "选择前者，CPython 运行起来就像这样：\n",
    "\n",
    "```\n",
    "取得某个锁();\n",
    "...\n",
    "释放某个锁();\n",
    "...\n",
    "...\n",
    "取得某个锁();\n",
    "...\n",
    "释放某个锁();\n",
    "```\n",
    "\n",
    "所以，对于解释型语言，支持线程多核并行是有代价的，就是单个线程效率的下降。一旦底层解释器采用了前者那样的设计，用更多小粒度的锁来替代一个大锁，那么即便是单线程程序，也会不可避免地在运行过程中有许多取得和释放锁的操作，会让效率大打折扣。\n",
    "\n",
    "线程效率不仅仅对单线程程序重要，比如，一些 IO 密集型的程序，看起来有很多线程，但大部分线程大多数时间都在挂机，实际疯狂干活的可能就一两个线程，这种场景下，单位线程效率也是非常重要的，即便用上 2 个核一起跑两个线程，单位线程效率下降多了，也未必快得了多少。\n",
    "\n",
    "总结一下，主要是出于历史原因和单位线程效率的考虑， CPython 至今还有 GIL"
   ]
  },
  {
   "cell_type": "markdown",
   "metadata": {},
   "source": [
    "## 有GIL一定线程安全吗？\n",
    "有GIL并不意味着python一定是线程安全的，那什么时候安全，什么时候不安全，我们必须搞清楚。之前我们已经说过，一个线程有两种情况下会释放全局解释器锁，一种情况是在该线程进入IO操作之前，会主动释放GIL。另一种情况是解释器不间断运行了1000字节码（Py2）或运行15毫秒（Py3）后，该线程也会放弃GIL。既然一个线程可能随时会失去GIL，那么这就一定会涉及到线程安全的问题。GIL虽然从设计的出发点就是考虑到线程安全，但这种线程安全是粗粒度的线程安全，即不需要程序员自己对线程进行加锁处理（同理，所谓细粒度就是指程序员需要自行加、解锁来保证线程安全，典型代表是 Java , 而 CPthon 中是粗粒度的锁，即语言层面本身维护着一个全局的锁机制,用来保证线程安全）。那么什么时候需要加锁，什么时候不需要加锁，这个需要具体情况具体分析。下面我们就来针对每种可能的情况进行分析和总结。\n",
    "\n",
    "首先来看第一种线程释放GIL的情况。假设现在线程A因为进入IO操作而主动释放了GIL，那么在这种情况下，由于线程A的IO操作等待时间不确定，那么等待的线程B一定会得到GIL锁，这种比较“礼貌的”情况我们一般称为“协同式多任务处理”，相当于大家按照协商好的规则来，线程是安全的，不需要额外加锁。\n",
    "\n",
    "接下来，我们来看另外一种情况，即线程A是因为解释器不间断执行了1000字节码的指令或不间断运行了15毫秒而放弃了GIL，那么此时实际上线程A和线程B将同时竞争GIL锁。在同时竞争的情况下，实际上谁会竞争成功是不确定的一个结果，所以一般被称为“抢占式多任务处理”，这种情况下当然就看谁抢得厉害了。当然，在python3上由于对GIL做了优化，并且会动态调整线程的优先级，所以线程B的优先级会比较高，但仍然无法肯定线程B就一定会拿到GIL。那么在这种情况下，线程可能就会出现不安全的状态。针对这种纯计算的操作，我们用一段代码来演示下这种线程不安全的状态。代码如下：\n"
   ]
  },
  {
   "cell_type": "code",
   "execution_count": 1,
   "metadata": {},
   "outputs": [
    {
     "name": "stdout",
     "output_type": "stream",
     "text": [
      "n的值为: 65763\n"
     ]
    }
   ],
   "source": [
    "import threading\n",
    "\n",
    "n = 0\n",
    "\n",
    "def add():\n",
    "    global n\n",
    "    for i in range(1000000):\n",
    "        n = n + 1\n",
    "def sub():\n",
    "    global n\n",
    "    for i in range(1000000):\n",
    "        n = n - 1\n",
    "\n",
    "if __name__ == \"__main__\":\n",
    "    t1 = threading.Thread(target=add)\n",
    "    t2 = threading.Thread(target=sub)\n",
    "\n",
    "    t1.start()\n",
    "    t2.start()\n",
    "\n",
    "    t1.join()\n",
    "    t2.join()\n",
    "\n",
    "    print(\"n的值为:\", n)\n"
   ]
  },
  {
   "cell_type": "markdown",
   "metadata": {},
   "source": [
    "上面的代码很简单，分别用线程1和线程2对全局变量n进行了1000000次的加和减操作。如果线程安全的话，那么最终的结果n应该还是为0。但实际上，我们运行之后，会发现这个n的值有时大有时小，完全不确定。这就是典型的多个线程操作同一个全局变量造成的线程不安全的问题。\n",
    "\n",
    "在线程中，我们主要是执行了一个加法和减法的操作。为了方便说明问题，我们把函数最简化到一个加法函数和一个减法函数，来分析它们的字节码执行过程，来看看释放GIL锁是怎么引起这个问题的。演示代码如下："
   ]
  },
  {
   "cell_type": "code",
   "execution_count": 2,
   "metadata": {},
   "outputs": [
    {
     "name": "stdout",
     "output_type": "stream",
     "text": [
      "  6           0 LOAD_GLOBAL              0 (n)\n",
      "              2 LOAD_CONST               1 (1)\n",
      "              4 BINARY_ADD\n",
      "              6 STORE_GLOBAL             0 (n)\n",
      "              8 LOAD_CONST               0 (None)\n",
      "             10 RETURN_VALUE\n",
      "None\n",
      " 12           0 LOAD_GLOBAL              0 (n)\n",
      "              2 LOAD_CONST               1 (1)\n",
      "              4 BINARY_SUBTRACT\n",
      "              6 STORE_GLOBAL             0 (n)\n",
      "              8 LOAD_CONST               0 (None)\n",
      "             10 RETURN_VALUE\n",
      "None\n"
     ]
    }
   ],
   "source": [
    "import dis\n",
    "n = 0\n",
    "\n",
    "def add():\n",
    "    global n\n",
    "    n = n + 1\n",
    "\n",
    "print(dis.dis(add))\n",
    "\n",
    "def sub():\n",
    "    global n\n",
    "    n = n - 1\n",
    "print(dis.dis(sub))"
   ]
  },
  {
   "cell_type": "markdown",
   "metadata": {},
   "source": [
    "dis模块中的dis方法可以打印出一个函数对应的字节码执行过程，所以非常方便我们进行分析。运行结果如上："
   ]
  },
  {
   "cell_type": "markdown",
   "metadata": {},
   "source": [
    "不管是加法还是减法运算，都会分为4步完成。以加法为例，第一步是LOAD_GLOBAL(加载全局变量n)，第二步LOAD_CONST(加载常量1)，第三步进行二进制的加法，第四步将计算结果存储到全局变量n中，加法计算结束。这四个指令如果能够保证被作为一个整体完整地运行，那么是不会产生问题的，但根据前面说的线程释放GIL的原则，那么很有可能在线程正在执行这四步中的任何一步的时候释放掉GIL而进入等待状态，这个时候发生的事情就比较有意思了。为了方便大家理解，我拿一种比较极端的情况来说明一下。比如我们在加法运算中，正准备执行第四步的时候，很不幸失去了GIL，进入等待状态（注意此时n值仍然为0）。减法运算的线程开始执行，它加载了全局变量n（值为0），并进行减法相关的计算，它也在执行第三步的时候失去了GIL，此时它进入等待状态，加法运算继续。上一次加法计算继续运行第4步，即把加法运算结果赋值给全局变量n，那么此时n的值为1。同样道理，减法操作拿回GIL时，它之前已经加载了为0的n的值，所以它继续操作到最后赋值那步时，n的值就为0-1=-1。换句话说，n的值要么为1，要么为-1，但我们期望的应该是0。这就造成了线程不安全的情形。最终，经过百万次这样不确定的加减操作，那么结果一定是不确定的。这就是引起这个问题的过程和原因。"
   ]
  },
  {
   "cell_type": "markdown",
   "metadata": {},
   "source": [
    "接下来，我们还要解决另外一个问题，也就是既然GIL从粗粒度情况下存在线程不安全的可能性，那么是不是所有非IO操作引起的GIL释放都要加锁来解决线程安全的问题。这个问题同样要分情况，因为python跟其他线程自由的语言比如 Java相比，它有很多操作是原子级的，针对原子级的操作，由于方法本身是单个字节码，所以线程没有办法在调用期间放弃GIL。典型的例子比如sort方法，我们同样可以看看这种原子级的操作在python的字节码中是什么样子，代码演示如下："
   ]
  },
  {
   "cell_type": "code",
   "execution_count": 3,
   "metadata": {},
   "outputs": [
    {
     "name": "stdout",
     "output_type": "stream",
     "text": [
      "  6           0 LOAD_GLOBAL              0 (lst)\n",
      "              2 LOAD_METHOD              1 (sort)\n",
      "              4 CALL_METHOD              0\n",
      "              6 POP_TOP\n",
      "              8 LOAD_CONST               0 (None)\n",
      "             10 RETURN_VALUE\n",
      "None\n"
     ]
    }
   ],
   "source": [
    "import dis\n",
    "\n",
    "lst = [4, 1, 3, 2]\n",
    "\n",
    "def foo():\n",
    "    lst.sort()\n",
    "\n",
    "print(dis.dis(foo))"
   ]
  },
  {
   "cell_type": "markdown",
   "metadata": {},
   "source": [
    "从字节码的角度，调用sort操作是原子级无法再分的，所以线程不会在执行期间发生GIL释放的情况，也就是说我们可以认为sort操作是线程安全的，不需要加锁。而我们上面演示的加法和减法操作则不是原子级的，所以我们必须要加锁才能保证线程安全。\n",
    "\n",
    "所以，总结一下，如果多线程的操作中不是IO密集型，并且计算操作不是原子级的操作时，那么我们需要考虑线程安全问题，否则都不需要考虑线程安全。当然，为了避免担心哪个操作是原子的，我们可以遵循一个简单的原则：始终围绕共享可变状态的读取和写入加锁。毕竟，在 Python 中获取一个 threading.Lock 也就是一行代码的事。"
   ]
  },
  {
   "cell_type": "markdown",
   "metadata": {},
   "source": [
    "## 怎样规避GIL带来的限制\n",
    "![](../images/Python并发编程/规避GIL.png)"
   ]
  },
  {
   "cell_type": "markdown",
   "metadata": {},
   "source": [
    "## Python创建多线程的方法"
   ]
  },
  {
   "cell_type": "code",
   "execution_count": 4,
   "metadata": {},
   "outputs": [
    {
     "name": "stderr",
     "output_type": "stream",
     "text": [
      "Exception in thread Thread-45:\n",
      "Traceback (most recent call last):\n",
      "  File \"/Users/cenzhedong/opt/anaconda3/lib/python3.9/threading.py\", line 973, in _bootstrap_inner\n",
      "    self.run()\n",
      "  File \"/Users/cenzhedong/opt/anaconda3/lib/python3.9/threading.py\", line 910, in run\n",
      "    self._target(*self._args, **self._kwargs)\n",
      "  File \"/var/folders/8j/9tptyt0x6cg58rglpp99p35w0000gn/T/ipykernel_88748/12809258.py\", line 3, in my_func\n",
      "NameError: name 'do_craw' is not defined\n"
     ]
    }
   ],
   "source": [
    "# 1. 准备一个函数\n",
    "def my_func(a,b):\n",
    "    do_craw(a,b)    # 执行爬虫方法\n",
    "# 2. 怎样创建一个线程\n",
    "import threading\n",
    "t = threading.Thread(target=my_func,args=(100,200))\n",
    "# 3. 启动线程\n",
    "t.start()\n",
    "# 4. 等待结束\n",
    "t.join()"
   ]
  },
  {
   "cell_type": "code",
   "execution_count": 1,
   "metadata": {},
   "outputs": [
    {
     "name": "stdout",
     "output_type": "stream",
     "text": [
      "https://www.cnblogs.com/#p1 72647\n"
     ]
    }
   ],
   "source": [
    "import requests\n",
    "urls = [\n",
    "    f'https://www.cnblogs.com/#p{page}' for page in range(1,50+1)\n",
    "]\n",
    "def craw(url):  # 爬虫代码\n",
    "    r=requests.get(url)\n",
    "    print(url,len(r.text))\n",
    "craw(urls[0])"
   ]
  },
  {
   "cell_type": "code",
   "execution_count": 4,
   "metadata": {},
   "outputs": [],
   "source": [
    "import threading\n",
    "\n",
    "def single_thread():    # 单线程爬虫\n",
    "    print('single thread begin')\n",
    "    for url in urls:\n",
    "        craw(url)\n",
    "    print('single thread end')\n",
    "def multi_thread():   # 多线程爬虫\n",
    "    print('multi thread begin')\n",
    "    threads = []\n",
    "    for url in urls:\n",
    "        threads.append(\n",
    "            threading.Thread(target=craw,args=(url,))\n",
    "        )\n",
    "    for thread in threads:\n",
    "        thread.start()\n",
    "    for thread in threads:\n",
    "        thread.join()\n",
    "    print('multi thread end')"
   ]
  },
  {
   "cell_type": "code",
   "execution_count": 7,
   "metadata": {},
   "outputs": [
    {
     "name": "stdout",
     "output_type": "stream",
     "text": [
      "single thread begin\n",
      "https://www.cnblogs.com/#p1 72645\n",
      "https://www.cnblogs.com/#p2 72645\n",
      "https://www.cnblogs.com/#p3 72645\n",
      "https://www.cnblogs.com/#p4 72645\n",
      "https://www.cnblogs.com/#p5 72645\n",
      "https://www.cnblogs.com/#p6 72645\n",
      "https://www.cnblogs.com/#p7 72645\n",
      "https://www.cnblogs.com/#p8 72645\n",
      "https://www.cnblogs.com/#p9 72645\n",
      "https://www.cnblogs.com/#p10 72645\n",
      "https://www.cnblogs.com/#p11 72645\n",
      "https://www.cnblogs.com/#p12 72645\n",
      "https://www.cnblogs.com/#p13 72645\n",
      "https://www.cnblogs.com/#p14 72645\n",
      "https://www.cnblogs.com/#p15 72645\n",
      "https://www.cnblogs.com/#p16 72645\n",
      "https://www.cnblogs.com/#p17 72645\n",
      "https://www.cnblogs.com/#p18 72645\n",
      "https://www.cnblogs.com/#p19 72645\n",
      "https://www.cnblogs.com/#p20 72645\n",
      "https://www.cnblogs.com/#p21 72645\n",
      "https://www.cnblogs.com/#p22 72645\n",
      "https://www.cnblogs.com/#p23 72645\n",
      "https://www.cnblogs.com/#p24 72645\n",
      "https://www.cnblogs.com/#p25 72645\n",
      "https://www.cnblogs.com/#p26 72645\n",
      "https://www.cnblogs.com/#p27 72645\n",
      "https://www.cnblogs.com/#p28 72645\n",
      "https://www.cnblogs.com/#p29 72645\n",
      "https://www.cnblogs.com/#p30 72645\n",
      "https://www.cnblogs.com/#p31 72645\n",
      "https://www.cnblogs.com/#p32 72645\n",
      "https://www.cnblogs.com/#p33 72645\n",
      "https://www.cnblogs.com/#p34 72645\n",
      "https://www.cnblogs.com/#p35 72645\n",
      "https://www.cnblogs.com/#p36 72645\n",
      "https://www.cnblogs.com/#p37 72645\n",
      "https://www.cnblogs.com/#p38 72645\n",
      "https://www.cnblogs.com/#p39 72645\n",
      "https://www.cnblogs.com/#p40 72645\n",
      "https://www.cnblogs.com/#p41 72645\n",
      "https://www.cnblogs.com/#p42 72645\n",
      "https://www.cnblogs.com/#p43 72647\n",
      "https://www.cnblogs.com/#p44 72647\n",
      "https://www.cnblogs.com/#p45 72647\n",
      "https://www.cnblogs.com/#p46 72647\n",
      "https://www.cnblogs.com/#p47 72647\n",
      "https://www.cnblogs.com/#p48 72647\n",
      "https://www.cnblogs.com/#p49 72647\n",
      "https://www.cnblogs.com/#p50 72647\n",
      "single thread end\n",
      "single thread cost: 5.421351194381714 seconds\n"
     ]
    }
   ],
   "source": [
    "import time\n",
    "start = time.time()\n",
    "single_thread()\n",
    "end = time.time()\n",
    "print('single thread cost:',end-start,\"seconds\")\n"
   ]
  },
  {
   "cell_type": "code",
   "execution_count": 5,
   "metadata": {},
   "outputs": [
    {
     "name": "stdout",
     "output_type": "stream",
     "text": [
      "multi thread begin\n",
      "https://www.cnblogs.com/#p5 72647\n",
      "https://www.cnblogs.com/#p2 72647\n",
      "https://www.cnblogs.com/#p1 72647\n",
      "https://www.cnblogs.com/#p4 72647\n",
      "https://www.cnblogs.com/#p27 72647\n",
      "https://www.cnblogs.com/#p41https://www.cnblogs.com/#p47 72647\n",
      " 72647\n",
      "https://www.cnblogs.com/#p31https://www.cnblogs.com/#p44https://www.cnblogs.com/#p18 72647\n",
      "https://www.cnblogs.com/#p16https://www.cnblogs.com/#p36 72647\n",
      "https://www.cnblogs.com/#p22 https://www.cnblogs.com/#p40 72647  https://www.cnblogs.com/#p48  72647\n",
      "https://www.cnblogs.com/#p45 \n",
      "726477264772647\n",
      "7264772647\n",
      "\n",
      "https://www.cnblogs.com/#p42 72647\n",
      "\n",
      "https://www.cnblogs.com/#p29 72647\n",
      "https://www.cnblogs.com/#p26\n",
      "https://www.cnblogs.com/#p23 72647\n",
      " https://www.cnblogs.com/#p50 72647\n",
      "72647https://www.cnblogs.com/#p12\n",
      "https://www.cnblogs.com/#p21 72647\n",
      " 72647\n",
      "https://www.cnblogs.com/#p34https://www.cnblogs.com/#p39 72647\n",
      "https://www.cnblogs.com/#p38 72647\n",
      "https://www.cnblogs.com/#p15 72647\n",
      "https://www.cnblogs.com/#p10https://www.cnblogs.com/#p33  72647\n",
      "72647\n",
      " https://www.cnblogs.com/#p17https://www.cnblogs.com/#p25https://www.cnblogs.com/#p32 72647\n",
      "72647\n",
      " 72647\n",
      "https://www.cnblogs.com/#p14https://www.cnblogs.com/#p46 72647\n",
      "https://www.cnblogs.com/#p11   72647\n",
      "72647\n",
      "72647\n",
      "https://www.cnblogs.com/#p19https://www.cnblogs.com/#p8 72647\n",
      "https://www.cnblogs.com/#p13https://www.cnblogs.com/#p37 72647\n",
      "  https://www.cnblogs.com/#p2472647 72647\n",
      "72647https://www.cnblogs.com/#p43 72647\n",
      "\n",
      "\n",
      "https://www.cnblogs.com/#p30 72647\n",
      "https://www.cnblogs.com/#p49 72647\n",
      "https://www.cnblogs.com/#p20 72647\n",
      "https://www.cnblogs.com/#p9 72647\n",
      "https://www.cnblogs.com/#p6 72647\n",
      "https://www.cnblogs.com/#p7 72647\n",
      "https://www.cnblogs.com/#p3 72647\n",
      "https://www.cnblogs.com/#p28 72647\n",
      "https://www.cnblogs.com/#p35 72647\n",
      "multi thread end\n",
      "multi thread cost: 0.651907205581665 seconds\n"
     ]
    }
   ],
   "source": [
    "start = time.time()\n",
    "multi_thread()\n",
    "end = time.time()\n",
    "print('multi thread cost:',end-start,\"seconds\")"
   ]
  },
  {
   "cell_type": "markdown",
   "metadata": {},
   "source": [
    "## 多组件的Pipeline技术架构\n",
    "复杂的事情一般不会一下子做完，而是会分很多中间步骤一步步完成\n",
    "## 生产者消费者爬虫的架构\n",
    "![](../images/Python并发编程/爬虫架构.png)"
   ]
  },
  {
   "cell_type": "markdown",
   "metadata": {},
   "source": [
    "## 多线程数据通信的queue.Queue\n",
    "可以用于多线程之间的，线程安全（并发同时访问数据不会出现数据冲突）的数据通信\n",
    "\n",
    "1. 导入类库\n",
    "import queue\n",
    "2. 创建Queue\n",
    "q = queue.Queue()\n",
    "3. 添加元素(阻塞的)\n",
    "q.put(item)\n",
    "4. 获取元素(阻塞的)\n",
    "item = q.get()\n",
    "5. 查询状态\n",
    "    * 查看元素的多少\n",
    "    q.qsize()\n",
    "    * 判断是否为空\n",
    "    q.empty()\n",
    "    * 判断是否已满\n",
    "    q.full()"
   ]
  },
  {
   "cell_type": "code",
   "execution_count": 9,
   "metadata": {},
   "outputs": [
    {
     "data": {
      "text/plain": [
       "[('https://www.cnblogs.com/shudaoshan/p/18151059',\n",
       "  '鸿蒙HarmonyOS实战-ArkUI动画（弹簧曲线动画）'),\n",
       " ('https://www.cnblogs.com/FatTiger4399/p/18146367', '低开开发笔记(四)：实现编辑器内拖拽'),\n",
       " ('https://www.cnblogs.com/ITnoteforlsy/p/18148656',\n",
       "  'Qt 从 QTransform 逆向解出 Translate/Scale/Rotate（平移/缩放/旋转）分析'),\n",
       " ('https://www.cnblogs.com/isharetech/p/18150815',\n",
       "  '深度解读《深度探索C++对象模型》之数据成员的存取效率分析（三）'),\n",
       " ('https://www.cnblogs.com/Yesi/p/18150797', '使用C# 创建、填写、删除PDF表单域'),\n",
       " ('https://www.cnblogs.com/mingupupu/p/18150708', 'WPF/C#：如何显示具有层级关系的数据'),\n",
       " ('https://www.cnblogs.com/xiaoqi/p/18150639/golang-sparse-retrival',\n",
       "  '浅谈sparse vec检索工程化实现'),\n",
       " ('https://www.cnblogs.com/guzb/p/18108245/difference-of-thread-pool-implementation',\n",
       "  '线程池的运行逻辑与你想象的不一样，它是池族中的异类'),\n",
       " ('https://www.cnblogs.com/fkxxgis/p/18150594', 'ArcPy自动绘制大量地图并设置地图要素：Python'),\n",
       " ('https://www.cnblogs.com/crossoverJie/p/18150585',\n",
       "  '日志架构演进：从集中式到分布式的Kubernetes日志策略'),\n",
       " ('https://www.cnblogs.com/VincentLee/p/18150445',\n",
       "  'LORS：腾讯提出低秩残差结构，瘦身模型不掉点 | CVPR 2024'),\n",
       " ('https://www.cnblogs.com/du-hong/p/17835685.html',\n",
       "  '《最新出炉》系列初窥篇-Python+Playwright自动化测试-38-如何截图-下篇'),\n",
       " ('https://www.cnblogs.com/beckyyyy/p/18150425', 'CSS之定位Position'),\n",
       " ('https://www.cnblogs.com/thisiswhy/p/18150414', '五年前，我写错了一道面试题。'),\n",
       " ('https://www.cnblogs.com/flydean/p/18150293', '轻松复现一张AI图片'),\n",
       " ('https://www.cnblogs.com/cmt/p/18150234', '上周热点回顾（4.15-4.21）'),\n",
       " ('https://www.cnblogs.com/pengjiali/p/18150115', 'vue3 快速入门系列 —— 其他API'),\n",
       " ('https://www.cnblogs.com/strick/p/17894572.html', '带团队后的日常思考（十四）'),\n",
       " ('https://www.cnblogs.com/ryanyangcs/p/18150072',\n",
       "  '见鬼了！我家的 WiFi 只有下雨天才能正常使用...'),\n",
       " ('https://www.cnblogs.com/huaweiyun/p/18150020',\n",
       "  '如何基于Django中的WebSockets和异步视图来实现实时通信功能')]"
      ]
     },
     "execution_count": 9,
     "metadata": {},
     "output_type": "execute_result"
    }
   ],
   "source": [
    "from bs4 import BeautifulSoup\n",
    "def craw(url):\n",
    "    r=requests.get(url)\n",
    "    return r.text\n",
    "\n",
    "def parse(html):\n",
    "    # class=\"post-item-title\"\n",
    "    soup = BeautifulSoup(html,\"html.parser\")\n",
    "    links = soup.find_all(\"a\",class_=\"post-item-title\")\n",
    "    return [(link[\"href\"],link.get_text()) for link in links]\n",
    "\n",
    "parse(craw(urls[1]))"
   ]
  },
  {
   "cell_type": "markdown",
   "metadata": {},
   "source": [
    "## 生产者消费者版本的爬虫"
   ]
  },
  {
   "cell_type": "code",
   "execution_count": 10,
   "metadata": {},
   "outputs": [],
   "source": [
    "import queue\n",
    "import random\n",
    "def do_craw(url_queue:queue.Queue,html_queue:queue.Queue):\n",
    "    while True:\n",
    "        url = url_queue.get()\n",
    "        html = craw(url)\n",
    "        html_queue.put(html)\n",
    "        print(threading.current_thread().name,f\"craw {url}\",\"url_queue.size=\",url_queue.qsize())\n",
    "        time.sleep(random.randint(1,2))\n",
    "\n",
    "def do_parse(html_queue: queue.Queue,fout):\n",
    "    while True:\n",
    "        html = html_queue.get()\n",
    "        results = parse(html)\n",
    "        for result in results:\n",
    "            fout.write(str(result)+'\\n')\n",
    "        print(threading.current_thread().name,f\"result.size\",len(results),\"html_queue.size=\",html_queue.qsize())\n",
    "        time.sleep(random.randint(1,2))\n",
    "\n",
    "# url_queue = queue.Queue()\n",
    "# html_queue = queue.Queue()\n",
    "# for url in urls:\n",
    "#     url_queue.put(url)\n",
    "# for idx in range(3):    # 三个线程下载网页\n",
    "#     t=threading.Thread(target=do_craw, args=(url_queue,html_queue),name=f\"craw{idx}\")\n",
    "#     t.start()\n",
    "\n",
    "# fout = open('02.data.txt','w')\n",
    "# for idx in range(2):    # 两个线程解析网页并存储\n",
    "#     t=threading.Thread(target=do_parse, args=(html_queue,fout),name=f\"parse{idx}\")\n",
    "#     t.start()\n"
   ]
  },
  {
   "cell_type": "markdown",
   "metadata": {},
   "source": [
    "## 线程安全概念介绍\n",
    "线程安全指的是某个函数、函数库在多线程环境中被调用时，能够正确的处理多个线程之间的共享变量，使得程序功能正确完成\n",
    "\n",
    "由于线程的执行随时会发生切换，就造成了不可预料的结果，出现线程不安全"
   ]
  },
  {
   "cell_type": "code",
   "execution_count": 11,
   "metadata": {},
   "outputs": [
    {
     "name": "stdout",
     "output_type": "stream",
     "text": [
      "ta 取钱成功\n",
      "ta 余额 200\n",
      "tb 取钱失败，余额不足\n"
     ]
    }
   ],
   "source": [
    "class Account:\n",
    "    def __init__(self,balance):\n",
    "        self.balance = balance\n",
    "def draw(account, amount):\n",
    "    if account.balance>=amount:\n",
    "        print(threading.current_thread().name,\"取钱成功\")\n",
    "        account.balance -= amount\n",
    "        print(threading.current_thread().name,\"余额\",account.balance)\n",
    "    else:\n",
    "        print(threading.current_thread().name,\"取钱失败，余额不足\")\n",
    "account = Account(1000)\n",
    "ta = threading.Thread(name='ta',target=draw,args=(account,800))\n",
    "tb = threading.Thread(name='tb',target=draw,args=(account,800))\n",
    "\n",
    "ta.start()\n",
    "tb.start()"
   ]
  },
  {
   "cell_type": "code",
   "execution_count": 12,
   "metadata": {},
   "outputs": [],
   "source": [
    "class Account:\n",
    "    def __init__(self,balance):\n",
    "        self.balance = balance\n",
    "def draw(account, amount):\n",
    "    if account.balance>=amount:\n",
    "        time.sleep(0.1) # 加上这句后必然出问题\n",
    "        print(threading.current_thread().name,\"取钱成功\")\n",
    "        account.balance -= amount\n",
    "        print(threading.current_thread().name,\"余额\",account.balance)\n",
    "    else:\n",
    "        print(threading.current_thread().name,\"取钱失败，余额不足\")\n",
    "account = Account(1000)\n",
    "ta = threading.Thread(name='ta',target=draw,args=(account,800))\n",
    "tb = threading.Thread(name='tb',target=draw,args=(account,800))\n",
    "\n",
    "ta.start()\n",
    "tb.start()"
   ]
  },
  {
   "cell_type": "markdown",
   "metadata": {},
   "source": [
    "## 修改线程不安全的代码"
   ]
  },
  {
   "cell_type": "code",
   "execution_count": 13,
   "metadata": {},
   "outputs": [],
   "source": [
    "lock = threading.Lock()\n",
    "class Account:\n",
    "    def __init__(self,balance):\n",
    "        self.balance = balance\n",
    "def draw(account, amount):\n",
    "    with lock:\n",
    "        if account.balance>=amount:\n",
    "            time.sleep(1) # 使用lock后，第二个线程无法进入，这里会有1秒啥也不干\n",
    "            print(threading.current_thread().name,\"取钱成功\")\n",
    "            account.balance -= amount\n",
    "            print(threading.current_thread().name,\"余额\",account.balance)\n",
    "        else:\n",
    "            print(threading.current_thread().name,\"取钱失败，余额不足\")\n",
    "account = Account(1000)\n",
    "ta = threading.Thread(name='ta',target=draw,args=(account,800))\n",
    "tb = threading.Thread(name='tb',target=draw,args=(account,800))\n",
    "\n",
    "ta.start()\n",
    "tb.start()"
   ]
  },
  {
   "cell_type": "markdown",
   "metadata": {},
   "source": [
    "# 线程池ThreadPoolExecutor\n",
    "## 线程池的原理\n",
    "新建线程系统需要分配资源，终止线程系统需要回收资源，如果可以重用线程，则可以减去新建/终止的开销\n",
    "![](../images/Python并发编程/线程池.png)\n",
    "## 使用线程池的好处\n",
    "1. 提升性能：因为建去了大量新建终止线程的开销，重用了线程资源\n",
    "2. 使用场景：适合处理突发性大量请求或需要大量线程完成任务，但实际任务处理时间较短\n",
    "3. 防御功能：能有效避免系统因为创建线程过多，而导致系统负荷过大响应变慢等问题\n",
    "4. 代码优势：比手动新建线程更加简洁优雅\n",
    "## 线程池语法\n",
    "![](../images/Python并发编程/线程池语法.png)"
   ]
  },
  {
   "cell_type": "code",
   "execution_count": 14,
   "metadata": {},
   "outputs": [
    {
     "name": "stdout",
     "output_type": "stream",
     "text": [
      "tb 取钱成功\n",
      "tb 余额 200\n",
      "ta 取钱成功\n",
      "ta 余额 -600\n",
      "https://www.cnblogs.com/#p1 72647\n",
      "https://www.cnblogs.com/#p2 72647\n",
      "https://www.cnblogs.com/#p3 72647\n",
      "https://www.cnblogs.com/#p4 72647\n",
      "https://www.cnblogs.com/#p5 72647\n",
      "https://www.cnblogs.com/#p6 72647\n",
      "https://www.cnblogs.com/#p7 72647\n",
      "https://www.cnblogs.com/#p8 72647\n",
      "https://www.cnblogs.com/#p9 72647\n",
      "https://www.cnblogs.com/#p10 72647\n",
      "https://www.cnblogs.com/#p11 72647\n",
      "https://www.cnblogs.com/#p12 72647\n",
      "https://www.cnblogs.com/#p13 72647\n",
      "https://www.cnblogs.com/#p14 72647\n",
      "https://www.cnblogs.com/#p15 72647\n",
      "https://www.cnblogs.com/#p16 72647\n",
      "https://www.cnblogs.com/#p17 72647\n",
      "https://www.cnblogs.com/#p18 72647\n",
      "https://www.cnblogs.com/#p19 72647\n",
      "https://www.cnblogs.com/#p20 72647\n",
      "https://www.cnblogs.com/#p21 72647\n",
      "https://www.cnblogs.com/#p22 72647\n",
      "https://www.cnblogs.com/#p23 72647\n",
      "https://www.cnblogs.com/#p24 72647\n",
      "https://www.cnblogs.com/#p25 72647\n",
      "https://www.cnblogs.com/#p26 72647\n",
      "https://www.cnblogs.com/#p27 72647\n",
      "https://www.cnblogs.com/#p28 72647\n",
      "https://www.cnblogs.com/#p29 72647\n",
      "https://www.cnblogs.com/#p30 72647\n",
      "https://www.cnblogs.com/#p31 72647\n",
      "https://www.cnblogs.com/#p32 72647\n",
      "https://www.cnblogs.com/#p33 72647\n",
      "https://www.cnblogs.com/#p34 72647\n",
      "https://www.cnblogs.com/#p35 72647\n",
      "https://www.cnblogs.com/#p36 72647\n",
      "https://www.cnblogs.com/#p37 72647\n",
      "https://www.cnblogs.com/#p38 72647\n",
      "https://www.cnblogs.com/#p39 72647\n",
      "https://www.cnblogs.com/#p40 72647\n",
      "https://www.cnblogs.com/#p41 72647\n",
      "https://www.cnblogs.com/#p42 72647\n",
      "https://www.cnblogs.com/#p43 72647\n",
      "https://www.cnblogs.com/#p44 72647\n",
      "https://www.cnblogs.com/#p45 72647\n",
      "https://www.cnblogs.com/#p46 72647\n",
      "https://www.cnblogs.com/#p47 72647\n",
      "https://www.cnblogs.com/#p48 72647\n",
      "https://www.cnblogs.com/#p49 72647\n",
      "https://www.cnblogs.com/#p50 72647\n",
      "craw over\n"
     ]
    }
   ],
   "source": [
    "import concurrent.futures\n",
    "\n",
    "# craw\n",
    "with concurrent.futures.ThreadPoolExecutor() as pool:\n",
    "    htmls=pool.map(craw,urls)\n",
    "    htmls = list(zip(urls,htmls))\n",
    "    for url,html in htmls:\n",
    "        print(url,len(html))\n",
    "\n",
    "print(\"craw over\")\n"
   ]
  },
  {
   "cell_type": "code",
   "execution_count": 15,
   "metadata": {},
   "outputs": [
    {
     "name": "stdout",
     "output_type": "stream",
     "text": [
      "ta https://www.cnblogs.com/#p24取钱成功 \n",
      "[('https://www.cnblogs.com/shudaoshan/p/18151059', '鸿蒙HarmonyOS实战-ArkUI动画（弹簧曲线动画）'), ('https://www.cnblogs.com/FatTiger4399/p/18146367', '低开开发笔记(四)：实现编辑器内拖拽'), ('https://www.cnblogs.com/ITnoteforlsy/p/18148656', 'Qt 从 QTransform 逆向解出 Translate/Scale/Rotate（平移/缩放/旋转）分析'), ('https://www.cnblogs.com/isharetech/p/18150815', '深度解读《深度探索C++对象模型》之数据成员的存取效率分析（三）'), ('https://www.cnblogs.com/Yesi/p/18150797', '使用C# 创建、填写、删除PDF表单域'), ('https://www.cnblogs.com/mingupupu/p/18150708', 'WPF/C#：如何显示具有层级关系的数据'), ('https://www.cnblogs.com/xiaoqi/p/18150639/golang-sparse-retrival', '浅谈sparse vec检索工程化实现'), ('https://www.cnblogs.com/guzb/p/18108245/difference-of-thread-pool-implementation', '线程池的运行逻辑与你想象的不一样，它是池族中的异类'), ('https://www.cnblogs.com/fkxxgis/p/18150594', 'ArcPy自动绘制大量地图并设置地图要素：Python'), ('https://www.cnblogs.com/crossoverJie/p/18150585', '日志架构演进：从集中式到分布式的Kubernetes日志策略'), ('https://www.cnblogs.com/VincentLee/p/18150445', 'LORS：腾讯提出低秩残差结构，瘦身模型不掉点 | CVPR 2024'), ('https://www.cnblogs.com/du-hong/p/17835685.html', '《最新出炉》系列初窥篇-Python+Playwright自动化测试-38-如何截图-下篇'), ('https://www.cnblogs.com/beckyyyy/p/18150425', 'CSS之定位Position'), ('https://www.cnblogs.com/thisiswhy/p/18150414', '五年前，我写错了一道面试题。'), ('https://www.cnblogs.com/flydean/p/18150293', '轻松复现一张AI图片'), ('https://www.cnblogs.com/cmt/p/18150234', '上周热点回顾（4.15-4.21）'), ('https://www.cnblogs.com/pengjiali/p/18150115', 'vue3 快速入门系列 —— 其他API'), ('https://www.cnblogs.com/strick/p/17894572.html', '带团队后的日常思考（十四）'), ('https://www.cnblogs.com/ryanyangcs/p/18150072', '见鬼了！我家的 WiFi 只有下雨天才能正常使用...'), ('https://www.cnblogs.com/huaweiyun/p/18150020', '如何基于Django中的WebSockets和异步视图来实现实时通信功能')]ta 余额 \n",
      "200https://www.cnblogs.com/#p17 [('https://www.cnblogs.com/shudaoshan/p/18151059', '鸿蒙HarmonyOS实战-ArkUI动画（弹簧曲线动画）'), ('https://www.cnblogs.com/FatTiger4399/p/18146367', '低开开发笔记(四)：实现编辑器内拖拽'), ('https://www.cnblogs.com/ITnoteforlsy/p/18148656', 'Qt 从 QTransform 逆向解出 Translate/Scale/Rotate（平移/缩放/旋转）分析'), ('https://www.cnblogs.com/isharetech/p/18150815', '深度解读《深度探索C++对象模型》之数据成员的存取效率分析（三）'), ('https://www.cnblogs.com/Yesi/p/18150797', '使用C# 创建、填写、删除PDF表单域'), ('https://www.cnblogs.com/mingupupu/p/18150708', 'WPF/C#：如何显示具有层级关系的数据'), ('https://www.cnblogs.com/xiaoqi/p/18150639/golang-sparse-retrival', '浅谈sparse vec检索工程化实现'), ('https://www.cnblogs.com/guzb/p/18108245/difference-of-thread-pool-implementation', '线程池的运行逻辑与你想象的不一样，它是池族中的异类'), ('https://www.cnblogs.com/fkxxgis/p/18150594', 'ArcPy自动绘制大量地图并设置地图要素：Python'), ('https://www.cnblogs.com/crossoverJie/p/18150585', '日志架构演进：从集中式到分布式的Kubernetes日志策略'), ('https://www.cnblogs.com/VincentLee/p/18150445', 'LORS：腾讯提出低秩残差结构，瘦身模型不掉点 | CVPR 2024'), ('https://www.cnblogs.com/du-hong/p/17835685.html', '《最新出炉》系列初窥篇-Python+Playwright自动化测试-38-如何截图-下篇'), ('https://www.cnblogs.com/beckyyyy/p/18150425', 'CSS之定位Position'), ('https://www.cnblogs.com/thisiswhy/p/18150414', '五年前，我写错了一道面试题。'), ('https://www.cnblogs.com/flydean/p/18150293', '轻松复现一张AI图片'), ('https://www.cnblogs.com/cmt/p/18150234', '上周热点回顾（4.15-4.21）'), ('https://www.cnblogs.com/pengjiali/p/18150115', 'vue3 快速入门系列 —— 其他API'), ('https://www.cnblogs.com/strick/p/17894572.html', '带团队后的日常思考（十四）'), ('https://www.cnblogs.com/ryanyangcs/p/18150072', '见鬼了！我家的 WiFi 只有下雨天才能正常使用...'), ('https://www.cnblogs.com/huaweiyun/p/18150020', '如何基于Django中的WebSockets和异步视图来实现实时通信功能')]\n",
      "https://www.cnblogs.com/#p9 [('https://www.cnblogs.com/shudaoshan/p/18151059', '鸿蒙HarmonyOS实战-ArkUI动画（弹簧曲线动画）'), ('https://www.cnblogs.com/FatTiger4399/p/18146367', '低开开发笔记(四)：实现编辑器内拖拽'), ('https://www.cnblogs.com/ITnoteforlsy/p/18148656', 'Qt 从 QTransform 逆向解出 Translate/Scale/Rotate（平移/缩放/旋转）分析'), ('https://www.cnblogs.com/isharetech/p/18150815', '深度解读《深度探索C++对象模型》之数据成员的存取效率分析（三）'), ('https://www.cnblogs.com/Yesi/p/18150797', '使用C# 创建、填写、删除PDF表单域'), ('https://www.cnblogs.com/mingupupu/p/18150708', 'WPF/C#：如何显示具有层级关系的数据'), ('https://www.cnblogs.com/xiaoqi/p/18150639/golang-sparse-retrival', '浅谈sparse vec检索工程化实现'), ('https://www.cnblogs.com/guzb/p/18108245/difference-of-thread-pool-implementation', '线程池的运行逻辑与你想象的不一样，它是池族中的异类'), ('https://www.cnblogs.com/fkxxgis/p/18150594', 'ArcPy自动绘制大量地图并设置地图要素：Python'), ('https://www.cnblogs.com/crossoverJie/p/18150585', '日志架构演进：从集中式到分布式的Kubernetes日志策略'), ('https://www.cnblogs.com/VincentLee/p/18150445', 'LORS：腾讯提出低秩残差结构，瘦身模型不掉点 | CVPR 2024'), ('https://www.cnblogs.com/du-hong/p/17835685.html', '《最新出炉》系列初窥篇-Python+Playwright自动化测试-38-如何截图-下篇'), ('https://www.cnblogs.com/beckyyyy/p/18150425', 'CSS之定位Position'), ('https://www.cnblogs.com/thisiswhy/p/18150414', '五年前，我写错了一道面试题。'), ('https://www.cnblogs.com/flydean/p/18150293', '轻松复现一张AI图片'), ('https://www.cnblogs.com/cmt/p/18150234', '上周热点回顾（4.15-4.21）'), ('https://www.cnblogs.com/pengjiali/p/18150115', 'vue3 快速入门系列 —— 其他API'), ('https://www.cnblogs.com/strick/p/17894572.html', '带团队后的日常思考（十四）'), ('https://www.cnblogs.com/ryanyangcs/p/18150072', '见鬼了！我家的 WiFi 只有下雨天才能正常使用...'), ('https://www.cnblogs.com/huaweiyun/p/18150020', '如何基于Django中的WebSockets和异步视图来实现实时通信功能')]\n",
      "\n",
      "tb 取钱失败，余额不足\n",
      "https://www.cnblogs.com/#p28 [('https://www.cnblogs.com/shudaoshan/p/18151059', '鸿蒙HarmonyOS实战-ArkUI动画（弹簧曲线动画）'), ('https://www.cnblogs.com/FatTiger4399/p/18146367', '低开开发笔记(四)：实现编辑器内拖拽'), ('https://www.cnblogs.com/ITnoteforlsy/p/18148656', 'Qt 从 QTransform 逆向解出 Translate/Scale/Rotate（平移/缩放/旋转）分析'), ('https://www.cnblogs.com/isharetech/p/18150815', '深度解读《深度探索C++对象模型》之数据成员的存取效率分析（三）'), ('https://www.cnblogs.com/Yesi/p/18150797', '使用C# 创建、填写、删除PDF表单域'), ('https://www.cnblogs.com/mingupupu/p/18150708', 'WPF/C#：如何显示具有层级关系的数据'), ('https://www.cnblogs.com/xiaoqi/p/18150639/golang-sparse-retrival', '浅谈sparse vec检索工程化实现'), ('https://www.cnblogs.com/guzb/p/18108245/difference-of-thread-pool-implementation', '线程池的运行逻辑与你想象的不一样，它是池族中的异类'), ('https://www.cnblogs.com/fkxxgis/p/18150594', 'ArcPy自动绘制大量地图并设置地图要素：Python'), ('https://www.cnblogs.com/crossoverJie/p/18150585', '日志架构演进：从集中式到分布式的Kubernetes日志策略'), ('https://www.cnblogs.com/VincentLee/p/18150445', 'LORS：腾讯提出低秩残差结构，瘦身模型不掉点 | CVPR 2024'), ('https://www.cnblogs.com/du-hong/p/17835685.html', '《最新出炉》系列初窥篇-Python+Playwright自动化测试-38-如何截图-下篇'), ('https://www.cnblogs.com/beckyyyy/p/18150425', 'CSS之定位Position'), ('https://www.cnblogs.com/thisiswhy/p/18150414', '五年前，我写错了一道面试题。'), ('https://www.cnblogs.com/flydean/p/18150293', '轻松复现一张AI图片'), ('https://www.cnblogs.com/cmt/p/18150234', '上周热点回顾（4.15-4.21）'), ('https://www.cnblogs.com/pengjiali/p/18150115', 'vue3 快速入门系列 —— 其他API'), ('https://www.cnblogs.com/strick/p/17894572.html', '带团队后的日常思考（十四）'), ('https://www.cnblogs.com/ryanyangcs/p/18150072', '见鬼了！我家的 WiFi 只有下雨天才能正常使用...'), ('https://www.cnblogs.com/huaweiyun/p/18150020', '如何基于Django中的WebSockets和异步视图来实现实时通信功能')]\n",
      "https://www.cnblogs.com/#p4 [('https://www.cnblogs.com/shudaoshan/p/18151059', '鸿蒙HarmonyOS实战-ArkUI动画（弹簧曲线动画）'), ('https://www.cnblogs.com/FatTiger4399/p/18146367', '低开开发笔记(四)：实现编辑器内拖拽'), ('https://www.cnblogs.com/ITnoteforlsy/p/18148656', 'Qt 从 QTransform 逆向解出 Translate/Scale/Rotate（平移/缩放/旋转）分析'), ('https://www.cnblogs.com/isharetech/p/18150815', '深度解读《深度探索C++对象模型》之数据成员的存取效率分析（三）'), ('https://www.cnblogs.com/Yesi/p/18150797', '使用C# 创建、填写、删除PDF表单域'), ('https://www.cnblogs.com/mingupupu/p/18150708', 'WPF/C#：如何显示具有层级关系的数据'), ('https://www.cnblogs.com/xiaoqi/p/18150639/golang-sparse-retrival', '浅谈sparse vec检索工程化实现'), ('https://www.cnblogs.com/guzb/p/18108245/difference-of-thread-pool-implementation', '线程池的运行逻辑与你想象的不一样，它是池族中的异类'), ('https://www.cnblogs.com/fkxxgis/p/18150594', 'ArcPy自动绘制大量地图并设置地图要素：Python'), ('https://www.cnblogs.com/crossoverJie/p/18150585', '日志架构演进：从集中式到分布式的Kubernetes日志策略'), ('https://www.cnblogs.com/VincentLee/p/18150445', 'LORS：腾讯提出低秩残差结构，瘦身模型不掉点 | CVPR 2024'), ('https://www.cnblogs.com/du-hong/p/17835685.html', '《最新出炉》系列初窥篇-Python+Playwright自动化测试-38-如何截图-下篇'), ('https://www.cnblogs.com/beckyyyy/p/18150425', 'CSS之定位Position'), ('https://www.cnblogs.com/thisiswhy/p/18150414', '五年前，我写错了一道面试题。'), ('https://www.cnblogs.com/flydean/p/18150293', '轻松复现一张AI图片'), ('https://www.cnblogs.com/cmt/p/18150234', '上周热点回顾（4.15-4.21）'), ('https://www.cnblogs.com/pengjiali/p/18150115', 'vue3 快速入门系列 —— 其他API'), ('https://www.cnblogs.com/strick/p/17894572.html', '带团队后的日常思考（十四）'), ('https://www.cnblogs.com/ryanyangcs/p/18150072', '见鬼了！我家的 WiFi 只有下雨天才能正常使用...'), ('https://www.cnblogs.com/huaweiyun/p/18150020', '如何基于Django中的WebSockets和异步视图来实现实时通信功能')]\n",
      "https://www.cnblogs.com/#p25 [('https://www.cnblogs.com/shudaoshan/p/18151059', '鸿蒙HarmonyOS实战-ArkUI动画（弹簧曲线动画）'), ('https://www.cnblogs.com/FatTiger4399/p/18146367', '低开开发笔记(四)：实现编辑器内拖拽'), ('https://www.cnblogs.com/ITnoteforlsy/p/18148656', 'Qt 从 QTransform 逆向解出 Translate/Scale/Rotate（平移/缩放/旋转）分析'), ('https://www.cnblogs.com/isharetech/p/18150815', '深度解读《深度探索C++对象模型》之数据成员的存取效率分析（三）'), ('https://www.cnblogs.com/Yesi/p/18150797', '使用C# 创建、填写、删除PDF表单域'), ('https://www.cnblogs.com/mingupupu/p/18150708', 'WPF/C#：如何显示具有层级关系的数据'), ('https://www.cnblogs.com/xiaoqi/p/18150639/golang-sparse-retrival', '浅谈sparse vec检索工程化实现'), ('https://www.cnblogs.com/guzb/p/18108245/difference-of-thread-pool-implementation', '线程池的运行逻辑与你想象的不一样，它是池族中的异类'), ('https://www.cnblogs.com/fkxxgis/p/18150594', 'ArcPy自动绘制大量地图并设置地图要素：Python'), ('https://www.cnblogs.com/crossoverJie/p/18150585', '日志架构演进：从集中式到分布式的Kubernetes日志策略'), ('https://www.cnblogs.com/VincentLee/p/18150445', 'LORS：腾讯提出低秩残差结构，瘦身模型不掉点 | CVPR 2024'), ('https://www.cnblogs.com/du-hong/p/17835685.html', '《最新出炉》系列初窥篇-Python+Playwright自动化测试-38-如何截图-下篇'), ('https://www.cnblogs.com/beckyyyy/p/18150425', 'CSS之定位Position'), ('https://www.cnblogs.com/thisiswhy/p/18150414', '五年前，我写错了一道面试题。'), ('https://www.cnblogs.com/flydean/p/18150293', '轻松复现一张AI图片'), ('https://www.cnblogs.com/cmt/p/18150234', '上周热点回顾（4.15-4.21）'), ('https://www.cnblogs.com/pengjiali/p/18150115', 'vue3 快速入门系列 —— 其他API'), ('https://www.cnblogs.com/strick/p/17894572.html', '带团队后的日常思考（十四）'), ('https://www.cnblogs.com/ryanyangcs/p/18150072', '见鬼了！我家的 WiFi 只有下雨天才能正常使用...'), ('https://www.cnblogs.com/huaweiyun/p/18150020', '如何基于Django中的WebSockets和异步视图来实现实时通信功能')]\n",
      "https://www.cnblogs.com/#p27 [('https://www.cnblogs.com/shudaoshan/p/18151059', '鸿蒙HarmonyOS实战-ArkUI动画（弹簧曲线动画）'), ('https://www.cnblogs.com/FatTiger4399/p/18146367', '低开开发笔记(四)：实现编辑器内拖拽'), ('https://www.cnblogs.com/ITnoteforlsy/p/18148656', 'Qt 从 QTransform 逆向解出 Translate/Scale/Rotate（平移/缩放/旋转）分析'), ('https://www.cnblogs.com/isharetech/p/18150815', '深度解读《深度探索C++对象模型》之数据成员的存取效率分析（三）'), ('https://www.cnblogs.com/Yesi/p/18150797', '使用C# 创建、填写、删除PDF表单域'), ('https://www.cnblogs.com/mingupupu/p/18150708', 'WPF/C#：如何显示具有层级关系的数据'), ('https://www.cnblogs.com/xiaoqi/p/18150639/golang-sparse-retrival', '浅谈sparse vec检索工程化实现'), ('https://www.cnblogs.com/guzb/p/18108245/difference-of-thread-pool-implementation', '线程池的运行逻辑与你想象的不一样，它是池族中的异类'), ('https://www.cnblogs.com/fkxxgis/p/18150594', 'ArcPy自动绘制大量地图并设置地图要素：Python'), ('https://www.cnblogs.com/crossoverJie/p/18150585', '日志架构演进：从集中式到分布式的Kubernetes日志策略'), ('https://www.cnblogs.com/VincentLee/p/18150445', 'LORS：腾讯提出低秩残差结构，瘦身模型不掉点 | CVPR 2024'), ('https://www.cnblogs.com/du-hong/p/17835685.html', '《最新出炉》系列初窥篇-Python+Playwright自动化测试-38-如何截图-下篇'), ('https://www.cnblogs.com/beckyyyy/p/18150425', 'CSS之定位Position'), ('https://www.cnblogs.com/thisiswhy/p/18150414', '五年前，我写错了一道面试题。'), ('https://www.cnblogs.com/flydean/p/18150293', '轻松复现一张AI图片'), ('https://www.cnblogs.com/cmt/p/18150234', '上周热点回顾（4.15-4.21）'), ('https://www.cnblogs.com/pengjiali/p/18150115', 'vue3 快速入门系列 —— 其他API'), ('https://www.cnblogs.com/strick/p/17894572.html', '带团队后的日常思考（十四）'), ('https://www.cnblogs.com/ryanyangcs/p/18150072', '见鬼了！我家的 WiFi 只有下雨天才能正常使用...'), ('https://www.cnblogs.com/huaweiyun/p/18150020', '如何基于Django中的WebSockets和异步视图来实现实时通信功能')]\n",
      "https://www.cnblogs.com/#p1 [('https://www.cnblogs.com/shudaoshan/p/18151059', '鸿蒙HarmonyOS实战-ArkUI动画（弹簧曲线动画）'), ('https://www.cnblogs.com/FatTiger4399/p/18146367', '低开开发笔记(四)：实现编辑器内拖拽'), ('https://www.cnblogs.com/ITnoteforlsy/p/18148656', 'Qt 从 QTransform 逆向解出 Translate/Scale/Rotate（平移/缩放/旋转）分析'), ('https://www.cnblogs.com/isharetech/p/18150815', '深度解读《深度探索C++对象模型》之数据成员的存取效率分析（三）'), ('https://www.cnblogs.com/Yesi/p/18150797', '使用C# 创建、填写、删除PDF表单域'), ('https://www.cnblogs.com/mingupupu/p/18150708', 'WPF/C#：如何显示具有层级关系的数据'), ('https://www.cnblogs.com/xiaoqi/p/18150639/golang-sparse-retrival', '浅谈sparse vec检索工程化实现'), ('https://www.cnblogs.com/guzb/p/18108245/difference-of-thread-pool-implementation', '线程池的运行逻辑与你想象的不一样，它是池族中的异类'), ('https://www.cnblogs.com/fkxxgis/p/18150594', 'ArcPy自动绘制大量地图并设置地图要素：Python'), ('https://www.cnblogs.com/crossoverJie/p/18150585', '日志架构演进：从集中式到分布式的Kubernetes日志策略'), ('https://www.cnblogs.com/VincentLee/p/18150445', 'LORS：腾讯提出低秩残差结构，瘦身模型不掉点 | CVPR 2024'), ('https://www.cnblogs.com/du-hong/p/17835685.html', '《最新出炉》系列初窥篇-Python+Playwright自动化测试-38-如何截图-下篇'), ('https://www.cnblogs.com/beckyyyy/p/18150425', 'CSS之定位Position'), ('https://www.cnblogs.com/thisiswhy/p/18150414', '五年前，我写错了一道面试题。'), ('https://www.cnblogs.com/flydean/p/18150293', '轻松复现一张AI图片'), ('https://www.cnblogs.com/cmt/p/18150234', '上周热点回顾（4.15-4.21）'), ('https://www.cnblogs.com/pengjiali/p/18150115', 'vue3 快速入门系列 —— 其他API'), ('https://www.cnblogs.com/strick/p/17894572.html', '带团队后的日常思考（十四）'), ('https://www.cnblogs.com/ryanyangcs/p/18150072', '见鬼了！我家的 WiFi 只有下雨天才能正常使用...'), ('https://www.cnblogs.com/huaweiyun/p/18150020', '如何基于Django中的WebSockets和异步视图来实现实时通信功能')]\n",
      "https://www.cnblogs.com/#p7 [('https://www.cnblogs.com/shudaoshan/p/18151059', '鸿蒙HarmonyOS实战-ArkUI动画（弹簧曲线动画）'), ('https://www.cnblogs.com/FatTiger4399/p/18146367', '低开开发笔记(四)：实现编辑器内拖拽'), ('https://www.cnblogs.com/ITnoteforlsy/p/18148656', 'Qt 从 QTransform 逆向解出 Translate/Scale/Rotate（平移/缩放/旋转）分析'), ('https://www.cnblogs.com/isharetech/p/18150815', '深度解读《深度探索C++对象模型》之数据成员的存取效率分析（三）'), ('https://www.cnblogs.com/Yesi/p/18150797', '使用C# 创建、填写、删除PDF表单域'), ('https://www.cnblogs.com/mingupupu/p/18150708', 'WPF/C#：如何显示具有层级关系的数据'), ('https://www.cnblogs.com/xiaoqi/p/18150639/golang-sparse-retrival', '浅谈sparse vec检索工程化实现'), ('https://www.cnblogs.com/guzb/p/18108245/difference-of-thread-pool-implementation', '线程池的运行逻辑与你想象的不一样，它是池族中的异类'), ('https://www.cnblogs.com/fkxxgis/p/18150594', 'ArcPy自动绘制大量地图并设置地图要素：Python'), ('https://www.cnblogs.com/crossoverJie/p/18150585', '日志架构演进：从集中式到分布式的Kubernetes日志策略'), ('https://www.cnblogs.com/VincentLee/p/18150445', 'LORS：腾讯提出低秩残差结构，瘦身模型不掉点 | CVPR 2024'), ('https://www.cnblogs.com/du-hong/p/17835685.html', '《最新出炉》系列初窥篇-Python+Playwright自动化测试-38-如何截图-下篇'), ('https://www.cnblogs.com/beckyyyy/p/18150425', 'CSS之定位Position'), ('https://www.cnblogs.com/thisiswhy/p/18150414', '五年前，我写错了一道面试题。'), ('https://www.cnblogs.com/flydean/p/18150293', '轻松复现一张AI图片'), ('https://www.cnblogs.com/cmt/p/18150234', '上周热点回顾（4.15-4.21）'), ('https://www.cnblogs.com/pengjiali/p/18150115', 'vue3 快速入门系列 —— 其他API'), ('https://www.cnblogs.com/strick/p/17894572.html', '带团队后的日常思考（十四）'), ('https://www.cnblogs.com/ryanyangcs/p/18150072', '见鬼了！我家的 WiFi 只有下雨天才能正常使用...'), ('https://www.cnblogs.com/huaweiyun/p/18150020', '如何基于Django中的WebSockets和异步视图来实现实时通信功能')]\n",
      "https://www.cnblogs.com/#p20 [('https://www.cnblogs.com/shudaoshan/p/18151059', '鸿蒙HarmonyOS实战-ArkUI动画（弹簧曲线动画）'), ('https://www.cnblogs.com/FatTiger4399/p/18146367', '低开开发笔记(四)：实现编辑器内拖拽'), ('https://www.cnblogs.com/ITnoteforlsy/p/18148656', 'Qt 从 QTransform 逆向解出 Translate/Scale/Rotate（平移/缩放/旋转）分析'), ('https://www.cnblogs.com/isharetech/p/18150815', '深度解读《深度探索C++对象模型》之数据成员的存取效率分析（三）'), ('https://www.cnblogs.com/Yesi/p/18150797', '使用C# 创建、填写、删除PDF表单域'), ('https://www.cnblogs.com/mingupupu/p/18150708', 'WPF/C#：如何显示具有层级关系的数据'), ('https://www.cnblogs.com/xiaoqi/p/18150639/golang-sparse-retrival', '浅谈sparse vec检索工程化实现'), ('https://www.cnblogs.com/guzb/p/18108245/difference-of-thread-pool-implementation', '线程池的运行逻辑与你想象的不一样，它是池族中的异类'), ('https://www.cnblogs.com/fkxxgis/p/18150594', 'ArcPy自动绘制大量地图并设置地图要素：Python'), ('https://www.cnblogs.com/crossoverJie/p/18150585', '日志架构演进：从集中式到分布式的Kubernetes日志策略'), ('https://www.cnblogs.com/VincentLee/p/18150445', 'LORS：腾讯提出低秩残差结构，瘦身模型不掉点 | CVPR 2024'), ('https://www.cnblogs.com/du-hong/p/17835685.html', '《最新出炉》系列初窥篇-Python+Playwright自动化测试-38-如何截图-下篇'), ('https://www.cnblogs.com/beckyyyy/p/18150425', 'CSS之定位Position'), ('https://www.cnblogs.com/thisiswhy/p/18150414', '五年前，我写错了一道面试题。'), ('https://www.cnblogs.com/flydean/p/18150293', '轻松复现一张AI图片'), ('https://www.cnblogs.com/cmt/p/18150234', '上周热点回顾（4.15-4.21）'), ('https://www.cnblogs.com/pengjiali/p/18150115', 'vue3 快速入门系列 —— 其他API'), ('https://www.cnblogs.com/strick/p/17894572.html', '带团队后的日常思考（十四）'), ('https://www.cnblogs.com/ryanyangcs/p/18150072', '见鬼了！我家的 WiFi 只有下雨天才能正常使用...'), ('https://www.cnblogs.com/huaweiyun/p/18150020', '如何基于Django中的WebSockets和异步视图来实现实时通信功能')]\n",
      "https://www.cnblogs.com/#p23 [('https://www.cnblogs.com/shudaoshan/p/18151059', '鸿蒙HarmonyOS实战-ArkUI动画（弹簧曲线动画）'), ('https://www.cnblogs.com/FatTiger4399/p/18146367', '低开开发笔记(四)：实现编辑器内拖拽'), ('https://www.cnblogs.com/ITnoteforlsy/p/18148656', 'Qt 从 QTransform 逆向解出 Translate/Scale/Rotate（平移/缩放/旋转）分析'), ('https://www.cnblogs.com/isharetech/p/18150815', '深度解读《深度探索C++对象模型》之数据成员的存取效率分析（三）'), ('https://www.cnblogs.com/Yesi/p/18150797', '使用C# 创建、填写、删除PDF表单域'), ('https://www.cnblogs.com/mingupupu/p/18150708', 'WPF/C#：如何显示具有层级关系的数据'), ('https://www.cnblogs.com/xiaoqi/p/18150639/golang-sparse-retrival', '浅谈sparse vec检索工程化实现'), ('https://www.cnblogs.com/guzb/p/18108245/difference-of-thread-pool-implementation', '线程池的运行逻辑与你想象的不一样，它是池族中的异类'), ('https://www.cnblogs.com/fkxxgis/p/18150594', 'ArcPy自动绘制大量地图并设置地图要素：Python'), ('https://www.cnblogs.com/crossoverJie/p/18150585', '日志架构演进：从集中式到分布式的Kubernetes日志策略'), ('https://www.cnblogs.com/VincentLee/p/18150445', 'LORS：腾讯提出低秩残差结构，瘦身模型不掉点 | CVPR 2024'), ('https://www.cnblogs.com/du-hong/p/17835685.html', '《最新出炉》系列初窥篇-Python+Playwright自动化测试-38-如何截图-下篇'), ('https://www.cnblogs.com/beckyyyy/p/18150425', 'CSS之定位Position'), ('https://www.cnblogs.com/thisiswhy/p/18150414', '五年前，我写错了一道面试题。'), ('https://www.cnblogs.com/flydean/p/18150293', '轻松复现一张AI图片'), ('https://www.cnblogs.com/cmt/p/18150234', '上周热点回顾（4.15-4.21）'), ('https://www.cnblogs.com/pengjiali/p/18150115', 'vue3 快速入门系列 —— 其他API'), ('https://www.cnblogs.com/strick/p/17894572.html', '带团队后的日常思考（十四）'), ('https://www.cnblogs.com/ryanyangcs/p/18150072', '见鬼了！我家的 WiFi 只有下雨天才能正常使用...'), ('https://www.cnblogs.com/huaweiyun/p/18150020', '如何基于Django中的WebSockets和异步视图来实现实时通信功能')]\n",
      "https://www.cnblogs.com/#p16 [('https://www.cnblogs.com/shudaoshan/p/18151059', '鸿蒙HarmonyOS实战-ArkUI动画（弹簧曲线动画）'), ('https://www.cnblogs.com/FatTiger4399/p/18146367', '低开开发笔记(四)：实现编辑器内拖拽'), ('https://www.cnblogs.com/ITnoteforlsy/p/18148656', 'Qt 从 QTransform 逆向解出 Translate/Scale/Rotate（平移/缩放/旋转）分析'), ('https://www.cnblogs.com/isharetech/p/18150815', '深度解读《深度探索C++对象模型》之数据成员的存取效率分析（三）'), ('https://www.cnblogs.com/Yesi/p/18150797', '使用C# 创建、填写、删除PDF表单域'), ('https://www.cnblogs.com/mingupupu/p/18150708', 'WPF/C#：如何显示具有层级关系的数据'), ('https://www.cnblogs.com/xiaoqi/p/18150639/golang-sparse-retrival', '浅谈sparse vec检索工程化实现'), ('https://www.cnblogs.com/guzb/p/18108245/difference-of-thread-pool-implementation', '线程池的运行逻辑与你想象的不一样，它是池族中的异类'), ('https://www.cnblogs.com/fkxxgis/p/18150594', 'ArcPy自动绘制大量地图并设置地图要素：Python'), ('https://www.cnblogs.com/crossoverJie/p/18150585', '日志架构演进：从集中式到分布式的Kubernetes日志策略'), ('https://www.cnblogs.com/VincentLee/p/18150445', 'LORS：腾讯提出低秩残差结构，瘦身模型不掉点 | CVPR 2024'), ('https://www.cnblogs.com/du-hong/p/17835685.html', '《最新出炉》系列初窥篇-Python+Playwright自动化测试-38-如何截图-下篇'), ('https://www.cnblogs.com/beckyyyy/p/18150425', 'CSS之定位Position'), ('https://www.cnblogs.com/thisiswhy/p/18150414', '五年前，我写错了一道面试题。'), ('https://www.cnblogs.com/flydean/p/18150293', '轻松复现一张AI图片'), ('https://www.cnblogs.com/cmt/p/18150234', '上周热点回顾（4.15-4.21）'), ('https://www.cnblogs.com/pengjiali/p/18150115', 'vue3 快速入门系列 —— 其他API'), ('https://www.cnblogs.com/strick/p/17894572.html', '带团队后的日常思考（十四）'), ('https://www.cnblogs.com/ryanyangcs/p/18150072', '见鬼了！我家的 WiFi 只有下雨天才能正常使用...'), ('https://www.cnblogs.com/huaweiyun/p/18150020', '如何基于Django中的WebSockets和异步视图来实现实时通信功能')]\n",
      "https://www.cnblogs.com/#p12 [('https://www.cnblogs.com/shudaoshan/p/18151059', '鸿蒙HarmonyOS实战-ArkUI动画（弹簧曲线动画）'), ('https://www.cnblogs.com/FatTiger4399/p/18146367', '低开开发笔记(四)：实现编辑器内拖拽'), ('https://www.cnblogs.com/ITnoteforlsy/p/18148656', 'Qt 从 QTransform 逆向解出 Translate/Scale/Rotate（平移/缩放/旋转）分析'), ('https://www.cnblogs.com/isharetech/p/18150815', '深度解读《深度探索C++对象模型》之数据成员的存取效率分析（三）'), ('https://www.cnblogs.com/Yesi/p/18150797', '使用C# 创建、填写、删除PDF表单域'), ('https://www.cnblogs.com/mingupupu/p/18150708', 'WPF/C#：如何显示具有层级关系的数据'), ('https://www.cnblogs.com/xiaoqi/p/18150639/golang-sparse-retrival', '浅谈sparse vec检索工程化实现'), ('https://www.cnblogs.com/guzb/p/18108245/difference-of-thread-pool-implementation', '线程池的运行逻辑与你想象的不一样，它是池族中的异类'), ('https://www.cnblogs.com/fkxxgis/p/18150594', 'ArcPy自动绘制大量地图并设置地图要素：Python'), ('https://www.cnblogs.com/crossoverJie/p/18150585', '日志架构演进：从集中式到分布式的Kubernetes日志策略'), ('https://www.cnblogs.com/VincentLee/p/18150445', 'LORS：腾讯提出低秩残差结构，瘦身模型不掉点 | CVPR 2024'), ('https://www.cnblogs.com/du-hong/p/17835685.html', '《最新出炉》系列初窥篇-Python+Playwright自动化测试-38-如何截图-下篇'), ('https://www.cnblogs.com/beckyyyy/p/18150425', 'CSS之定位Position'), ('https://www.cnblogs.com/thisiswhy/p/18150414', '五年前，我写错了一道面试题。'), ('https://www.cnblogs.com/flydean/p/18150293', '轻松复现一张AI图片'), ('https://www.cnblogs.com/cmt/p/18150234', '上周热点回顾（4.15-4.21）'), ('https://www.cnblogs.com/pengjiali/p/18150115', 'vue3 快速入门系列 —— 其他API'), ('https://www.cnblogs.com/strick/p/17894572.html', '带团队后的日常思考（十四）'), ('https://www.cnblogs.com/ryanyangcs/p/18150072', '见鬼了！我家的 WiFi 只有下雨天才能正常使用...'), ('https://www.cnblogs.com/huaweiyun/p/18150020', '如何基于Django中的WebSockets和异步视图来实现实时通信功能')]\n",
      "https://www.cnblogs.com/#p8 [('https://www.cnblogs.com/shudaoshan/p/18151059', '鸿蒙HarmonyOS实战-ArkUI动画（弹簧曲线动画）'), ('https://www.cnblogs.com/FatTiger4399/p/18146367', '低开开发笔记(四)：实现编辑器内拖拽'), ('https://www.cnblogs.com/ITnoteforlsy/p/18148656', 'Qt 从 QTransform 逆向解出 Translate/Scale/Rotate（平移/缩放/旋转）分析'), ('https://www.cnblogs.com/isharetech/p/18150815', '深度解读《深度探索C++对象模型》之数据成员的存取效率分析（三）'), ('https://www.cnblogs.com/Yesi/p/18150797', '使用C# 创建、填写、删除PDF表单域'), ('https://www.cnblogs.com/mingupupu/p/18150708', 'WPF/C#：如何显示具有层级关系的数据'), ('https://www.cnblogs.com/xiaoqi/p/18150639/golang-sparse-retrival', '浅谈sparse vec检索工程化实现'), ('https://www.cnblogs.com/guzb/p/18108245/difference-of-thread-pool-implementation', '线程池的运行逻辑与你想象的不一样，它是池族中的异类'), ('https://www.cnblogs.com/fkxxgis/p/18150594', 'ArcPy自动绘制大量地图并设置地图要素：Python'), ('https://www.cnblogs.com/crossoverJie/p/18150585', '日志架构演进：从集中式到分布式的Kubernetes日志策略'), ('https://www.cnblogs.com/VincentLee/p/18150445', 'LORS：腾讯提出低秩残差结构，瘦身模型不掉点 | CVPR 2024'), ('https://www.cnblogs.com/du-hong/p/17835685.html', '《最新出炉》系列初窥篇-Python+Playwright自动化测试-38-如何截图-下篇'), ('https://www.cnblogs.com/beckyyyy/p/18150425', 'CSS之定位Position'), ('https://www.cnblogs.com/thisiswhy/p/18150414', '五年前，我写错了一道面试题。'), ('https://www.cnblogs.com/flydean/p/18150293', '轻松复现一张AI图片'), ('https://www.cnblogs.com/cmt/p/18150234', '上周热点回顾（4.15-4.21）'), ('https://www.cnblogs.com/pengjiali/p/18150115', 'vue3 快速入门系列 —— 其他API'), ('https://www.cnblogs.com/strick/p/17894572.html', '带团队后的日常思考（十四）'), ('https://www.cnblogs.com/ryanyangcs/p/18150072', '见鬼了！我家的 WiFi 只有下雨天才能正常使用...'), ('https://www.cnblogs.com/huaweiyun/p/18150020', '如何基于Django中的WebSockets和异步视图来实现实时通信功能')]\n",
      "https://www.cnblogs.com/#p22 [('https://www.cnblogs.com/shudaoshan/p/18151059', '鸿蒙HarmonyOS实战-ArkUI动画（弹簧曲线动画）'), ('https://www.cnblogs.com/FatTiger4399/p/18146367', '低开开发笔记(四)：实现编辑器内拖拽'), ('https://www.cnblogs.com/ITnoteforlsy/p/18148656', 'Qt 从 QTransform 逆向解出 Translate/Scale/Rotate（平移/缩放/旋转）分析'), ('https://www.cnblogs.com/isharetech/p/18150815', '深度解读《深度探索C++对象模型》之数据成员的存取效率分析（三）'), ('https://www.cnblogs.com/Yesi/p/18150797', '使用C# 创建、填写、删除PDF表单域'), ('https://www.cnblogs.com/mingupupu/p/18150708', 'WPF/C#：如何显示具有层级关系的数据'), ('https://www.cnblogs.com/xiaoqi/p/18150639/golang-sparse-retrival', '浅谈sparse vec检索工程化实现'), ('https://www.cnblogs.com/guzb/p/18108245/difference-of-thread-pool-implementation', '线程池的运行逻辑与你想象的不一样，它是池族中的异类'), ('https://www.cnblogs.com/fkxxgis/p/18150594', 'ArcPy自动绘制大量地图并设置地图要素：Python'), ('https://www.cnblogs.com/crossoverJie/p/18150585', '日志架构演进：从集中式到分布式的Kubernetes日志策略'), ('https://www.cnblogs.com/VincentLee/p/18150445', 'LORS：腾讯提出低秩残差结构，瘦身模型不掉点 | CVPR 2024'), ('https://www.cnblogs.com/du-hong/p/17835685.html', '《最新出炉》系列初窥篇-Python+Playwright自动化测试-38-如何截图-下篇'), ('https://www.cnblogs.com/beckyyyy/p/18150425', 'CSS之定位Position'), ('https://www.cnblogs.com/thisiswhy/p/18150414', '五年前，我写错了一道面试题。'), ('https://www.cnblogs.com/flydean/p/18150293', '轻松复现一张AI图片'), ('https://www.cnblogs.com/cmt/p/18150234', '上周热点回顾（4.15-4.21）'), ('https://www.cnblogs.com/pengjiali/p/18150115', 'vue3 快速入门系列 —— 其他API'), ('https://www.cnblogs.com/strick/p/17894572.html', '带团队后的日常思考（十四）'), ('https://www.cnblogs.com/ryanyangcs/p/18150072', '见鬼了！我家的 WiFi 只有下雨天才能正常使用...'), ('https://www.cnblogs.com/huaweiyun/p/18150020', '如何基于Django中的WebSockets和异步视图来实现实时通信功能')]\n",
      "https://www.cnblogs.com/#p15 [('https://www.cnblogs.com/shudaoshan/p/18151059', '鸿蒙HarmonyOS实战-ArkUI动画（弹簧曲线动画）'), ('https://www.cnblogs.com/FatTiger4399/p/18146367', '低开开发笔记(四)：实现编辑器内拖拽'), ('https://www.cnblogs.com/ITnoteforlsy/p/18148656', 'Qt 从 QTransform 逆向解出 Translate/Scale/Rotate（平移/缩放/旋转）分析'), ('https://www.cnblogs.com/isharetech/p/18150815', '深度解读《深度探索C++对象模型》之数据成员的存取效率分析（三）'), ('https://www.cnblogs.com/Yesi/p/18150797', '使用C# 创建、填写、删除PDF表单域'), ('https://www.cnblogs.com/mingupupu/p/18150708', 'WPF/C#：如何显示具有层级关系的数据'), ('https://www.cnblogs.com/xiaoqi/p/18150639/golang-sparse-retrival', '浅谈sparse vec检索工程化实现'), ('https://www.cnblogs.com/guzb/p/18108245/difference-of-thread-pool-implementation', '线程池的运行逻辑与你想象的不一样，它是池族中的异类'), ('https://www.cnblogs.com/fkxxgis/p/18150594', 'ArcPy自动绘制大量地图并设置地图要素：Python'), ('https://www.cnblogs.com/crossoverJie/p/18150585', '日志架构演进：从集中式到分布式的Kubernetes日志策略'), ('https://www.cnblogs.com/VincentLee/p/18150445', 'LORS：腾讯提出低秩残差结构，瘦身模型不掉点 | CVPR 2024'), ('https://www.cnblogs.com/du-hong/p/17835685.html', '《最新出炉》系列初窥篇-Python+Playwright自动化测试-38-如何截图-下篇'), ('https://www.cnblogs.com/beckyyyy/p/18150425', 'CSS之定位Position'), ('https://www.cnblogs.com/thisiswhy/p/18150414', '五年前，我写错了一道面试题。'), ('https://www.cnblogs.com/flydean/p/18150293', '轻松复现一张AI图片'), ('https://www.cnblogs.com/cmt/p/18150234', '上周热点回顾（4.15-4.21）'), ('https://www.cnblogs.com/pengjiali/p/18150115', 'vue3 快速入门系列 —— 其他API'), ('https://www.cnblogs.com/strick/p/17894572.html', '带团队后的日常思考（十四）'), ('https://www.cnblogs.com/ryanyangcs/p/18150072', '见鬼了！我家的 WiFi 只有下雨天才能正常使用...'), ('https://www.cnblogs.com/huaweiyun/p/18150020', '如何基于Django中的WebSockets和异步视图来实现实时通信功能')]\n",
      "https://www.cnblogs.com/#p21 [('https://www.cnblogs.com/shudaoshan/p/18151059', '鸿蒙HarmonyOS实战-ArkUI动画（弹簧曲线动画）'), ('https://www.cnblogs.com/FatTiger4399/p/18146367', '低开开发笔记(四)：实现编辑器内拖拽'), ('https://www.cnblogs.com/ITnoteforlsy/p/18148656', 'Qt 从 QTransform 逆向解出 Translate/Scale/Rotate（平移/缩放/旋转）分析'), ('https://www.cnblogs.com/isharetech/p/18150815', '深度解读《深度探索C++对象模型》之数据成员的存取效率分析（三）'), ('https://www.cnblogs.com/Yesi/p/18150797', '使用C# 创建、填写、删除PDF表单域'), ('https://www.cnblogs.com/mingupupu/p/18150708', 'WPF/C#：如何显示具有层级关系的数据'), ('https://www.cnblogs.com/xiaoqi/p/18150639/golang-sparse-retrival', '浅谈sparse vec检索工程化实现'), ('https://www.cnblogs.com/guzb/p/18108245/difference-of-thread-pool-implementation', '线程池的运行逻辑与你想象的不一样，它是池族中的异类'), ('https://www.cnblogs.com/fkxxgis/p/18150594', 'ArcPy自动绘制大量地图并设置地图要素：Python'), ('https://www.cnblogs.com/crossoverJie/p/18150585', '日志架构演进：从集中式到分布式的Kubernetes日志策略'), ('https://www.cnblogs.com/VincentLee/p/18150445', 'LORS：腾讯提出低秩残差结构，瘦身模型不掉点 | CVPR 2024'), ('https://www.cnblogs.com/du-hong/p/17835685.html', '《最新出炉》系列初窥篇-Python+Playwright自动化测试-38-如何截图-下篇'), ('https://www.cnblogs.com/beckyyyy/p/18150425', 'CSS之定位Position'), ('https://www.cnblogs.com/thisiswhy/p/18150414', '五年前，我写错了一道面试题。'), ('https://www.cnblogs.com/flydean/p/18150293', '轻松复现一张AI图片'), ('https://www.cnblogs.com/cmt/p/18150234', '上周热点回顾（4.15-4.21）'), ('https://www.cnblogs.com/pengjiali/p/18150115', 'vue3 快速入门系列 —— 其他API'), ('https://www.cnblogs.com/strick/p/17894572.html', '带团队后的日常思考（十四）'), ('https://www.cnblogs.com/ryanyangcs/p/18150072', '见鬼了！我家的 WiFi 只有下雨天才能正常使用...'), ('https://www.cnblogs.com/huaweiyun/p/18150020', '如何基于Django中的WebSockets和异步视图来实现实时通信功能')]\n",
      "https://www.cnblogs.com/#p14 [('https://www.cnblogs.com/shudaoshan/p/18151059', '鸿蒙HarmonyOS实战-ArkUI动画（弹簧曲线动画）'), ('https://www.cnblogs.com/FatTiger4399/p/18146367', '低开开发笔记(四)：实现编辑器内拖拽'), ('https://www.cnblogs.com/ITnoteforlsy/p/18148656', 'Qt 从 QTransform 逆向解出 Translate/Scale/Rotate（平移/缩放/旋转）分析'), ('https://www.cnblogs.com/isharetech/p/18150815', '深度解读《深度探索C++对象模型》之数据成员的存取效率分析（三）'), ('https://www.cnblogs.com/Yesi/p/18150797', '使用C# 创建、填写、删除PDF表单域'), ('https://www.cnblogs.com/mingupupu/p/18150708', 'WPF/C#：如何显示具有层级关系的数据'), ('https://www.cnblogs.com/xiaoqi/p/18150639/golang-sparse-retrival', '浅谈sparse vec检索工程化实现'), ('https://www.cnblogs.com/guzb/p/18108245/difference-of-thread-pool-implementation', '线程池的运行逻辑与你想象的不一样，它是池族中的异类'), ('https://www.cnblogs.com/fkxxgis/p/18150594', 'ArcPy自动绘制大量地图并设置地图要素：Python'), ('https://www.cnblogs.com/crossoverJie/p/18150585', '日志架构演进：从集中式到分布式的Kubernetes日志策略'), ('https://www.cnblogs.com/VincentLee/p/18150445', 'LORS：腾讯提出低秩残差结构，瘦身模型不掉点 | CVPR 2024'), ('https://www.cnblogs.com/du-hong/p/17835685.html', '《最新出炉》系列初窥篇-Python+Playwright自动化测试-38-如何截图-下篇'), ('https://www.cnblogs.com/beckyyyy/p/18150425', 'CSS之定位Position'), ('https://www.cnblogs.com/thisiswhy/p/18150414', '五年前，我写错了一道面试题。'), ('https://www.cnblogs.com/flydean/p/18150293', '轻松复现一张AI图片'), ('https://www.cnblogs.com/cmt/p/18150234', '上周热点回顾（4.15-4.21）'), ('https://www.cnblogs.com/pengjiali/p/18150115', 'vue3 快速入门系列 —— 其他API'), ('https://www.cnblogs.com/strick/p/17894572.html', '带团队后的日常思考（十四）'), ('https://www.cnblogs.com/ryanyangcs/p/18150072', '见鬼了！我家的 WiFi 只有下雨天才能正常使用...'), ('https://www.cnblogs.com/huaweiyun/p/18150020', '如何基于Django中的WebSockets和异步视图来实现实时通信功能')]\n",
      "https://www.cnblogs.com/#p5 [('https://www.cnblogs.com/shudaoshan/p/18151059', '鸿蒙HarmonyOS实战-ArkUI动画（弹簧曲线动画）'), ('https://www.cnblogs.com/FatTiger4399/p/18146367', '低开开发笔记(四)：实现编辑器内拖拽'), ('https://www.cnblogs.com/ITnoteforlsy/p/18148656', 'Qt 从 QTransform 逆向解出 Translate/Scale/Rotate（平移/缩放/旋转）分析'), ('https://www.cnblogs.com/isharetech/p/18150815', '深度解读《深度探索C++对象模型》之数据成员的存取效率分析（三）'), ('https://www.cnblogs.com/Yesi/p/18150797', '使用C# 创建、填写、删除PDF表单域'), ('https://www.cnblogs.com/mingupupu/p/18150708', 'WPF/C#：如何显示具有层级关系的数据'), ('https://www.cnblogs.com/xiaoqi/p/18150639/golang-sparse-retrival', '浅谈sparse vec检索工程化实现'), ('https://www.cnblogs.com/guzb/p/18108245/difference-of-thread-pool-implementation', '线程池的运行逻辑与你想象的不一样，它是池族中的异类'), ('https://www.cnblogs.com/fkxxgis/p/18150594', 'ArcPy自动绘制大量地图并设置地图要素：Python'), ('https://www.cnblogs.com/crossoverJie/p/18150585', '日志架构演进：从集中式到分布式的Kubernetes日志策略'), ('https://www.cnblogs.com/VincentLee/p/18150445', 'LORS：腾讯提出低秩残差结构，瘦身模型不掉点 | CVPR 2024'), ('https://www.cnblogs.com/du-hong/p/17835685.html', '《最新出炉》系列初窥篇-Python+Playwright自动化测试-38-如何截图-下篇'), ('https://www.cnblogs.com/beckyyyy/p/18150425', 'CSS之定位Position'), ('https://www.cnblogs.com/thisiswhy/p/18150414', '五年前，我写错了一道面试题。'), ('https://www.cnblogs.com/flydean/p/18150293', '轻松复现一张AI图片'), ('https://www.cnblogs.com/cmt/p/18150234', '上周热点回顾（4.15-4.21）'), ('https://www.cnblogs.com/pengjiali/p/18150115', 'vue3 快速入门系列 —— 其他API'), ('https://www.cnblogs.com/strick/p/17894572.html', '带团队后的日常思考（十四）'), ('https://www.cnblogs.com/ryanyangcs/p/18150072', '见鬼了！我家的 WiFi 只有下雨天才能正常使用...'), ('https://www.cnblogs.com/huaweiyun/p/18150020', '如何基于Django中的WebSockets和异步视图来实现实时通信功能')]\n",
      "https://www.cnblogs.com/#p2 [('https://www.cnblogs.com/shudaoshan/p/18151059', '鸿蒙HarmonyOS实战-ArkUI动画（弹簧曲线动画）'), ('https://www.cnblogs.com/FatTiger4399/p/18146367', '低开开发笔记(四)：实现编辑器内拖拽'), ('https://www.cnblogs.com/ITnoteforlsy/p/18148656', 'Qt 从 QTransform 逆向解出 Translate/Scale/Rotate（平移/缩放/旋转）分析'), ('https://www.cnblogs.com/isharetech/p/18150815', '深度解读《深度探索C++对象模型》之数据成员的存取效率分析（三）'), ('https://www.cnblogs.com/Yesi/p/18150797', '使用C# 创建、填写、删除PDF表单域'), ('https://www.cnblogs.com/mingupupu/p/18150708', 'WPF/C#：如何显示具有层级关系的数据'), ('https://www.cnblogs.com/xiaoqi/p/18150639/golang-sparse-retrival', '浅谈sparse vec检索工程化实现'), ('https://www.cnblogs.com/guzb/p/18108245/difference-of-thread-pool-implementation', '线程池的运行逻辑与你想象的不一样，它是池族中的异类'), ('https://www.cnblogs.com/fkxxgis/p/18150594', 'ArcPy自动绘制大量地图并设置地图要素：Python'), ('https://www.cnblogs.com/crossoverJie/p/18150585', '日志架构演进：从集中式到分布式的Kubernetes日志策略'), ('https://www.cnblogs.com/VincentLee/p/18150445', 'LORS：腾讯提出低秩残差结构，瘦身模型不掉点 | CVPR 2024'), ('https://www.cnblogs.com/du-hong/p/17835685.html', '《最新出炉》系列初窥篇-Python+Playwright自动化测试-38-如何截图-下篇'), ('https://www.cnblogs.com/beckyyyy/p/18150425', 'CSS之定位Position'), ('https://www.cnblogs.com/thisiswhy/p/18150414', '五年前，我写错了一道面试题。'), ('https://www.cnblogs.com/flydean/p/18150293', '轻松复现一张AI图片'), ('https://www.cnblogs.com/cmt/p/18150234', '上周热点回顾（4.15-4.21）'), ('https://www.cnblogs.com/pengjiali/p/18150115', 'vue3 快速入门系列 —— 其他API'), ('https://www.cnblogs.com/strick/p/17894572.html', '带团队后的日常思考（十四）'), ('https://www.cnblogs.com/ryanyangcs/p/18150072', '见鬼了！我家的 WiFi 只有下雨天才能正常使用...'), ('https://www.cnblogs.com/huaweiyun/p/18150020', '如何基于Django中的WebSockets和异步视图来实现实时通信功能')]\n",
      "https://www.cnblogs.com/#p13 [('https://www.cnblogs.com/shudaoshan/p/18151059', '鸿蒙HarmonyOS实战-ArkUI动画（弹簧曲线动画）'), ('https://www.cnblogs.com/FatTiger4399/p/18146367', '低开开发笔记(四)：实现编辑器内拖拽'), ('https://www.cnblogs.com/ITnoteforlsy/p/18148656', 'Qt 从 QTransform 逆向解出 Translate/Scale/Rotate（平移/缩放/旋转）分析'), ('https://www.cnblogs.com/isharetech/p/18150815', '深度解读《深度探索C++对象模型》之数据成员的存取效率分析（三）'), ('https://www.cnblogs.com/Yesi/p/18150797', '使用C# 创建、填写、删除PDF表单域'), ('https://www.cnblogs.com/mingupupu/p/18150708', 'WPF/C#：如何显示具有层级关系的数据'), ('https://www.cnblogs.com/xiaoqi/p/18150639/golang-sparse-retrival', '浅谈sparse vec检索工程化实现'), ('https://www.cnblogs.com/guzb/p/18108245/difference-of-thread-pool-implementation', '线程池的运行逻辑与你想象的不一样，它是池族中的异类'), ('https://www.cnblogs.com/fkxxgis/p/18150594', 'ArcPy自动绘制大量地图并设置地图要素：Python'), ('https://www.cnblogs.com/crossoverJie/p/18150585', '日志架构演进：从集中式到分布式的Kubernetes日志策略'), ('https://www.cnblogs.com/VincentLee/p/18150445', 'LORS：腾讯提出低秩残差结构，瘦身模型不掉点 | CVPR 2024'), ('https://www.cnblogs.com/du-hong/p/17835685.html', '《最新出炉》系列初窥篇-Python+Playwright自动化测试-38-如何截图-下篇'), ('https://www.cnblogs.com/beckyyyy/p/18150425', 'CSS之定位Position'), ('https://www.cnblogs.com/thisiswhy/p/18150414', '五年前，我写错了一道面试题。'), ('https://www.cnblogs.com/flydean/p/18150293', '轻松复现一张AI图片'), ('https://www.cnblogs.com/cmt/p/18150234', '上周热点回顾（4.15-4.21）'), ('https://www.cnblogs.com/pengjiali/p/18150115', 'vue3 快速入门系列 —— 其他API'), ('https://www.cnblogs.com/strick/p/17894572.html', '带团队后的日常思考（十四）'), ('https://www.cnblogs.com/ryanyangcs/p/18150072', '见鬼了！我家的 WiFi 只有下雨天才能正常使用...'), ('https://www.cnblogs.com/huaweiyun/p/18150020', '如何基于Django中的WebSockets和异步视图来实现实时通信功能')]\n",
      "https://www.cnblogs.com/#p18 [('https://www.cnblogs.com/shudaoshan/p/18151059', '鸿蒙HarmonyOS实战-ArkUI动画（弹簧曲线动画）'), ('https://www.cnblogs.com/FatTiger4399/p/18146367', '低开开发笔记(四)：实现编辑器内拖拽'), ('https://www.cnblogs.com/ITnoteforlsy/p/18148656', 'Qt 从 QTransform 逆向解出 Translate/Scale/Rotate（平移/缩放/旋转）分析'), ('https://www.cnblogs.com/isharetech/p/18150815', '深度解读《深度探索C++对象模型》之数据成员的存取效率分析（三）'), ('https://www.cnblogs.com/Yesi/p/18150797', '使用C# 创建、填写、删除PDF表单域'), ('https://www.cnblogs.com/mingupupu/p/18150708', 'WPF/C#：如何显示具有层级关系的数据'), ('https://www.cnblogs.com/xiaoqi/p/18150639/golang-sparse-retrival', '浅谈sparse vec检索工程化实现'), ('https://www.cnblogs.com/guzb/p/18108245/difference-of-thread-pool-implementation', '线程池的运行逻辑与你想象的不一样，它是池族中的异类'), ('https://www.cnblogs.com/fkxxgis/p/18150594', 'ArcPy自动绘制大量地图并设置地图要素：Python'), ('https://www.cnblogs.com/crossoverJie/p/18150585', '日志架构演进：从集中式到分布式的Kubernetes日志策略'), ('https://www.cnblogs.com/VincentLee/p/18150445', 'LORS：腾讯提出低秩残差结构，瘦身模型不掉点 | CVPR 2024'), ('https://www.cnblogs.com/du-hong/p/17835685.html', '《最新出炉》系列初窥篇-Python+Playwright自动化测试-38-如何截图-下篇'), ('https://www.cnblogs.com/beckyyyy/p/18150425', 'CSS之定位Position'), ('https://www.cnblogs.com/thisiswhy/p/18150414', '五年前，我写错了一道面试题。'), ('https://www.cnblogs.com/flydean/p/18150293', '轻松复现一张AI图片'), ('https://www.cnblogs.com/cmt/p/18150234', '上周热点回顾（4.15-4.21）'), ('https://www.cnblogs.com/pengjiali/p/18150115', 'vue3 快速入门系列 —— 其他API'), ('https://www.cnblogs.com/strick/p/17894572.html', '带团队后的日常思考（十四）'), ('https://www.cnblogs.com/ryanyangcs/p/18150072', '见鬼了！我家的 WiFi 只有下雨天才能正常使用...'), ('https://www.cnblogs.com/huaweiyun/p/18150020', '如何基于Django中的WebSockets和异步视图来实现实时通信功能')]\n",
      "https://www.cnblogs.com/#p11 [('https://www.cnblogs.com/shudaoshan/p/18151059', '鸿蒙HarmonyOS实战-ArkUI动画（弹簧曲线动画）'), ('https://www.cnblogs.com/FatTiger4399/p/18146367', '低开开发笔记(四)：实现编辑器内拖拽'), ('https://www.cnblogs.com/ITnoteforlsy/p/18148656', 'Qt 从 QTransform 逆向解出 Translate/Scale/Rotate（平移/缩放/旋转）分析'), ('https://www.cnblogs.com/isharetech/p/18150815', '深度解读《深度探索C++对象模型》之数据成员的存取效率分析（三）'), ('https://www.cnblogs.com/Yesi/p/18150797', '使用C# 创建、填写、删除PDF表单域'), ('https://www.cnblogs.com/mingupupu/p/18150708', 'WPF/C#：如何显示具有层级关系的数据'), ('https://www.cnblogs.com/xiaoqi/p/18150639/golang-sparse-retrival', '浅谈sparse vec检索工程化实现'), ('https://www.cnblogs.com/guzb/p/18108245/difference-of-thread-pool-implementation', '线程池的运行逻辑与你想象的不一样，它是池族中的异类'), ('https://www.cnblogs.com/fkxxgis/p/18150594', 'ArcPy自动绘制大量地图并设置地图要素：Python'), ('https://www.cnblogs.com/crossoverJie/p/18150585', '日志架构演进：从集中式到分布式的Kubernetes日志策略'), ('https://www.cnblogs.com/VincentLee/p/18150445', 'LORS：腾讯提出低秩残差结构，瘦身模型不掉点 | CVPR 2024'), ('https://www.cnblogs.com/du-hong/p/17835685.html', '《最新出炉》系列初窥篇-Python+Playwright自动化测试-38-如何截图-下篇'), ('https://www.cnblogs.com/beckyyyy/p/18150425', 'CSS之定位Position'), ('https://www.cnblogs.com/thisiswhy/p/18150414', '五年前，我写错了一道面试题。'), ('https://www.cnblogs.com/flydean/p/18150293', '轻松复现一张AI图片'), ('https://www.cnblogs.com/cmt/p/18150234', '上周热点回顾（4.15-4.21）'), ('https://www.cnblogs.com/pengjiali/p/18150115', 'vue3 快速入门系列 —— 其他API'), ('https://www.cnblogs.com/strick/p/17894572.html', '带团队后的日常思考（十四）'), ('https://www.cnblogs.com/ryanyangcs/p/18150072', '见鬼了！我家的 WiFi 只有下雨天才能正常使用...'), ('https://www.cnblogs.com/huaweiyun/p/18150020', '如何基于Django中的WebSockets和异步视图来实现实时通信功能')]\n",
      "https://www.cnblogs.com/#p3 [('https://www.cnblogs.com/shudaoshan/p/18151059', '鸿蒙HarmonyOS实战-ArkUI动画（弹簧曲线动画）'), ('https://www.cnblogs.com/FatTiger4399/p/18146367', '低开开发笔记(四)：实现编辑器内拖拽'), ('https://www.cnblogs.com/ITnoteforlsy/p/18148656', 'Qt 从 QTransform 逆向解出 Translate/Scale/Rotate（平移/缩放/旋转）分析'), ('https://www.cnblogs.com/isharetech/p/18150815', '深度解读《深度探索C++对象模型》之数据成员的存取效率分析（三）'), ('https://www.cnblogs.com/Yesi/p/18150797', '使用C# 创建、填写、删除PDF表单域'), ('https://www.cnblogs.com/mingupupu/p/18150708', 'WPF/C#：如何显示具有层级关系的数据'), ('https://www.cnblogs.com/xiaoqi/p/18150639/golang-sparse-retrival', '浅谈sparse vec检索工程化实现'), ('https://www.cnblogs.com/guzb/p/18108245/difference-of-thread-pool-implementation', '线程池的运行逻辑与你想象的不一样，它是池族中的异类'), ('https://www.cnblogs.com/fkxxgis/p/18150594', 'ArcPy自动绘制大量地图并设置地图要素：Python'), ('https://www.cnblogs.com/crossoverJie/p/18150585', '日志架构演进：从集中式到分布式的Kubernetes日志策略'), ('https://www.cnblogs.com/VincentLee/p/18150445', 'LORS：腾讯提出低秩残差结构，瘦身模型不掉点 | CVPR 2024'), ('https://www.cnblogs.com/du-hong/p/17835685.html', '《最新出炉》系列初窥篇-Python+Playwright自动化测试-38-如何截图-下篇'), ('https://www.cnblogs.com/beckyyyy/p/18150425', 'CSS之定位Position'), ('https://www.cnblogs.com/thisiswhy/p/18150414', '五年前，我写错了一道面试题。'), ('https://www.cnblogs.com/flydean/p/18150293', '轻松复现一张AI图片'), ('https://www.cnblogs.com/cmt/p/18150234', '上周热点回顾（4.15-4.21）'), ('https://www.cnblogs.com/pengjiali/p/18150115', 'vue3 快速入门系列 —— 其他API'), ('https://www.cnblogs.com/strick/p/17894572.html', '带团队后的日常思考（十四）'), ('https://www.cnblogs.com/ryanyangcs/p/18150072', '见鬼了！我家的 WiFi 只有下雨天才能正常使用...'), ('https://www.cnblogs.com/huaweiyun/p/18150020', '如何基于Django中的WebSockets和异步视图来实现实时通信功能')]\n",
      "https://www.cnblogs.com/#p6 [('https://www.cnblogs.com/shudaoshan/p/18151059', '鸿蒙HarmonyOS实战-ArkUI动画（弹簧曲线动画）'), ('https://www.cnblogs.com/FatTiger4399/p/18146367', '低开开发笔记(四)：实现编辑器内拖拽'), ('https://www.cnblogs.com/ITnoteforlsy/p/18148656', 'Qt 从 QTransform 逆向解出 Translate/Scale/Rotate（平移/缩放/旋转）分析'), ('https://www.cnblogs.com/isharetech/p/18150815', '深度解读《深度探索C++对象模型》之数据成员的存取效率分析（三）'), ('https://www.cnblogs.com/Yesi/p/18150797', '使用C# 创建、填写、删除PDF表单域'), ('https://www.cnblogs.com/mingupupu/p/18150708', 'WPF/C#：如何显示具有层级关系的数据'), ('https://www.cnblogs.com/xiaoqi/p/18150639/golang-sparse-retrival', '浅谈sparse vec检索工程化实现'), ('https://www.cnblogs.com/guzb/p/18108245/difference-of-thread-pool-implementation', '线程池的运行逻辑与你想象的不一样，它是池族中的异类'), ('https://www.cnblogs.com/fkxxgis/p/18150594', 'ArcPy自动绘制大量地图并设置地图要素：Python'), ('https://www.cnblogs.com/crossoverJie/p/18150585', '日志架构演进：从集中式到分布式的Kubernetes日志策略'), ('https://www.cnblogs.com/VincentLee/p/18150445', 'LORS：腾讯提出低秩残差结构，瘦身模型不掉点 | CVPR 2024'), ('https://www.cnblogs.com/du-hong/p/17835685.html', '《最新出炉》系列初窥篇-Python+Playwright自动化测试-38-如何截图-下篇'), ('https://www.cnblogs.com/beckyyyy/p/18150425', 'CSS之定位Position'), ('https://www.cnblogs.com/thisiswhy/p/18150414', '五年前，我写错了一道面试题。'), ('https://www.cnblogs.com/flydean/p/18150293', '轻松复现一张AI图片'), ('https://www.cnblogs.com/cmt/p/18150234', '上周热点回顾（4.15-4.21）'), ('https://www.cnblogs.com/pengjiali/p/18150115', 'vue3 快速入门系列 —— 其他API'), ('https://www.cnblogs.com/strick/p/17894572.html', '带团队后的日常思考（十四）'), ('https://www.cnblogs.com/ryanyangcs/p/18150072', '见鬼了！我家的 WiFi 只有下雨天才能正常使用...'), ('https://www.cnblogs.com/huaweiyun/p/18150020', '如何基于Django中的WebSockets和异步视图来实现实时通信功能')]\n",
      "https://www.cnblogs.com/#p10 [('https://www.cnblogs.com/shudaoshan/p/18151059', '鸿蒙HarmonyOS实战-ArkUI动画（弹簧曲线动画）'), ('https://www.cnblogs.com/FatTiger4399/p/18146367', '低开开发笔记(四)：实现编辑器内拖拽'), ('https://www.cnblogs.com/ITnoteforlsy/p/18148656', 'Qt 从 QTransform 逆向解出 Translate/Scale/Rotate（平移/缩放/旋转）分析'), ('https://www.cnblogs.com/isharetech/p/18150815', '深度解读《深度探索C++对象模型》之数据成员的存取效率分析（三）'), ('https://www.cnblogs.com/Yesi/p/18150797', '使用C# 创建、填写、删除PDF表单域'), ('https://www.cnblogs.com/mingupupu/p/18150708', 'WPF/C#：如何显示具有层级关系的数据'), ('https://www.cnblogs.com/xiaoqi/p/18150639/golang-sparse-retrival', '浅谈sparse vec检索工程化实现'), ('https://www.cnblogs.com/guzb/p/18108245/difference-of-thread-pool-implementation', '线程池的运行逻辑与你想象的不一样，它是池族中的异类'), ('https://www.cnblogs.com/fkxxgis/p/18150594', 'ArcPy自动绘制大量地图并设置地图要素：Python'), ('https://www.cnblogs.com/crossoverJie/p/18150585', '日志架构演进：从集中式到分布式的Kubernetes日志策略'), ('https://www.cnblogs.com/VincentLee/p/18150445', 'LORS：腾讯提出低秩残差结构，瘦身模型不掉点 | CVPR 2024'), ('https://www.cnblogs.com/du-hong/p/17835685.html', '《最新出炉》系列初窥篇-Python+Playwright自动化测试-38-如何截图-下篇'), ('https://www.cnblogs.com/beckyyyy/p/18150425', 'CSS之定位Position'), ('https://www.cnblogs.com/thisiswhy/p/18150414', '五年前，我写错了一道面试题。'), ('https://www.cnblogs.com/flydean/p/18150293', '轻松复现一张AI图片'), ('https://www.cnblogs.com/cmt/p/18150234', '上周热点回顾（4.15-4.21）'), ('https://www.cnblogs.com/pengjiali/p/18150115', 'vue3 快速入门系列 —— 其他API'), ('https://www.cnblogs.com/strick/p/17894572.html', '带团队后的日常思考（十四）'), ('https://www.cnblogs.com/ryanyangcs/p/18150072', '见鬼了！我家的 WiFi 只有下雨天才能正常使用...'), ('https://www.cnblogs.com/huaweiyun/p/18150020', '如何基于Django中的WebSockets和异步视图来实现实时通信功能')]\n",
      "https://www.cnblogs.com/#p31 [('https://www.cnblogs.com/shudaoshan/p/18151059', '鸿蒙HarmonyOS实战-ArkUI动画（弹簧曲线动画）'), ('https://www.cnblogs.com/FatTiger4399/p/18146367', '低开开发笔记(四)：实现编辑器内拖拽'), ('https://www.cnblogs.com/ITnoteforlsy/p/18148656', 'Qt 从 QTransform 逆向解出 Translate/Scale/Rotate（平移/缩放/旋转）分析'), ('https://www.cnblogs.com/isharetech/p/18150815', '深度解读《深度探索C++对象模型》之数据成员的存取效率分析（三）'), ('https://www.cnblogs.com/Yesi/p/18150797', '使用C# 创建、填写、删除PDF表单域'), ('https://www.cnblogs.com/mingupupu/p/18150708', 'WPF/C#：如何显示具有层级关系的数据'), ('https://www.cnblogs.com/xiaoqi/p/18150639/golang-sparse-retrival', '浅谈sparse vec检索工程化实现'), ('https://www.cnblogs.com/guzb/p/18108245/difference-of-thread-pool-implementation', '线程池的运行逻辑与你想象的不一样，它是池族中的异类'), ('https://www.cnblogs.com/fkxxgis/p/18150594', 'ArcPy自动绘制大量地图并设置地图要素：Python'), ('https://www.cnblogs.com/crossoverJie/p/18150585', '日志架构演进：从集中式到分布式的Kubernetes日志策略'), ('https://www.cnblogs.com/VincentLee/p/18150445', 'LORS：腾讯提出低秩残差结构，瘦身模型不掉点 | CVPR 2024'), ('https://www.cnblogs.com/du-hong/p/17835685.html', '《最新出炉》系列初窥篇-Python+Playwright自动化测试-38-如何截图-下篇'), ('https://www.cnblogs.com/beckyyyy/p/18150425', 'CSS之定位Position'), ('https://www.cnblogs.com/thisiswhy/p/18150414', '五年前，我写错了一道面试题。'), ('https://www.cnblogs.com/flydean/p/18150293', '轻松复现一张AI图片'), ('https://www.cnblogs.com/cmt/p/18150234', '上周热点回顾（4.15-4.21）'), ('https://www.cnblogs.com/pengjiali/p/18150115', 'vue3 快速入门系列 —— 其他API'), ('https://www.cnblogs.com/strick/p/17894572.html', '带团队后的日常思考（十四）'), ('https://www.cnblogs.com/ryanyangcs/p/18150072', '见鬼了！我家的 WiFi 只有下雨天才能正常使用...'), ('https://www.cnblogs.com/huaweiyun/p/18150020', '如何基于Django中的WebSockets和异步视图来实现实时通信功能')]\n",
      "https://www.cnblogs.com/#p34 [('https://www.cnblogs.com/shudaoshan/p/18151059', '鸿蒙HarmonyOS实战-ArkUI动画（弹簧曲线动画）'), ('https://www.cnblogs.com/FatTiger4399/p/18146367', '低开开发笔记(四)：实现编辑器内拖拽'), ('https://www.cnblogs.com/ITnoteforlsy/p/18148656', 'Qt 从 QTransform 逆向解出 Translate/Scale/Rotate（平移/缩放/旋转）分析'), ('https://www.cnblogs.com/isharetech/p/18150815', '深度解读《深度探索C++对象模型》之数据成员的存取效率分析（三）'), ('https://www.cnblogs.com/Yesi/p/18150797', '使用C# 创建、填写、删除PDF表单域'), ('https://www.cnblogs.com/mingupupu/p/18150708', 'WPF/C#：如何显示具有层级关系的数据'), ('https://www.cnblogs.com/xiaoqi/p/18150639/golang-sparse-retrival', '浅谈sparse vec检索工程化实现'), ('https://www.cnblogs.com/guzb/p/18108245/difference-of-thread-pool-implementation', '线程池的运行逻辑与你想象的不一样，它是池族中的异类'), ('https://www.cnblogs.com/fkxxgis/p/18150594', 'ArcPy自动绘制大量地图并设置地图要素：Python'), ('https://www.cnblogs.com/crossoverJie/p/18150585', '日志架构演进：从集中式到分布式的Kubernetes日志策略'), ('https://www.cnblogs.com/VincentLee/p/18150445', 'LORS：腾讯提出低秩残差结构，瘦身模型不掉点 | CVPR 2024'), ('https://www.cnblogs.com/du-hong/p/17835685.html', '《最新出炉》系列初窥篇-Python+Playwright自动化测试-38-如何截图-下篇'), ('https://www.cnblogs.com/beckyyyy/p/18150425', 'CSS之定位Position'), ('https://www.cnblogs.com/thisiswhy/p/18150414', '五年前，我写错了一道面试题。'), ('https://www.cnblogs.com/flydean/p/18150293', '轻松复现一张AI图片'), ('https://www.cnblogs.com/cmt/p/18150234', '上周热点回顾（4.15-4.21）'), ('https://www.cnblogs.com/pengjiali/p/18150115', 'vue3 快速入门系列 —— 其他API'), ('https://www.cnblogs.com/strick/p/17894572.html', '带团队后的日常思考（十四）'), ('https://www.cnblogs.com/ryanyangcs/p/18150072', '见鬼了！我家的 WiFi 只有下雨天才能正常使用...'), ('https://www.cnblogs.com/huaweiyun/p/18150020', '如何基于Django中的WebSockets和异步视图来实现实时通信功能')]\n",
      "https://www.cnblogs.com/#p19 [('https://www.cnblogs.com/shudaoshan/p/18151059', '鸿蒙HarmonyOS实战-ArkUI动画（弹簧曲线动画）'), ('https://www.cnblogs.com/FatTiger4399/p/18146367', '低开开发笔记(四)：实现编辑器内拖拽'), ('https://www.cnblogs.com/ITnoteforlsy/p/18148656', 'Qt 从 QTransform 逆向解出 Translate/Scale/Rotate（平移/缩放/旋转）分析'), ('https://www.cnblogs.com/isharetech/p/18150815', '深度解读《深度探索C++对象模型》之数据成员的存取效率分析（三）'), ('https://www.cnblogs.com/Yesi/p/18150797', '使用C# 创建、填写、删除PDF表单域'), ('https://www.cnblogs.com/mingupupu/p/18150708', 'WPF/C#：如何显示具有层级关系的数据'), ('https://www.cnblogs.com/xiaoqi/p/18150639/golang-sparse-retrival', '浅谈sparse vec检索工程化实现'), ('https://www.cnblogs.com/guzb/p/18108245/difference-of-thread-pool-implementation', '线程池的运行逻辑与你想象的不一样，它是池族中的异类'), ('https://www.cnblogs.com/fkxxgis/p/18150594', 'ArcPy自动绘制大量地图并设置地图要素：Python'), ('https://www.cnblogs.com/crossoverJie/p/18150585', '日志架构演进：从集中式到分布式的Kubernetes日志策略'), ('https://www.cnblogs.com/VincentLee/p/18150445', 'LORS：腾讯提出低秩残差结构，瘦身模型不掉点 | CVPR 2024'), ('https://www.cnblogs.com/du-hong/p/17835685.html', '《最新出炉》系列初窥篇-Python+Playwright自动化测试-38-如何截图-下篇'), ('https://www.cnblogs.com/beckyyyy/p/18150425', 'CSS之定位Position'), ('https://www.cnblogs.com/thisiswhy/p/18150414', '五年前，我写错了一道面试题。'), ('https://www.cnblogs.com/flydean/p/18150293', '轻松复现一张AI图片'), ('https://www.cnblogs.com/cmt/p/18150234', '上周热点回顾（4.15-4.21）'), ('https://www.cnblogs.com/pengjiali/p/18150115', 'vue3 快速入门系列 —— 其他API'), ('https://www.cnblogs.com/strick/p/17894572.html', '带团队后的日常思考（十四）'), ('https://www.cnblogs.com/ryanyangcs/p/18150072', '见鬼了！我家的 WiFi 只有下雨天才能正常使用...'), ('https://www.cnblogs.com/huaweiyun/p/18150020', '如何基于Django中的WebSockets和异步视图来实现实时通信功能')]\n",
      "https://www.cnblogs.com/#p26 [('https://www.cnblogs.com/shudaoshan/p/18151059', '鸿蒙HarmonyOS实战-ArkUI动画（弹簧曲线动画）'), ('https://www.cnblogs.com/FatTiger4399/p/18146367', '低开开发笔记(四)：实现编辑器内拖拽'), ('https://www.cnblogs.com/ITnoteforlsy/p/18148656', 'Qt 从 QTransform 逆向解出 Translate/Scale/Rotate（平移/缩放/旋转）分析'), ('https://www.cnblogs.com/isharetech/p/18150815', '深度解读《深度探索C++对象模型》之数据成员的存取效率分析（三）'), ('https://www.cnblogs.com/Yesi/p/18150797', '使用C# 创建、填写、删除PDF表单域'), ('https://www.cnblogs.com/mingupupu/p/18150708', 'WPF/C#：如何显示具有层级关系的数据'), ('https://www.cnblogs.com/xiaoqi/p/18150639/golang-sparse-retrival', '浅谈sparse vec检索工程化实现'), ('https://www.cnblogs.com/guzb/p/18108245/difference-of-thread-pool-implementation', '线程池的运行逻辑与你想象的不一样，它是池族中的异类'), ('https://www.cnblogs.com/fkxxgis/p/18150594', 'ArcPy自动绘制大量地图并设置地图要素：Python'), ('https://www.cnblogs.com/crossoverJie/p/18150585', '日志架构演进：从集中式到分布式的Kubernetes日志策略'), ('https://www.cnblogs.com/VincentLee/p/18150445', 'LORS：腾讯提出低秩残差结构，瘦身模型不掉点 | CVPR 2024'), ('https://www.cnblogs.com/du-hong/p/17835685.html', '《最新出炉》系列初窥篇-Python+Playwright自动化测试-38-如何截图-下篇'), ('https://www.cnblogs.com/beckyyyy/p/18150425', 'CSS之定位Position'), ('https://www.cnblogs.com/thisiswhy/p/18150414', '五年前，我写错了一道面试题。'), ('https://www.cnblogs.com/flydean/p/18150293', '轻松复现一张AI图片'), ('https://www.cnblogs.com/cmt/p/18150234', '上周热点回顾（4.15-4.21）'), ('https://www.cnblogs.com/pengjiali/p/18150115', 'vue3 快速入门系列 —— 其他API'), ('https://www.cnblogs.com/strick/p/17894572.html', '带团队后的日常思考（十四）'), ('https://www.cnblogs.com/ryanyangcs/p/18150072', '见鬼了！我家的 WiFi 只有下雨天才能正常使用...'), ('https://www.cnblogs.com/huaweiyun/p/18150020', '如何基于Django中的WebSockets和异步视图来实现实时通信功能')]\n",
      "https://www.cnblogs.com/#p30 [('https://www.cnblogs.com/shudaoshan/p/18151059', '鸿蒙HarmonyOS实战-ArkUI动画（弹簧曲线动画）'), ('https://www.cnblogs.com/FatTiger4399/p/18146367', '低开开发笔记(四)：实现编辑器内拖拽'), ('https://www.cnblogs.com/ITnoteforlsy/p/18148656', 'Qt 从 QTransform 逆向解出 Translate/Scale/Rotate（平移/缩放/旋转）分析'), ('https://www.cnblogs.com/isharetech/p/18150815', '深度解读《深度探索C++对象模型》之数据成员的存取效率分析（三）'), ('https://www.cnblogs.com/Yesi/p/18150797', '使用C# 创建、填写、删除PDF表单域'), ('https://www.cnblogs.com/mingupupu/p/18150708', 'WPF/C#：如何显示具有层级关系的数据'), ('https://www.cnblogs.com/xiaoqi/p/18150639/golang-sparse-retrival', '浅谈sparse vec检索工程化实现'), ('https://www.cnblogs.com/guzb/p/18108245/difference-of-thread-pool-implementation', '线程池的运行逻辑与你想象的不一样，它是池族中的异类'), ('https://www.cnblogs.com/fkxxgis/p/18150594', 'ArcPy自动绘制大量地图并设置地图要素：Python'), ('https://www.cnblogs.com/crossoverJie/p/18150585', '日志架构演进：从集中式到分布式的Kubernetes日志策略'), ('https://www.cnblogs.com/VincentLee/p/18150445', 'LORS：腾讯提出低秩残差结构，瘦身模型不掉点 | CVPR 2024'), ('https://www.cnblogs.com/du-hong/p/17835685.html', '《最新出炉》系列初窥篇-Python+Playwright自动化测试-38-如何截图-下篇'), ('https://www.cnblogs.com/beckyyyy/p/18150425', 'CSS之定位Position'), ('https://www.cnblogs.com/thisiswhy/p/18150414', '五年前，我写错了一道面试题。'), ('https://www.cnblogs.com/flydean/p/18150293', '轻松复现一张AI图片'), ('https://www.cnblogs.com/cmt/p/18150234', '上周热点回顾（4.15-4.21）'), ('https://www.cnblogs.com/pengjiali/p/18150115', 'vue3 快速入门系列 —— 其他API'), ('https://www.cnblogs.com/strick/p/17894572.html', '带团队后的日常思考（十四）'), ('https://www.cnblogs.com/ryanyangcs/p/18150072', '见鬼了！我家的 WiFi 只有下雨天才能正常使用...'), ('https://www.cnblogs.com/huaweiyun/p/18150020', '如何基于Django中的WebSockets和异步视图来实现实时通信功能')]\n",
      "https://www.cnblogs.com/#p35 [('https://www.cnblogs.com/shudaoshan/p/18151059', '鸿蒙HarmonyOS实战-ArkUI动画（弹簧曲线动画）'), ('https://www.cnblogs.com/FatTiger4399/p/18146367', '低开开发笔记(四)：实现编辑器内拖拽'), ('https://www.cnblogs.com/ITnoteforlsy/p/18148656', 'Qt 从 QTransform 逆向解出 Translate/Scale/Rotate（平移/缩放/旋转）分析'), ('https://www.cnblogs.com/isharetech/p/18150815', '深度解读《深度探索C++对象模型》之数据成员的存取效率分析（三）'), ('https://www.cnblogs.com/Yesi/p/18150797', '使用C# 创建、填写、删除PDF表单域'), ('https://www.cnblogs.com/mingupupu/p/18150708', 'WPF/C#：如何显示具有层级关系的数据'), ('https://www.cnblogs.com/xiaoqi/p/18150639/golang-sparse-retrival', '浅谈sparse vec检索工程化实现'), ('https://www.cnblogs.com/guzb/p/18108245/difference-of-thread-pool-implementation', '线程池的运行逻辑与你想象的不一样，它是池族中的异类'), ('https://www.cnblogs.com/fkxxgis/p/18150594', 'ArcPy自动绘制大量地图并设置地图要素：Python'), ('https://www.cnblogs.com/crossoverJie/p/18150585', '日志架构演进：从集中式到分布式的Kubernetes日志策略'), ('https://www.cnblogs.com/VincentLee/p/18150445', 'LORS：腾讯提出低秩残差结构，瘦身模型不掉点 | CVPR 2024'), ('https://www.cnblogs.com/du-hong/p/17835685.html', '《最新出炉》系列初窥篇-Python+Playwright自动化测试-38-如何截图-下篇'), ('https://www.cnblogs.com/beckyyyy/p/18150425', 'CSS之定位Position'), ('https://www.cnblogs.com/thisiswhy/p/18150414', '五年前，我写错了一道面试题。'), ('https://www.cnblogs.com/flydean/p/18150293', '轻松复现一张AI图片'), ('https://www.cnblogs.com/cmt/p/18150234', '上周热点回顾（4.15-4.21）'), ('https://www.cnblogs.com/pengjiali/p/18150115', 'vue3 快速入门系列 —— 其他API'), ('https://www.cnblogs.com/strick/p/17894572.html', '带团队后的日常思考（十四）'), ('https://www.cnblogs.com/ryanyangcs/p/18150072', '见鬼了！我家的 WiFi 只有下雨天才能正常使用...'), ('https://www.cnblogs.com/huaweiyun/p/18150020', '如何基于Django中的WebSockets和异步视图来实现实时通信功能')]\n",
      "https://www.cnblogs.com/#p39 [('https://www.cnblogs.com/shudaoshan/p/18151059', '鸿蒙HarmonyOS实战-ArkUI动画（弹簧曲线动画）'), ('https://www.cnblogs.com/FatTiger4399/p/18146367', '低开开发笔记(四)：实现编辑器内拖拽'), ('https://www.cnblogs.com/ITnoteforlsy/p/18148656', 'Qt 从 QTransform 逆向解出 Translate/Scale/Rotate（平移/缩放/旋转）分析'), ('https://www.cnblogs.com/isharetech/p/18150815', '深度解读《深度探索C++对象模型》之数据成员的存取效率分析（三）'), ('https://www.cnblogs.com/Yesi/p/18150797', '使用C# 创建、填写、删除PDF表单域'), ('https://www.cnblogs.com/mingupupu/p/18150708', 'WPF/C#：如何显示具有层级关系的数据'), ('https://www.cnblogs.com/xiaoqi/p/18150639/golang-sparse-retrival', '浅谈sparse vec检索工程化实现'), ('https://www.cnblogs.com/guzb/p/18108245/difference-of-thread-pool-implementation', '线程池的运行逻辑与你想象的不一样，它是池族中的异类'), ('https://www.cnblogs.com/fkxxgis/p/18150594', 'ArcPy自动绘制大量地图并设置地图要素：Python'), ('https://www.cnblogs.com/crossoverJie/p/18150585', '日志架构演进：从集中式到分布式的Kubernetes日志策略'), ('https://www.cnblogs.com/VincentLee/p/18150445', 'LORS：腾讯提出低秩残差结构，瘦身模型不掉点 | CVPR 2024'), ('https://www.cnblogs.com/du-hong/p/17835685.html', '《最新出炉》系列初窥篇-Python+Playwright自动化测试-38-如何截图-下篇'), ('https://www.cnblogs.com/beckyyyy/p/18150425', 'CSS之定位Position'), ('https://www.cnblogs.com/thisiswhy/p/18150414', '五年前，我写错了一道面试题。'), ('https://www.cnblogs.com/flydean/p/18150293', '轻松复现一张AI图片'), ('https://www.cnblogs.com/cmt/p/18150234', '上周热点回顾（4.15-4.21）'), ('https://www.cnblogs.com/pengjiali/p/18150115', 'vue3 快速入门系列 —— 其他API'), ('https://www.cnblogs.com/strick/p/17894572.html', '带团队后的日常思考（十四）'), ('https://www.cnblogs.com/ryanyangcs/p/18150072', '见鬼了！我家的 WiFi 只有下雨天才能正常使用...'), ('https://www.cnblogs.com/huaweiyun/p/18150020', '如何基于Django中的WebSockets和异步视图来实现实时通信功能')]\n",
      "https://www.cnblogs.com/#p38 [('https://www.cnblogs.com/shudaoshan/p/18151059', '鸿蒙HarmonyOS实战-ArkUI动画（弹簧曲线动画）'), ('https://www.cnblogs.com/FatTiger4399/p/18146367', '低开开发笔记(四)：实现编辑器内拖拽'), ('https://www.cnblogs.com/ITnoteforlsy/p/18148656', 'Qt 从 QTransform 逆向解出 Translate/Scale/Rotate（平移/缩放/旋转）分析'), ('https://www.cnblogs.com/isharetech/p/18150815', '深度解读《深度探索C++对象模型》之数据成员的存取效率分析（三）'), ('https://www.cnblogs.com/Yesi/p/18150797', '使用C# 创建、填写、删除PDF表单域'), ('https://www.cnblogs.com/mingupupu/p/18150708', 'WPF/C#：如何显示具有层级关系的数据'), ('https://www.cnblogs.com/xiaoqi/p/18150639/golang-sparse-retrival', '浅谈sparse vec检索工程化实现'), ('https://www.cnblogs.com/guzb/p/18108245/difference-of-thread-pool-implementation', '线程池的运行逻辑与你想象的不一样，它是池族中的异类'), ('https://www.cnblogs.com/fkxxgis/p/18150594', 'ArcPy自动绘制大量地图并设置地图要素：Python'), ('https://www.cnblogs.com/crossoverJie/p/18150585', '日志架构演进：从集中式到分布式的Kubernetes日志策略'), ('https://www.cnblogs.com/VincentLee/p/18150445', 'LORS：腾讯提出低秩残差结构，瘦身模型不掉点 | CVPR 2024'), ('https://www.cnblogs.com/du-hong/p/17835685.html', '《最新出炉》系列初窥篇-Python+Playwright自动化测试-38-如何截图-下篇'), ('https://www.cnblogs.com/beckyyyy/p/18150425', 'CSS之定位Position'), ('https://www.cnblogs.com/thisiswhy/p/18150414', '五年前，我写错了一道面试题。'), ('https://www.cnblogs.com/flydean/p/18150293', '轻松复现一张AI图片'), ('https://www.cnblogs.com/cmt/p/18150234', '上周热点回顾（4.15-4.21）'), ('https://www.cnblogs.com/pengjiali/p/18150115', 'vue3 快速入门系列 —— 其他API'), ('https://www.cnblogs.com/strick/p/17894572.html', '带团队后的日常思考（十四）'), ('https://www.cnblogs.com/ryanyangcs/p/18150072', '见鬼了！我家的 WiFi 只有下雨天才能正常使用...'), ('https://www.cnblogs.com/huaweiyun/p/18150020', '如何基于Django中的WebSockets和异步视图来实现实时通信功能')]\n",
      "https://www.cnblogs.com/#p33 [('https://www.cnblogs.com/shudaoshan/p/18151059', '鸿蒙HarmonyOS实战-ArkUI动画（弹簧曲线动画）'), ('https://www.cnblogs.com/FatTiger4399/p/18146367', '低开开发笔记(四)：实现编辑器内拖拽'), ('https://www.cnblogs.com/ITnoteforlsy/p/18148656', 'Qt 从 QTransform 逆向解出 Translate/Scale/Rotate（平移/缩放/旋转）分析'), ('https://www.cnblogs.com/isharetech/p/18150815', '深度解读《深度探索C++对象模型》之数据成员的存取效率分析（三）'), ('https://www.cnblogs.com/Yesi/p/18150797', '使用C# 创建、填写、删除PDF表单域'), ('https://www.cnblogs.com/mingupupu/p/18150708', 'WPF/C#：如何显示具有层级关系的数据'), ('https://www.cnblogs.com/xiaoqi/p/18150639/golang-sparse-retrival', '浅谈sparse vec检索工程化实现'), ('https://www.cnblogs.com/guzb/p/18108245/difference-of-thread-pool-implementation', '线程池的运行逻辑与你想象的不一样，它是池族中的异类'), ('https://www.cnblogs.com/fkxxgis/p/18150594', 'ArcPy自动绘制大量地图并设置地图要素：Python'), ('https://www.cnblogs.com/crossoverJie/p/18150585', '日志架构演进：从集中式到分布式的Kubernetes日志策略'), ('https://www.cnblogs.com/VincentLee/p/18150445', 'LORS：腾讯提出低秩残差结构，瘦身模型不掉点 | CVPR 2024'), ('https://www.cnblogs.com/du-hong/p/17835685.html', '《最新出炉》系列初窥篇-Python+Playwright自动化测试-38-如何截图-下篇'), ('https://www.cnblogs.com/beckyyyy/p/18150425', 'CSS之定位Position'), ('https://www.cnblogs.com/thisiswhy/p/18150414', '五年前，我写错了一道面试题。'), ('https://www.cnblogs.com/flydean/p/18150293', '轻松复现一张AI图片'), ('https://www.cnblogs.com/cmt/p/18150234', '上周热点回顾（4.15-4.21）'), ('https://www.cnblogs.com/pengjiali/p/18150115', 'vue3 快速入门系列 —— 其他API'), ('https://www.cnblogs.com/strick/p/17894572.html', '带团队后的日常思考（十四）'), ('https://www.cnblogs.com/ryanyangcs/p/18150072', '见鬼了！我家的 WiFi 只有下雨天才能正常使用...'), ('https://www.cnblogs.com/huaweiyun/p/18150020', '如何基于Django中的WebSockets和异步视图来实现实时通信功能')]\n",
      "https://www.cnblogs.com/#p36 [('https://www.cnblogs.com/shudaoshan/p/18151059', '鸿蒙HarmonyOS实战-ArkUI动画（弹簧曲线动画）'), ('https://www.cnblogs.com/FatTiger4399/p/18146367', '低开开发笔记(四)：实现编辑器内拖拽'), ('https://www.cnblogs.com/ITnoteforlsy/p/18148656', 'Qt 从 QTransform 逆向解出 Translate/Scale/Rotate（平移/缩放/旋转）分析'), ('https://www.cnblogs.com/isharetech/p/18150815', '深度解读《深度探索C++对象模型》之数据成员的存取效率分析（三）'), ('https://www.cnblogs.com/Yesi/p/18150797', '使用C# 创建、填写、删除PDF表单域'), ('https://www.cnblogs.com/mingupupu/p/18150708', 'WPF/C#：如何显示具有层级关系的数据'), ('https://www.cnblogs.com/xiaoqi/p/18150639/golang-sparse-retrival', '浅谈sparse vec检索工程化实现'), ('https://www.cnblogs.com/guzb/p/18108245/difference-of-thread-pool-implementation', '线程池的运行逻辑与你想象的不一样，它是池族中的异类'), ('https://www.cnblogs.com/fkxxgis/p/18150594', 'ArcPy自动绘制大量地图并设置地图要素：Python'), ('https://www.cnblogs.com/crossoverJie/p/18150585', '日志架构演进：从集中式到分布式的Kubernetes日志策略'), ('https://www.cnblogs.com/VincentLee/p/18150445', 'LORS：腾讯提出低秩残差结构，瘦身模型不掉点 | CVPR 2024'), ('https://www.cnblogs.com/du-hong/p/17835685.html', '《最新出炉》系列初窥篇-Python+Playwright自动化测试-38-如何截图-下篇'), ('https://www.cnblogs.com/beckyyyy/p/18150425', 'CSS之定位Position'), ('https://www.cnblogs.com/thisiswhy/p/18150414', '五年前，我写错了一道面试题。'), ('https://www.cnblogs.com/flydean/p/18150293', '轻松复现一张AI图片'), ('https://www.cnblogs.com/cmt/p/18150234', '上周热点回顾（4.15-4.21）'), ('https://www.cnblogs.com/pengjiali/p/18150115', 'vue3 快速入门系列 —— 其他API'), ('https://www.cnblogs.com/strick/p/17894572.html', '带团队后的日常思考（十四）'), ('https://www.cnblogs.com/ryanyangcs/p/18150072', '见鬼了！我家的 WiFi 只有下雨天才能正常使用...'), ('https://www.cnblogs.com/huaweiyun/p/18150020', '如何基于Django中的WebSockets和异步视图来实现实时通信功能')]\n",
      "https://www.cnblogs.com/#p42 [('https://www.cnblogs.com/shudaoshan/p/18151059', '鸿蒙HarmonyOS实战-ArkUI动画（弹簧曲线动画）'), ('https://www.cnblogs.com/FatTiger4399/p/18146367', '低开开发笔记(四)：实现编辑器内拖拽'), ('https://www.cnblogs.com/ITnoteforlsy/p/18148656', 'Qt 从 QTransform 逆向解出 Translate/Scale/Rotate（平移/缩放/旋转）分析'), ('https://www.cnblogs.com/isharetech/p/18150815', '深度解读《深度探索C++对象模型》之数据成员的存取效率分析（三）'), ('https://www.cnblogs.com/Yesi/p/18150797', '使用C# 创建、填写、删除PDF表单域'), ('https://www.cnblogs.com/mingupupu/p/18150708', 'WPF/C#：如何显示具有层级关系的数据'), ('https://www.cnblogs.com/xiaoqi/p/18150639/golang-sparse-retrival', '浅谈sparse vec检索工程化实现'), ('https://www.cnblogs.com/guzb/p/18108245/difference-of-thread-pool-implementation', '线程池的运行逻辑与你想象的不一样，它是池族中的异类'), ('https://www.cnblogs.com/fkxxgis/p/18150594', 'ArcPy自动绘制大量地图并设置地图要素：Python'), ('https://www.cnblogs.com/crossoverJie/p/18150585', '日志架构演进：从集中式到分布式的Kubernetes日志策略'), ('https://www.cnblogs.com/VincentLee/p/18150445', 'LORS：腾讯提出低秩残差结构，瘦身模型不掉点 | CVPR 2024'), ('https://www.cnblogs.com/du-hong/p/17835685.html', '《最新出炉》系列初窥篇-Python+Playwright自动化测试-38-如何截图-下篇'), ('https://www.cnblogs.com/beckyyyy/p/18150425', 'CSS之定位Position'), ('https://www.cnblogs.com/thisiswhy/p/18150414', '五年前，我写错了一道面试题。'), ('https://www.cnblogs.com/flydean/p/18150293', '轻松复现一张AI图片'), ('https://www.cnblogs.com/cmt/p/18150234', '上周热点回顾（4.15-4.21）'), ('https://www.cnblogs.com/pengjiali/p/18150115', 'vue3 快速入门系列 —— 其他API'), ('https://www.cnblogs.com/strick/p/17894572.html', '带团队后的日常思考（十四）'), ('https://www.cnblogs.com/ryanyangcs/p/18150072', '见鬼了！我家的 WiFi 只有下雨天才能正常使用...'), ('https://www.cnblogs.com/huaweiyun/p/18150020', '如何基于Django中的WebSockets和异步视图来实现实时通信功能')]\n",
      "https://www.cnblogs.com/#p45 [('https://www.cnblogs.com/shudaoshan/p/18151059', '鸿蒙HarmonyOS实战-ArkUI动画（弹簧曲线动画）'), ('https://www.cnblogs.com/FatTiger4399/p/18146367', '低开开发笔记(四)：实现编辑器内拖拽'), ('https://www.cnblogs.com/ITnoteforlsy/p/18148656', 'Qt 从 QTransform 逆向解出 Translate/Scale/Rotate（平移/缩放/旋转）分析'), ('https://www.cnblogs.com/isharetech/p/18150815', '深度解读《深度探索C++对象模型》之数据成员的存取效率分析（三）'), ('https://www.cnblogs.com/Yesi/p/18150797', '使用C# 创建、填写、删除PDF表单域'), ('https://www.cnblogs.com/mingupupu/p/18150708', 'WPF/C#：如何显示具有层级关系的数据'), ('https://www.cnblogs.com/xiaoqi/p/18150639/golang-sparse-retrival', '浅谈sparse vec检索工程化实现'), ('https://www.cnblogs.com/guzb/p/18108245/difference-of-thread-pool-implementation', '线程池的运行逻辑与你想象的不一样，它是池族中的异类'), ('https://www.cnblogs.com/fkxxgis/p/18150594', 'ArcPy自动绘制大量地图并设置地图要素：Python'), ('https://www.cnblogs.com/crossoverJie/p/18150585', '日志架构演进：从集中式到分布式的Kubernetes日志策略'), ('https://www.cnblogs.com/VincentLee/p/18150445', 'LORS：腾讯提出低秩残差结构，瘦身模型不掉点 | CVPR 2024'), ('https://www.cnblogs.com/du-hong/p/17835685.html', '《最新出炉》系列初窥篇-Python+Playwright自动化测试-38-如何截图-下篇'), ('https://www.cnblogs.com/beckyyyy/p/18150425', 'CSS之定位Position'), ('https://www.cnblogs.com/thisiswhy/p/18150414', '五年前，我写错了一道面试题。'), ('https://www.cnblogs.com/flydean/p/18150293', '轻松复现一张AI图片'), ('https://www.cnblogs.com/cmt/p/18150234', '上周热点回顾（4.15-4.21）'), ('https://www.cnblogs.com/pengjiali/p/18150115', 'vue3 快速入门系列 —— 其他API'), ('https://www.cnblogs.com/strick/p/17894572.html', '带团队后的日常思考（十四）'), ('https://www.cnblogs.com/ryanyangcs/p/18150072', '见鬼了！我家的 WiFi 只有下雨天才能正常使用...'), ('https://www.cnblogs.com/huaweiyun/p/18150020', '如何基于Django中的WebSockets和异步视图来实现实时通信功能')]\n",
      "https://www.cnblogs.com/#p41 [('https://www.cnblogs.com/shudaoshan/p/18151059', '鸿蒙HarmonyOS实战-ArkUI动画（弹簧曲线动画）'), ('https://www.cnblogs.com/FatTiger4399/p/18146367', '低开开发笔记(四)：实现编辑器内拖拽'), ('https://www.cnblogs.com/ITnoteforlsy/p/18148656', 'Qt 从 QTransform 逆向解出 Translate/Scale/Rotate（平移/缩放/旋转）分析'), ('https://www.cnblogs.com/isharetech/p/18150815', '深度解读《深度探索C++对象模型》之数据成员的存取效率分析（三）'), ('https://www.cnblogs.com/Yesi/p/18150797', '使用C# 创建、填写、删除PDF表单域'), ('https://www.cnblogs.com/mingupupu/p/18150708', 'WPF/C#：如何显示具有层级关系的数据'), ('https://www.cnblogs.com/xiaoqi/p/18150639/golang-sparse-retrival', '浅谈sparse vec检索工程化实现'), ('https://www.cnblogs.com/guzb/p/18108245/difference-of-thread-pool-implementation', '线程池的运行逻辑与你想象的不一样，它是池族中的异类'), ('https://www.cnblogs.com/fkxxgis/p/18150594', 'ArcPy自动绘制大量地图并设置地图要素：Python'), ('https://www.cnblogs.com/crossoverJie/p/18150585', '日志架构演进：从集中式到分布式的Kubernetes日志策略'), ('https://www.cnblogs.com/VincentLee/p/18150445', 'LORS：腾讯提出低秩残差结构，瘦身模型不掉点 | CVPR 2024'), ('https://www.cnblogs.com/du-hong/p/17835685.html', '《最新出炉》系列初窥篇-Python+Playwright自动化测试-38-如何截图-下篇'), ('https://www.cnblogs.com/beckyyyy/p/18150425', 'CSS之定位Position'), ('https://www.cnblogs.com/thisiswhy/p/18150414', '五年前，我写错了一道面试题。'), ('https://www.cnblogs.com/flydean/p/18150293', '轻松复现一张AI图片'), ('https://www.cnblogs.com/cmt/p/18150234', '上周热点回顾（4.15-4.21）'), ('https://www.cnblogs.com/pengjiali/p/18150115', 'vue3 快速入门系列 —— 其他API'), ('https://www.cnblogs.com/strick/p/17894572.html', '带团队后的日常思考（十四）'), ('https://www.cnblogs.com/ryanyangcs/p/18150072', '见鬼了！我家的 WiFi 只有下雨天才能正常使用...'), ('https://www.cnblogs.com/huaweiyun/p/18150020', '如何基于Django中的WebSockets和异步视图来实现实时通信功能')]\n",
      "https://www.cnblogs.com/#p32 [('https://www.cnblogs.com/shudaoshan/p/18151059', '鸿蒙HarmonyOS实战-ArkUI动画（弹簧曲线动画）'), ('https://www.cnblogs.com/FatTiger4399/p/18146367', '低开开发笔记(四)：实现编辑器内拖拽'), ('https://www.cnblogs.com/ITnoteforlsy/p/18148656', 'Qt 从 QTransform 逆向解出 Translate/Scale/Rotate（平移/缩放/旋转）分析'), ('https://www.cnblogs.com/isharetech/p/18150815', '深度解读《深度探索C++对象模型》之数据成员的存取效率分析（三）'), ('https://www.cnblogs.com/Yesi/p/18150797', '使用C# 创建、填写、删除PDF表单域'), ('https://www.cnblogs.com/mingupupu/p/18150708', 'WPF/C#：如何显示具有层级关系的数据'), ('https://www.cnblogs.com/xiaoqi/p/18150639/golang-sparse-retrival', '浅谈sparse vec检索工程化实现'), ('https://www.cnblogs.com/guzb/p/18108245/difference-of-thread-pool-implementation', '线程池的运行逻辑与你想象的不一样，它是池族中的异类'), ('https://www.cnblogs.com/fkxxgis/p/18150594', 'ArcPy自动绘制大量地图并设置地图要素：Python'), ('https://www.cnblogs.com/crossoverJie/p/18150585', '日志架构演进：从集中式到分布式的Kubernetes日志策略'), ('https://www.cnblogs.com/VincentLee/p/18150445', 'LORS：腾讯提出低秩残差结构，瘦身模型不掉点 | CVPR 2024'), ('https://www.cnblogs.com/du-hong/p/17835685.html', '《最新出炉》系列初窥篇-Python+Playwright自动化测试-38-如何截图-下篇'), ('https://www.cnblogs.com/beckyyyy/p/18150425', 'CSS之定位Position'), ('https://www.cnblogs.com/thisiswhy/p/18150414', '五年前，我写错了一道面试题。'), ('https://www.cnblogs.com/flydean/p/18150293', '轻松复现一张AI图片'), ('https://www.cnblogs.com/cmt/p/18150234', '上周热点回顾（4.15-4.21）'), ('https://www.cnblogs.com/pengjiali/p/18150115', 'vue3 快速入门系列 —— 其他API'), ('https://www.cnblogs.com/strick/p/17894572.html', '带团队后的日常思考（十四）'), ('https://www.cnblogs.com/ryanyangcs/p/18150072', '见鬼了！我家的 WiFi 只有下雨天才能正常使用...'), ('https://www.cnblogs.com/huaweiyun/p/18150020', '如何基于Django中的WebSockets和异步视图来实现实时通信功能')]\n",
      "https://www.cnblogs.com/#p46 [('https://www.cnblogs.com/shudaoshan/p/18151059', '鸿蒙HarmonyOS实战-ArkUI动画（弹簧曲线动画）'), ('https://www.cnblogs.com/FatTiger4399/p/18146367', '低开开发笔记(四)：实现编辑器内拖拽'), ('https://www.cnblogs.com/ITnoteforlsy/p/18148656', 'Qt 从 QTransform 逆向解出 Translate/Scale/Rotate（平移/缩放/旋转）分析'), ('https://www.cnblogs.com/isharetech/p/18150815', '深度解读《深度探索C++对象模型》之数据成员的存取效率分析（三）'), ('https://www.cnblogs.com/Yesi/p/18150797', '使用C# 创建、填写、删除PDF表单域'), ('https://www.cnblogs.com/mingupupu/p/18150708', 'WPF/C#：如何显示具有层级关系的数据'), ('https://www.cnblogs.com/xiaoqi/p/18150639/golang-sparse-retrival', '浅谈sparse vec检索工程化实现'), ('https://www.cnblogs.com/guzb/p/18108245/difference-of-thread-pool-implementation', '线程池的运行逻辑与你想象的不一样，它是池族中的异类'), ('https://www.cnblogs.com/fkxxgis/p/18150594', 'ArcPy自动绘制大量地图并设置地图要素：Python'), ('https://www.cnblogs.com/crossoverJie/p/18150585', '日志架构演进：从集中式到分布式的Kubernetes日志策略'), ('https://www.cnblogs.com/VincentLee/p/18150445', 'LORS：腾讯提出低秩残差结构，瘦身模型不掉点 | CVPR 2024'), ('https://www.cnblogs.com/du-hong/p/17835685.html', '《最新出炉》系列初窥篇-Python+Playwright自动化测试-38-如何截图-下篇'), ('https://www.cnblogs.com/beckyyyy/p/18150425', 'CSS之定位Position'), ('https://www.cnblogs.com/thisiswhy/p/18150414', '五年前，我写错了一道面试题。'), ('https://www.cnblogs.com/flydean/p/18150293', '轻松复现一张AI图片'), ('https://www.cnblogs.com/cmt/p/18150234', '上周热点回顾（4.15-4.21）'), ('https://www.cnblogs.com/pengjiali/p/18150115', 'vue3 快速入门系列 —— 其他API'), ('https://www.cnblogs.com/strick/p/17894572.html', '带团队后的日常思考（十四）'), ('https://www.cnblogs.com/ryanyangcs/p/18150072', '见鬼了！我家的 WiFi 只有下雨天才能正常使用...'), ('https://www.cnblogs.com/huaweiyun/p/18150020', '如何基于Django中的WebSockets和异步视图来实现实时通信功能')]\n",
      "https://www.cnblogs.com/#p43 [('https://www.cnblogs.com/shudaoshan/p/18151059', '鸿蒙HarmonyOS实战-ArkUI动画（弹簧曲线动画）'), ('https://www.cnblogs.com/FatTiger4399/p/18146367', '低开开发笔记(四)：实现编辑器内拖拽'), ('https://www.cnblogs.com/ITnoteforlsy/p/18148656', 'Qt 从 QTransform 逆向解出 Translate/Scale/Rotate（平移/缩放/旋转）分析'), ('https://www.cnblogs.com/isharetech/p/18150815', '深度解读《深度探索C++对象模型》之数据成员的存取效率分析（三）'), ('https://www.cnblogs.com/Yesi/p/18150797', '使用C# 创建、填写、删除PDF表单域'), ('https://www.cnblogs.com/mingupupu/p/18150708', 'WPF/C#：如何显示具有层级关系的数据'), ('https://www.cnblogs.com/xiaoqi/p/18150639/golang-sparse-retrival', '浅谈sparse vec检索工程化实现'), ('https://www.cnblogs.com/guzb/p/18108245/difference-of-thread-pool-implementation', '线程池的运行逻辑与你想象的不一样，它是池族中的异类'), ('https://www.cnblogs.com/fkxxgis/p/18150594', 'ArcPy自动绘制大量地图并设置地图要素：Python'), ('https://www.cnblogs.com/crossoverJie/p/18150585', '日志架构演进：从集中式到分布式的Kubernetes日志策略'), ('https://www.cnblogs.com/VincentLee/p/18150445', 'LORS：腾讯提出低秩残差结构，瘦身模型不掉点 | CVPR 2024'), ('https://www.cnblogs.com/du-hong/p/17835685.html', '《最新出炉》系列初窥篇-Python+Playwright自动化测试-38-如何截图-下篇'), ('https://www.cnblogs.com/beckyyyy/p/18150425', 'CSS之定位Position'), ('https://www.cnblogs.com/thisiswhy/p/18150414', '五年前，我写错了一道面试题。'), ('https://www.cnblogs.com/flydean/p/18150293', '轻松复现一张AI图片'), ('https://www.cnblogs.com/cmt/p/18150234', '上周热点回顾（4.15-4.21）'), ('https://www.cnblogs.com/pengjiali/p/18150115', 'vue3 快速入门系列 —— 其他API'), ('https://www.cnblogs.com/strick/p/17894572.html', '带团队后的日常思考（十四）'), ('https://www.cnblogs.com/ryanyangcs/p/18150072', '见鬼了！我家的 WiFi 只有下雨天才能正常使用...'), ('https://www.cnblogs.com/huaweiyun/p/18150020', '如何基于Django中的WebSockets和异步视图来实现实时通信功能')]\n",
      "https://www.cnblogs.com/#p48 [('https://www.cnblogs.com/shudaoshan/p/18151059', '鸿蒙HarmonyOS实战-ArkUI动画（弹簧曲线动画）'), ('https://www.cnblogs.com/FatTiger4399/p/18146367', '低开开发笔记(四)：实现编辑器内拖拽'), ('https://www.cnblogs.com/ITnoteforlsy/p/18148656', 'Qt 从 QTransform 逆向解出 Translate/Scale/Rotate（平移/缩放/旋转）分析'), ('https://www.cnblogs.com/isharetech/p/18150815', '深度解读《深度探索C++对象模型》之数据成员的存取效率分析（三）'), ('https://www.cnblogs.com/Yesi/p/18150797', '使用C# 创建、填写、删除PDF表单域'), ('https://www.cnblogs.com/mingupupu/p/18150708', 'WPF/C#：如何显示具有层级关系的数据'), ('https://www.cnblogs.com/xiaoqi/p/18150639/golang-sparse-retrival', '浅谈sparse vec检索工程化实现'), ('https://www.cnblogs.com/guzb/p/18108245/difference-of-thread-pool-implementation', '线程池的运行逻辑与你想象的不一样，它是池族中的异类'), ('https://www.cnblogs.com/fkxxgis/p/18150594', 'ArcPy自动绘制大量地图并设置地图要素：Python'), ('https://www.cnblogs.com/crossoverJie/p/18150585', '日志架构演进：从集中式到分布式的Kubernetes日志策略'), ('https://www.cnblogs.com/VincentLee/p/18150445', 'LORS：腾讯提出低秩残差结构，瘦身模型不掉点 | CVPR 2024'), ('https://www.cnblogs.com/du-hong/p/17835685.html', '《最新出炉》系列初窥篇-Python+Playwright自动化测试-38-如何截图-下篇'), ('https://www.cnblogs.com/beckyyyy/p/18150425', 'CSS之定位Position'), ('https://www.cnblogs.com/thisiswhy/p/18150414', '五年前，我写错了一道面试题。'), ('https://www.cnblogs.com/flydean/p/18150293', '轻松复现一张AI图片'), ('https://www.cnblogs.com/cmt/p/18150234', '上周热点回顾（4.15-4.21）'), ('https://www.cnblogs.com/pengjiali/p/18150115', 'vue3 快速入门系列 —— 其他API'), ('https://www.cnblogs.com/strick/p/17894572.html', '带团队后的日常思考（十四）'), ('https://www.cnblogs.com/ryanyangcs/p/18150072', '见鬼了！我家的 WiFi 只有下雨天才能正常使用...'), ('https://www.cnblogs.com/huaweiyun/p/18150020', '如何基于Django中的WebSockets和异步视图来实现实时通信功能')]\n",
      "https://www.cnblogs.com/#p47 [('https://www.cnblogs.com/shudaoshan/p/18151059', '鸿蒙HarmonyOS实战-ArkUI动画（弹簧曲线动画）'), ('https://www.cnblogs.com/FatTiger4399/p/18146367', '低开开发笔记(四)：实现编辑器内拖拽'), ('https://www.cnblogs.com/ITnoteforlsy/p/18148656', 'Qt 从 QTransform 逆向解出 Translate/Scale/Rotate（平移/缩放/旋转）分析'), ('https://www.cnblogs.com/isharetech/p/18150815', '深度解读《深度探索C++对象模型》之数据成员的存取效率分析（三）'), ('https://www.cnblogs.com/Yesi/p/18150797', '使用C# 创建、填写、删除PDF表单域'), ('https://www.cnblogs.com/mingupupu/p/18150708', 'WPF/C#：如何显示具有层级关系的数据'), ('https://www.cnblogs.com/xiaoqi/p/18150639/golang-sparse-retrival', '浅谈sparse vec检索工程化实现'), ('https://www.cnblogs.com/guzb/p/18108245/difference-of-thread-pool-implementation', '线程池的运行逻辑与你想象的不一样，它是池族中的异类'), ('https://www.cnblogs.com/fkxxgis/p/18150594', 'ArcPy自动绘制大量地图并设置地图要素：Python'), ('https://www.cnblogs.com/crossoverJie/p/18150585', '日志架构演进：从集中式到分布式的Kubernetes日志策略'), ('https://www.cnblogs.com/VincentLee/p/18150445', 'LORS：腾讯提出低秩残差结构，瘦身模型不掉点 | CVPR 2024'), ('https://www.cnblogs.com/du-hong/p/17835685.html', '《最新出炉》系列初窥篇-Python+Playwright自动化测试-38-如何截图-下篇'), ('https://www.cnblogs.com/beckyyyy/p/18150425', 'CSS之定位Position'), ('https://www.cnblogs.com/thisiswhy/p/18150414', '五年前，我写错了一道面试题。'), ('https://www.cnblogs.com/flydean/p/18150293', '轻松复现一张AI图片'), ('https://www.cnblogs.com/cmt/p/18150234', '上周热点回顾（4.15-4.21）'), ('https://www.cnblogs.com/pengjiali/p/18150115', 'vue3 快速入门系列 —— 其他API'), ('https://www.cnblogs.com/strick/p/17894572.html', '带团队后的日常思考（十四）'), ('https://www.cnblogs.com/ryanyangcs/p/18150072', '见鬼了！我家的 WiFi 只有下雨天才能正常使用...'), ('https://www.cnblogs.com/huaweiyun/p/18150020', '如何基于Django中的WebSockets和异步视图来实现实时通信功能')]\n",
      "https://www.cnblogs.com/#p37 [('https://www.cnblogs.com/shudaoshan/p/18151059', '鸿蒙HarmonyOS实战-ArkUI动画（弹簧曲线动画）'), ('https://www.cnblogs.com/FatTiger4399/p/18146367', '低开开发笔记(四)：实现编辑器内拖拽'), ('https://www.cnblogs.com/ITnoteforlsy/p/18148656', 'Qt 从 QTransform 逆向解出 Translate/Scale/Rotate（平移/缩放/旋转）分析'), ('https://www.cnblogs.com/isharetech/p/18150815', '深度解读《深度探索C++对象模型》之数据成员的存取效率分析（三）'), ('https://www.cnblogs.com/Yesi/p/18150797', '使用C# 创建、填写、删除PDF表单域'), ('https://www.cnblogs.com/mingupupu/p/18150708', 'WPF/C#：如何显示具有层级关系的数据'), ('https://www.cnblogs.com/xiaoqi/p/18150639/golang-sparse-retrival', '浅谈sparse vec检索工程化实现'), ('https://www.cnblogs.com/guzb/p/18108245/difference-of-thread-pool-implementation', '线程池的运行逻辑与你想象的不一样，它是池族中的异类'), ('https://www.cnblogs.com/fkxxgis/p/18150594', 'ArcPy自动绘制大量地图并设置地图要素：Python'), ('https://www.cnblogs.com/crossoverJie/p/18150585', '日志架构演进：从集中式到分布式的Kubernetes日志策略'), ('https://www.cnblogs.com/VincentLee/p/18150445', 'LORS：腾讯提出低秩残差结构，瘦身模型不掉点 | CVPR 2024'), ('https://www.cnblogs.com/du-hong/p/17835685.html', '《最新出炉》系列初窥篇-Python+Playwright自动化测试-38-如何截图-下篇'), ('https://www.cnblogs.com/beckyyyy/p/18150425', 'CSS之定位Position'), ('https://www.cnblogs.com/thisiswhy/p/18150414', '五年前，我写错了一道面试题。'), ('https://www.cnblogs.com/flydean/p/18150293', '轻松复现一张AI图片'), ('https://www.cnblogs.com/cmt/p/18150234', '上周热点回顾（4.15-4.21）'), ('https://www.cnblogs.com/pengjiali/p/18150115', 'vue3 快速入门系列 —— 其他API'), ('https://www.cnblogs.com/strick/p/17894572.html', '带团队后的日常思考（十四）'), ('https://www.cnblogs.com/ryanyangcs/p/18150072', '见鬼了！我家的 WiFi 只有下雨天才能正常使用...'), ('https://www.cnblogs.com/huaweiyun/p/18150020', '如何基于Django中的WebSockets和异步视图来实现实时通信功能')]\n",
      "https://www.cnblogs.com/#p29 [('https://www.cnblogs.com/shudaoshan/p/18151059', '鸿蒙HarmonyOS实战-ArkUI动画（弹簧曲线动画）'), ('https://www.cnblogs.com/FatTiger4399/p/18146367', '低开开发笔记(四)：实现编辑器内拖拽'), ('https://www.cnblogs.com/ITnoteforlsy/p/18148656', 'Qt 从 QTransform 逆向解出 Translate/Scale/Rotate（平移/缩放/旋转）分析'), ('https://www.cnblogs.com/isharetech/p/18150815', '深度解读《深度探索C++对象模型》之数据成员的存取效率分析（三）'), ('https://www.cnblogs.com/Yesi/p/18150797', '使用C# 创建、填写、删除PDF表单域'), ('https://www.cnblogs.com/mingupupu/p/18150708', 'WPF/C#：如何显示具有层级关系的数据'), ('https://www.cnblogs.com/xiaoqi/p/18150639/golang-sparse-retrival', '浅谈sparse vec检索工程化实现'), ('https://www.cnblogs.com/guzb/p/18108245/difference-of-thread-pool-implementation', '线程池的运行逻辑与你想象的不一样，它是池族中的异类'), ('https://www.cnblogs.com/fkxxgis/p/18150594', 'ArcPy自动绘制大量地图并设置地图要素：Python'), ('https://www.cnblogs.com/crossoverJie/p/18150585', '日志架构演进：从集中式到分布式的Kubernetes日志策略'), ('https://www.cnblogs.com/VincentLee/p/18150445', 'LORS：腾讯提出低秩残差结构，瘦身模型不掉点 | CVPR 2024'), ('https://www.cnblogs.com/du-hong/p/17835685.html', '《最新出炉》系列初窥篇-Python+Playwright自动化测试-38-如何截图-下篇'), ('https://www.cnblogs.com/beckyyyy/p/18150425', 'CSS之定位Position'), ('https://www.cnblogs.com/thisiswhy/p/18150414', '五年前，我写错了一道面试题。'), ('https://www.cnblogs.com/flydean/p/18150293', '轻松复现一张AI图片'), ('https://www.cnblogs.com/cmt/p/18150234', '上周热点回顾（4.15-4.21）'), ('https://www.cnblogs.com/pengjiali/p/18150115', 'vue3 快速入门系列 —— 其他API'), ('https://www.cnblogs.com/strick/p/17894572.html', '带团队后的日常思考（十四）'), ('https://www.cnblogs.com/ryanyangcs/p/18150072', '见鬼了！我家的 WiFi 只有下雨天才能正常使用...'), ('https://www.cnblogs.com/huaweiyun/p/18150020', '如何基于Django中的WebSockets和异步视图来实现实时通信功能')]\n",
      "https://www.cnblogs.com/#p40 [('https://www.cnblogs.com/shudaoshan/p/18151059', '鸿蒙HarmonyOS实战-ArkUI动画（弹簧曲线动画）'), ('https://www.cnblogs.com/FatTiger4399/p/18146367', '低开开发笔记(四)：实现编辑器内拖拽'), ('https://www.cnblogs.com/ITnoteforlsy/p/18148656', 'Qt 从 QTransform 逆向解出 Translate/Scale/Rotate（平移/缩放/旋转）分析'), ('https://www.cnblogs.com/isharetech/p/18150815', '深度解读《深度探索C++对象模型》之数据成员的存取效率分析（三）'), ('https://www.cnblogs.com/Yesi/p/18150797', '使用C# 创建、填写、删除PDF表单域'), ('https://www.cnblogs.com/mingupupu/p/18150708', 'WPF/C#：如何显示具有层级关系的数据'), ('https://www.cnblogs.com/xiaoqi/p/18150639/golang-sparse-retrival', '浅谈sparse vec检索工程化实现'), ('https://www.cnblogs.com/guzb/p/18108245/difference-of-thread-pool-implementation', '线程池的运行逻辑与你想象的不一样，它是池族中的异类'), ('https://www.cnblogs.com/fkxxgis/p/18150594', 'ArcPy自动绘制大量地图并设置地图要素：Python'), ('https://www.cnblogs.com/crossoverJie/p/18150585', '日志架构演进：从集中式到分布式的Kubernetes日志策略'), ('https://www.cnblogs.com/VincentLee/p/18150445', 'LORS：腾讯提出低秩残差结构，瘦身模型不掉点 | CVPR 2024'), ('https://www.cnblogs.com/du-hong/p/17835685.html', '《最新出炉》系列初窥篇-Python+Playwright自动化测试-38-如何截图-下篇'), ('https://www.cnblogs.com/beckyyyy/p/18150425', 'CSS之定位Position'), ('https://www.cnblogs.com/thisiswhy/p/18150414', '五年前，我写错了一道面试题。'), ('https://www.cnblogs.com/flydean/p/18150293', '轻松复现一张AI图片'), ('https://www.cnblogs.com/cmt/p/18150234', '上周热点回顾（4.15-4.21）'), ('https://www.cnblogs.com/pengjiali/p/18150115', 'vue3 快速入门系列 —— 其他API'), ('https://www.cnblogs.com/strick/p/17894572.html', '带团队后的日常思考（十四）'), ('https://www.cnblogs.com/ryanyangcs/p/18150072', '见鬼了！我家的 WiFi 只有下雨天才能正常使用...'), ('https://www.cnblogs.com/huaweiyun/p/18150020', '如何基于Django中的WebSockets和异步视图来实现实时通信功能')]\n",
      "https://www.cnblogs.com/#p49 [('https://www.cnblogs.com/shudaoshan/p/18151059', '鸿蒙HarmonyOS实战-ArkUI动画（弹簧曲线动画）'), ('https://www.cnblogs.com/FatTiger4399/p/18146367', '低开开发笔记(四)：实现编辑器内拖拽'), ('https://www.cnblogs.com/ITnoteforlsy/p/18148656', 'Qt 从 QTransform 逆向解出 Translate/Scale/Rotate（平移/缩放/旋转）分析'), ('https://www.cnblogs.com/isharetech/p/18150815', '深度解读《深度探索C++对象模型》之数据成员的存取效率分析（三）'), ('https://www.cnblogs.com/Yesi/p/18150797', '使用C# 创建、填写、删除PDF表单域'), ('https://www.cnblogs.com/mingupupu/p/18150708', 'WPF/C#：如何显示具有层级关系的数据'), ('https://www.cnblogs.com/xiaoqi/p/18150639/golang-sparse-retrival', '浅谈sparse vec检索工程化实现'), ('https://www.cnblogs.com/guzb/p/18108245/difference-of-thread-pool-implementation', '线程池的运行逻辑与你想象的不一样，它是池族中的异类'), ('https://www.cnblogs.com/fkxxgis/p/18150594', 'ArcPy自动绘制大量地图并设置地图要素：Python'), ('https://www.cnblogs.com/crossoverJie/p/18150585', '日志架构演进：从集中式到分布式的Kubernetes日志策略'), ('https://www.cnblogs.com/VincentLee/p/18150445', 'LORS：腾讯提出低秩残差结构，瘦身模型不掉点 | CVPR 2024'), ('https://www.cnblogs.com/du-hong/p/17835685.html', '《最新出炉》系列初窥篇-Python+Playwright自动化测试-38-如何截图-下篇'), ('https://www.cnblogs.com/beckyyyy/p/18150425', 'CSS之定位Position'), ('https://www.cnblogs.com/thisiswhy/p/18150414', '五年前，我写错了一道面试题。'), ('https://www.cnblogs.com/flydean/p/18150293', '轻松复现一张AI图片'), ('https://www.cnblogs.com/cmt/p/18150234', '上周热点回顾（4.15-4.21）'), ('https://www.cnblogs.com/pengjiali/p/18150115', 'vue3 快速入门系列 —— 其他API'), ('https://www.cnblogs.com/strick/p/17894572.html', '带团队后的日常思考（十四）'), ('https://www.cnblogs.com/ryanyangcs/p/18150072', '见鬼了！我家的 WiFi 只有下雨天才能正常使用...'), ('https://www.cnblogs.com/huaweiyun/p/18150020', '如何基于Django中的WebSockets和异步视图来实现实时通信功能')]\n",
      "https://www.cnblogs.com/#p50 [('https://www.cnblogs.com/shudaoshan/p/18151059', '鸿蒙HarmonyOS实战-ArkUI动画（弹簧曲线动画）'), ('https://www.cnblogs.com/FatTiger4399/p/18146367', '低开开发笔记(四)：实现编辑器内拖拽'), ('https://www.cnblogs.com/ITnoteforlsy/p/18148656', 'Qt 从 QTransform 逆向解出 Translate/Scale/Rotate（平移/缩放/旋转）分析'), ('https://www.cnblogs.com/isharetech/p/18150815', '深度解读《深度探索C++对象模型》之数据成员的存取效率分析（三）'), ('https://www.cnblogs.com/Yesi/p/18150797', '使用C# 创建、填写、删除PDF表单域'), ('https://www.cnblogs.com/mingupupu/p/18150708', 'WPF/C#：如何显示具有层级关系的数据'), ('https://www.cnblogs.com/xiaoqi/p/18150639/golang-sparse-retrival', '浅谈sparse vec检索工程化实现'), ('https://www.cnblogs.com/guzb/p/18108245/difference-of-thread-pool-implementation', '线程池的运行逻辑与你想象的不一样，它是池族中的异类'), ('https://www.cnblogs.com/fkxxgis/p/18150594', 'ArcPy自动绘制大量地图并设置地图要素：Python'), ('https://www.cnblogs.com/crossoverJie/p/18150585', '日志架构演进：从集中式到分布式的Kubernetes日志策略'), ('https://www.cnblogs.com/VincentLee/p/18150445', 'LORS：腾讯提出低秩残差结构，瘦身模型不掉点 | CVPR 2024'), ('https://www.cnblogs.com/du-hong/p/17835685.html', '《最新出炉》系列初窥篇-Python+Playwright自动化测试-38-如何截图-下篇'), ('https://www.cnblogs.com/beckyyyy/p/18150425', 'CSS之定位Position'), ('https://www.cnblogs.com/thisiswhy/p/18150414', '五年前，我写错了一道面试题。'), ('https://www.cnblogs.com/flydean/p/18150293', '轻松复现一张AI图片'), ('https://www.cnblogs.com/cmt/p/18150234', '上周热点回顾（4.15-4.21）'), ('https://www.cnblogs.com/pengjiali/p/18150115', 'vue3 快速入门系列 —— 其他API'), ('https://www.cnblogs.com/strick/p/17894572.html', '带团队后的日常思考（十四）'), ('https://www.cnblogs.com/ryanyangcs/p/18150072', '见鬼了！我家的 WiFi 只有下雨天才能正常使用...'), ('https://www.cnblogs.com/huaweiyun/p/18150020', '如何基于Django中的WebSockets和异步视图来实现实时通信功能')]\n",
      "https://www.cnblogs.com/#p44 [('https://www.cnblogs.com/shudaoshan/p/18151059', '鸿蒙HarmonyOS实战-ArkUI动画（弹簧曲线动画）'), ('https://www.cnblogs.com/FatTiger4399/p/18146367', '低开开发笔记(四)：实现编辑器内拖拽'), ('https://www.cnblogs.com/ITnoteforlsy/p/18148656', 'Qt 从 QTransform 逆向解出 Translate/Scale/Rotate（平移/缩放/旋转）分析'), ('https://www.cnblogs.com/isharetech/p/18150815', '深度解读《深度探索C++对象模型》之数据成员的存取效率分析（三）'), ('https://www.cnblogs.com/Yesi/p/18150797', '使用C# 创建、填写、删除PDF表单域'), ('https://www.cnblogs.com/mingupupu/p/18150708', 'WPF/C#：如何显示具有层级关系的数据'), ('https://www.cnblogs.com/xiaoqi/p/18150639/golang-sparse-retrival', '浅谈sparse vec检索工程化实现'), ('https://www.cnblogs.com/guzb/p/18108245/difference-of-thread-pool-implementation', '线程池的运行逻辑与你想象的不一样，它是池族中的异类'), ('https://www.cnblogs.com/fkxxgis/p/18150594', 'ArcPy自动绘制大量地图并设置地图要素：Python'), ('https://www.cnblogs.com/crossoverJie/p/18150585', '日志架构演进：从集中式到分布式的Kubernetes日志策略'), ('https://www.cnblogs.com/VincentLee/p/18150445', 'LORS：腾讯提出低秩残差结构，瘦身模型不掉点 | CVPR 2024'), ('https://www.cnblogs.com/du-hong/p/17835685.html', '《最新出炉》系列初窥篇-Python+Playwright自动化测试-38-如何截图-下篇'), ('https://www.cnblogs.com/beckyyyy/p/18150425', 'CSS之定位Position'), ('https://www.cnblogs.com/thisiswhy/p/18150414', '五年前，我写错了一道面试题。'), ('https://www.cnblogs.com/flydean/p/18150293', '轻松复现一张AI图片'), ('https://www.cnblogs.com/cmt/p/18150234', '上周热点回顾（4.15-4.21）'), ('https://www.cnblogs.com/pengjiali/p/18150115', 'vue3 快速入门系列 —— 其他API'), ('https://www.cnblogs.com/strick/p/17894572.html', '带团队后的日常思考（十四）'), ('https://www.cnblogs.com/ryanyangcs/p/18150072', '见鬼了！我家的 WiFi 只有下雨天才能正常使用...'), ('https://www.cnblogs.com/huaweiyun/p/18150020', '如何基于Django中的WebSockets和异步视图来实现实时通信功能')]\n"
     ]
    }
   ],
   "source": [
    "# parse\n",
    "# 用submit\n",
    "with concurrent.futures.ThreadPoolExecutor() as pool:\n",
    "    futures = {}\n",
    "    for url, html in htmls:\n",
    "        future = pool.submit(parse,html)\n",
    "        futures[future] = url\n",
    "    \n",
    "    # for future,url in futures.items():  # 按传入顺序获取返回结果\n",
    "    #     print(url, future.result())\n",
    "    for future in concurrent.futures.as_completed(futures):   # 先完成的任务先返回结果\n",
    "        url = futures[future]\n",
    "        print(url,future.result())"
   ]
  },
  {
   "cell_type": "markdown",
   "metadata": {},
   "source": [
    "# Web服务中使用线程池加速\n",
    "1. 方便地将IO调用并发执行\n",
    "2. 线程池的线程数目不会无限创建（导致系统挂掉），具有防御功能"
   ]
  },
  {
   "cell_type": "markdown",
   "metadata": {},
   "source": [
    "# 多进程\n",
    "## 有了多线程，为什么还要多进程\n",
    "如果遇到CPU密集型计算，多线程反而降低执行速度\n",
    "![](../images/Python并发编程/多进程.png)\n",
    "## 多进程对比多线程\n",
    "![](../images/Python并发编程/多进程对比多线程.png)"
   ]
  },
  {
   "cell_type": "code",
   "execution_count": 16,
   "metadata": {},
   "outputs": [],
   "source": [
    "import math,time\n",
    "from concurrent.futures import ThreadPoolExecutor, ProcessPoolExecutor\n",
    "PRIMES = [112272535095293]*100\n",
    "def is_prime(n):\n",
    "    if n<2:\n",
    "        return False\n",
    "    if n==2:\n",
    "        return True\n",
    "    if n%2 ==0:\n",
    "        return False\n",
    "    sqrt_n = int(math.floor(math.sqrt(n)))\n",
    "    for i in range(3,sqrt_n+1,2):\n",
    "        if n%i==0:\n",
    "            return False\n",
    "    return True\n",
    "\n",
    "def single_thread():\n",
    "    for number in PRIMES:\n",
    "        is_prime(number)\n",
    "\n",
    "def multi_thread():\n",
    "    with ThreadPoolExecutor() as pool:\n",
    "        pool.map(is_prime,PRIMES)\n",
    "\n",
    "def multi_process():\n",
    "    with ProcessPoolExecutor() as pool:\n",
    "        pool.map(is_prime,PRIMES)"
   ]
  },
  {
   "cell_type": "code",
   "execution_count": 17,
   "metadata": {},
   "outputs": [
    {
     "name": "stdout",
     "output_type": "stream",
     "text": [
      "single thread, cost: 26.073679208755493 seconds\n",
      "multi thread, cost: 25.577187061309814 seconds\n",
      "multi process, cost: 0.1091609001159668 seconds\n"
     ]
    },
    {
     "name": "stderr",
     "output_type": "stream",
     "text": [
      "Process SpawnProcess-1:\n",
      "Process SpawnProcess-2:\n",
      "Process SpawnProcess-4:\n",
      "Process SpawnProcess-3:\n",
      "Process SpawnProcess-5:\n",
      "Traceback (most recent call last):\n",
      "Traceback (most recent call last):\n",
      "  File \"/Users/cenzhedong/opt/anaconda3/lib/python3.9/multiprocessing/process.py\", line 315, in _bootstrap\n",
      "    self.run()\n",
      "  File \"/Users/cenzhedong/opt/anaconda3/lib/python3.9/multiprocessing/process.py\", line 108, in run\n",
      "    self._target(*self._args, **self._kwargs)\n",
      "  File \"/Users/cenzhedong/opt/anaconda3/lib/python3.9/concurrent/futures/process.py\", line 237, in _process_worker\n",
      "    call_item = call_queue.get(block=True)\n",
      "  File \"/Users/cenzhedong/opt/anaconda3/lib/python3.9/multiprocessing/process.py\", line 315, in _bootstrap\n",
      "    self.run()\n",
      "  File \"/Users/cenzhedong/opt/anaconda3/lib/python3.9/multiprocessing/queues.py\", line 122, in get\n",
      "    return _ForkingPickler.loads(res)\n",
      "  File \"/Users/cenzhedong/opt/anaconda3/lib/python3.9/multiprocessing/process.py\", line 108, in run\n",
      "    self._target(*self._args, **self._kwargs)\n",
      "  File \"/Users/cenzhedong/opt/anaconda3/lib/python3.9/concurrent/futures/process.py\", line 237, in _process_worker\n",
      "    call_item = call_queue.get(block=True)\n",
      "  File \"/Users/cenzhedong/opt/anaconda3/lib/python3.9/multiprocessing/queues.py\", line 122, in get\n",
      "    return _ForkingPickler.loads(res)\n",
      "AttributeError: Can't get attribute 'is_prime' on <module '__main__' (built-in)>\n",
      "Traceback (most recent call last):\n",
      "AttributeError: Can't get attribute 'is_prime' on <module '__main__' (built-in)>\n",
      "Traceback (most recent call last):\n",
      "  File \"/Users/cenzhedong/opt/anaconda3/lib/python3.9/multiprocessing/process.py\", line 315, in _bootstrap\n",
      "    self.run()\n",
      "  File \"/Users/cenzhedong/opt/anaconda3/lib/python3.9/multiprocessing/process.py\", line 315, in _bootstrap\n",
      "    self.run()\n",
      "  File \"/Users/cenzhedong/opt/anaconda3/lib/python3.9/multiprocessing/process.py\", line 108, in run\n",
      "    self._target(*self._args, **self._kwargs)\n",
      "  File \"/Users/cenzhedong/opt/anaconda3/lib/python3.9/multiprocessing/process.py\", line 108, in run\n",
      "    self._target(*self._args, **self._kwargs)\n",
      "  File \"/Users/cenzhedong/opt/anaconda3/lib/python3.9/concurrent/futures/process.py\", line 237, in _process_worker\n",
      "    call_item = call_queue.get(block=True)\n",
      "  File \"/Users/cenzhedong/opt/anaconda3/lib/python3.9/multiprocessing/queues.py\", line 122, in get\n",
      "    return _ForkingPickler.loads(res)\n",
      "AttributeError: Can't get attribute 'is_prime' on <module '__main__' (built-in)>\n",
      "Traceback (most recent call last):\n",
      "  File \"/Users/cenzhedong/opt/anaconda3/lib/python3.9/multiprocessing/process.py\", line 315, in _bootstrap\n",
      "    self.run()\n",
      "  File \"/Users/cenzhedong/opt/anaconda3/lib/python3.9/multiprocessing/process.py\", line 108, in run\n",
      "    self._target(*self._args, **self._kwargs)\n",
      "  File \"/Users/cenzhedong/opt/anaconda3/lib/python3.9/concurrent/futures/process.py\", line 237, in _process_worker\n",
      "    call_item = call_queue.get(block=True)\n",
      "  File \"/Users/cenzhedong/opt/anaconda3/lib/python3.9/multiprocessing/queues.py\", line 122, in get\n",
      "    return _ForkingPickler.loads(res)\n",
      "AttributeError: Can't get attribute 'is_prime' on <module '__main__' (built-in)>\n",
      "  File \"/Users/cenzhedong/opt/anaconda3/lib/python3.9/concurrent/futures/process.py\", line 237, in _process_worker\n",
      "    call_item = call_queue.get(block=True)\n",
      "  File \"/Users/cenzhedong/opt/anaconda3/lib/python3.9/multiprocessing/queues.py\", line 122, in get\n",
      "    return _ForkingPickler.loads(res)\n",
      "AttributeError: Can't get attribute 'is_prime' on <module '__main__' (built-in)>\n"
     ]
    }
   ],
   "source": [
    "if __name__ == \"__main__\":\n",
    "    start = time.time()\n",
    "    single_thread()\n",
    "    end = time.time()\n",
    "    print('single thread, cost:',end-start,'seconds')\n",
    "\n",
    "    start = time.time()\n",
    "    multi_thread()\n",
    "    end = time.time()\n",
    "    print('multi thread, cost:',end-start,'seconds')\n",
    "\n",
    "    start = time.time()\n",
    "    multi_process()\n",
    "    end = time.time()\n",
    "    print('multi process, cost:',end-start,'seconds')"
   ]
  },
  {
   "cell_type": "markdown",
   "metadata": {},
   "source": [
    "# 协程并发\n",
    "![](../images/Python并发编程/协程并发.png)"
   ]
  },
  {
   "cell_type": "markdown",
   "metadata": {},
   "source": [
    "## Python异步IO库：asyncio\n",
    "要用在异步编程中，依赖的库必须支持异步IO特性\n",
    "\n",
    "爬虫引用中：\n",
    "requests不支持异步\n",
    "需要用aiohttp"
   ]
  },
  {
   "cell_type": "code",
   "execution_count": 18,
   "metadata": {},
   "outputs": [
    {
     "ename": "RuntimeError",
     "evalue": "This event loop is already running",
     "output_type": "error",
     "traceback": [
      "\u001b[0;31m---------------------------------------------------------------------------\u001b[0m",
      "\u001b[0;31mRuntimeError\u001b[0m                              Traceback (most recent call last)",
      "Input \u001b[0;32mIn [18]\u001b[0m, in \u001b[0;36m<cell line: 11>\u001b[0;34m()\u001b[0m\n\u001b[1;32m      9\u001b[0m tasks \u001b[38;5;241m=\u001b[39m [loop\u001b[38;5;241m.\u001b[39mcreate_task(myfunc(url)) \u001b[38;5;28;01mfor\u001b[39;00m url \u001b[38;5;129;01min\u001b[39;00m urls]\n\u001b[1;32m     10\u001b[0m \u001b[38;5;66;03m# 执行爬虫事件列表\u001b[39;00m\n\u001b[0;32m---> 11\u001b[0m \u001b[43mloop\u001b[49m\u001b[38;5;241;43m.\u001b[39;49m\u001b[43mrun_until_complete\u001b[49m\u001b[43m(\u001b[49m\u001b[43masyncio\u001b[49m\u001b[38;5;241;43m.\u001b[39;49m\u001b[43mwait\u001b[49m\u001b[43m(\u001b[49m\u001b[43mtasks\u001b[49m\u001b[43m)\u001b[49m\u001b[43m)\u001b[49m\n",
      "File \u001b[0;32m~/opt/anaconda3/lib/python3.9/asyncio/base_events.py:623\u001b[0m, in \u001b[0;36mBaseEventLoop.run_until_complete\u001b[0;34m(self, future)\u001b[0m\n\u001b[1;32m    612\u001b[0m \u001b[38;5;250m\u001b[39m\u001b[38;5;124;03m\"\"\"Run until the Future is done.\u001b[39;00m\n\u001b[1;32m    613\u001b[0m \n\u001b[1;32m    614\u001b[0m \u001b[38;5;124;03mIf the argument is a coroutine, it is wrapped in a Task.\u001b[39;00m\n\u001b[0;32m   (...)\u001b[0m\n\u001b[1;32m    620\u001b[0m \u001b[38;5;124;03mReturn the Future's result, or raise its exception.\u001b[39;00m\n\u001b[1;32m    621\u001b[0m \u001b[38;5;124;03m\"\"\"\u001b[39;00m\n\u001b[1;32m    622\u001b[0m \u001b[38;5;28mself\u001b[39m\u001b[38;5;241m.\u001b[39m_check_closed()\n\u001b[0;32m--> 623\u001b[0m \u001b[38;5;28;43mself\u001b[39;49m\u001b[38;5;241;43m.\u001b[39;49m\u001b[43m_check_running\u001b[49m\u001b[43m(\u001b[49m\u001b[43m)\u001b[49m\n\u001b[1;32m    625\u001b[0m new_task \u001b[38;5;241m=\u001b[39m \u001b[38;5;129;01mnot\u001b[39;00m futures\u001b[38;5;241m.\u001b[39misfuture(future)\n\u001b[1;32m    626\u001b[0m future \u001b[38;5;241m=\u001b[39m tasks\u001b[38;5;241m.\u001b[39mensure_future(future, loop\u001b[38;5;241m=\u001b[39m\u001b[38;5;28mself\u001b[39m)\n",
      "File \u001b[0;32m~/opt/anaconda3/lib/python3.9/asyncio/base_events.py:583\u001b[0m, in \u001b[0;36mBaseEventLoop._check_running\u001b[0;34m(self)\u001b[0m\n\u001b[1;32m    581\u001b[0m \u001b[38;5;28;01mdef\u001b[39;00m \u001b[38;5;21m_check_running\u001b[39m(\u001b[38;5;28mself\u001b[39m):\n\u001b[1;32m    582\u001b[0m     \u001b[38;5;28;01mif\u001b[39;00m \u001b[38;5;28mself\u001b[39m\u001b[38;5;241m.\u001b[39mis_running():\n\u001b[0;32m--> 583\u001b[0m         \u001b[38;5;28;01mraise\u001b[39;00m \u001b[38;5;167;01mRuntimeError\u001b[39;00m(\u001b[38;5;124m'\u001b[39m\u001b[38;5;124mThis event loop is already running\u001b[39m\u001b[38;5;124m'\u001b[39m)\n\u001b[1;32m    584\u001b[0m     \u001b[38;5;28;01mif\u001b[39;00m events\u001b[38;5;241m.\u001b[39m_get_running_loop() \u001b[38;5;129;01mis\u001b[39;00m \u001b[38;5;129;01mnot\u001b[39;00m \u001b[38;5;28;01mNone\u001b[39;00m:\n\u001b[1;32m    585\u001b[0m         \u001b[38;5;28;01mraise\u001b[39;00m \u001b[38;5;167;01mRuntimeError\u001b[39;00m(\n\u001b[1;32m    586\u001b[0m             \u001b[38;5;124m'\u001b[39m\u001b[38;5;124mCannot run the event loop while another loop is running\u001b[39m\u001b[38;5;124m'\u001b[39m)\n",
      "\u001b[0;31mRuntimeError\u001b[0m: This event loop is already running"
     ]
    }
   ],
   "source": [
    "import asyncio\n",
    "# 获取事件循环\n",
    "loop = asyncio.get_event_loop()\n",
    "# 定义协程\n",
    "async def myfunc(url):\n",
    "    await get_url(url)\n",
    "\n",
    "# 创建task列表\n",
    "tasks = [loop.create_task(myfunc(url)) for url in urls]\n",
    "# 执行爬虫事件列表\n",
    "loop.run_until_complete(asyncio.wait(tasks))"
   ]
  },
  {
   "cell_type": "code",
   "execution_count": 3,
   "metadata": {},
   "outputs": [
    {
     "ename": "RuntimeError",
     "evalue": "This event loop is already running",
     "output_type": "error",
     "traceback": [
      "\u001b[0;31m---------------------------------------------------------------------------\u001b[0m",
      "\u001b[0;31mRuntimeError\u001b[0m                              Traceback (most recent call last)",
      "Input \u001b[0;32mIn [3]\u001b[0m, in \u001b[0;36m<cell line: 16>\u001b[0;34m()\u001b[0m\n\u001b[1;32m     14\u001b[0m \u001b[38;5;28;01mimport\u001b[39;00m \u001b[38;5;21;01mtime\u001b[39;00m\n\u001b[1;32m     15\u001b[0m start \u001b[38;5;241m=\u001b[39m time\u001b[38;5;241m.\u001b[39mtime()\n\u001b[0;32m---> 16\u001b[0m \u001b[43mloop\u001b[49m\u001b[38;5;241;43m.\u001b[39;49m\u001b[43mrun_until_complete\u001b[49m\u001b[43m(\u001b[49m\u001b[43masyncio\u001b[49m\u001b[38;5;241;43m.\u001b[39;49m\u001b[43mwait\u001b[49m\u001b[43m(\u001b[49m\u001b[43mtasks\u001b[49m\u001b[43m)\u001b[49m\u001b[43m)\u001b[49m\n\u001b[1;32m     17\u001b[0m end \u001b[38;5;241m=\u001b[39m time\u001b[38;5;241m.\u001b[39mtime()\n\u001b[1;32m     18\u001b[0m \u001b[38;5;28mprint\u001b[39m(\u001b[38;5;124m\"\u001b[39m\u001b[38;5;124muse time seconds: \u001b[39m\u001b[38;5;124m\"\u001b[39m,end\u001b[38;5;241m-\u001b[39mstart)\n",
      "File \u001b[0;32m~/opt/anaconda3/lib/python3.9/asyncio/base_events.py:623\u001b[0m, in \u001b[0;36mBaseEventLoop.run_until_complete\u001b[0;34m(self, future)\u001b[0m\n\u001b[1;32m    612\u001b[0m \u001b[38;5;250m\u001b[39m\u001b[38;5;124;03m\"\"\"Run until the Future is done.\u001b[39;00m\n\u001b[1;32m    613\u001b[0m \n\u001b[1;32m    614\u001b[0m \u001b[38;5;124;03mIf the argument is a coroutine, it is wrapped in a Task.\u001b[39;00m\n\u001b[0;32m   (...)\u001b[0m\n\u001b[1;32m    620\u001b[0m \u001b[38;5;124;03mReturn the Future's result, or raise its exception.\u001b[39;00m\n\u001b[1;32m    621\u001b[0m \u001b[38;5;124;03m\"\"\"\u001b[39;00m\n\u001b[1;32m    622\u001b[0m \u001b[38;5;28mself\u001b[39m\u001b[38;5;241m.\u001b[39m_check_closed()\n\u001b[0;32m--> 623\u001b[0m \u001b[38;5;28;43mself\u001b[39;49m\u001b[38;5;241;43m.\u001b[39;49m\u001b[43m_check_running\u001b[49m\u001b[43m(\u001b[49m\u001b[43m)\u001b[49m\n\u001b[1;32m    625\u001b[0m new_task \u001b[38;5;241m=\u001b[39m \u001b[38;5;129;01mnot\u001b[39;00m futures\u001b[38;5;241m.\u001b[39misfuture(future)\n\u001b[1;32m    626\u001b[0m future \u001b[38;5;241m=\u001b[39m tasks\u001b[38;5;241m.\u001b[39mensure_future(future, loop\u001b[38;5;241m=\u001b[39m\u001b[38;5;28mself\u001b[39m)\n",
      "File \u001b[0;32m~/opt/anaconda3/lib/python3.9/asyncio/base_events.py:583\u001b[0m, in \u001b[0;36mBaseEventLoop._check_running\u001b[0;34m(self)\u001b[0m\n\u001b[1;32m    581\u001b[0m \u001b[38;5;28;01mdef\u001b[39;00m \u001b[38;5;21m_check_running\u001b[39m(\u001b[38;5;28mself\u001b[39m):\n\u001b[1;32m    582\u001b[0m     \u001b[38;5;28;01mif\u001b[39;00m \u001b[38;5;28mself\u001b[39m\u001b[38;5;241m.\u001b[39mis_running():\n\u001b[0;32m--> 583\u001b[0m         \u001b[38;5;28;01mraise\u001b[39;00m \u001b[38;5;167;01mRuntimeError\u001b[39;00m(\u001b[38;5;124m'\u001b[39m\u001b[38;5;124mThis event loop is already running\u001b[39m\u001b[38;5;124m'\u001b[39m)\n\u001b[1;32m    584\u001b[0m     \u001b[38;5;28;01mif\u001b[39;00m events\u001b[38;5;241m.\u001b[39m_get_running_loop() \u001b[38;5;129;01mis\u001b[39;00m \u001b[38;5;129;01mnot\u001b[39;00m \u001b[38;5;28;01mNone\u001b[39;00m:\n\u001b[1;32m    585\u001b[0m         \u001b[38;5;28;01mraise\u001b[39;00m \u001b[38;5;167;01mRuntimeError\u001b[39;00m(\n\u001b[1;32m    586\u001b[0m             \u001b[38;5;124m'\u001b[39m\u001b[38;5;124mCannot run the event loop while another loop is running\u001b[39m\u001b[38;5;124m'\u001b[39m)\n",
      "\u001b[0;31mRuntimeError\u001b[0m: This event loop is already running"
     ]
    },
    {
     "name": "stdout",
     "output_type": "stream",
     "text": [
      "craw url: https://www.cnblogs.com/#p5,72647\n",
      "craw url: https://www.cnblogs.com/#p3,72647\n",
      "craw url: https://www.cnblogs.com/#p10,72647\n",
      "craw url: https://www.cnblogs.com/#p7,72647\n",
      "craw url: https://www.cnblogs.com/#p4,72647\n",
      "craw url: https://www.cnblogs.com/#p9,72647\n",
      "craw url: https://www.cnblogs.com/#p17,72647\n",
      "craw url: https://www.cnblogs.com/#p1,72647\n",
      "craw url: https://www.cnblogs.com/#p23,72647\n",
      "craw url: https://www.cnblogs.com/#p16,72647\n",
      "craw url: https://www.cnblogs.com/#p19,72647\n",
      "craw url: https://www.cnblogs.com/#p8,72647\n",
      "craw url: https://www.cnblogs.com/#p24,72647\n",
      "craw url: https://www.cnblogs.com/#p29,72647\n",
      "craw url: https://www.cnblogs.com/#p13,72647\n",
      "craw url: https://www.cnblogs.com/#p26,72647\n",
      "craw url: https://www.cnblogs.com/#p12,72647\n",
      "craw url: https://www.cnblogs.com/#p2,72647\n",
      "craw url: https://www.cnblogs.com/#p6,72647\n",
      "craw url: https://www.cnblogs.com/#p20,72647\n",
      "craw url: https://www.cnblogs.com/#p22,72647\n",
      "craw url: https://www.cnblogs.com/#p14,72647\n",
      "craw url: https://www.cnblogs.com/#p43,72647\n",
      "craw url: https://www.cnblogs.com/#p11,72647\n",
      "craw url: https://www.cnblogs.com/#p39,72647\n",
      "craw url: https://www.cnblogs.com/#p30,72647\n",
      "craw url: https://www.cnblogs.com/#p42,72647\n",
      "craw url: https://www.cnblogs.com/#p27,72647\n",
      "craw url: https://www.cnblogs.com/#p25,72647\n",
      "craw url: https://www.cnblogs.com/#p28,72647\n",
      "craw url: https://www.cnblogs.com/#p15,72647\n",
      "craw url: https://www.cnblogs.com/#p31,72647\n",
      "craw url: https://www.cnblogs.com/#p46,72647\n",
      "craw url: https://www.cnblogs.com/#p18,72647\n",
      "craw url: https://www.cnblogs.com/#p33,72647\n",
      "craw url: https://www.cnblogs.com/#p40,72647\n",
      "craw url: https://www.cnblogs.com/#p34,72647\n",
      "craw url: https://www.cnblogs.com/#p41,72647\n",
      "craw url: https://www.cnblogs.com/#p36,72647\n",
      "craw url: https://www.cnblogs.com/#p48,72647\n",
      "craw url: https://www.cnblogs.com/#p44,72647\n",
      "craw url: https://www.cnblogs.com/#p38,72647\n",
      "craw url: https://www.cnblogs.com/#p47,72647\n",
      "craw url: https://www.cnblogs.com/#p35,72647\n",
      "craw url: https://www.cnblogs.com/#p49,72647\n",
      "craw url: https://www.cnblogs.com/#p21,72647\n",
      "craw url: https://www.cnblogs.com/#p45,72647\n",
      "craw url: https://www.cnblogs.com/#p50,72647\n",
      "craw url: https://www.cnblogs.com/#p32,72647\n",
      "craw url: https://www.cnblogs.com/#p37,72647\n"
     ]
    }
   ],
   "source": [
    "import asyncio\n",
    "import aiohttp\n",
    "\n",
    "async def async_craw(url):\n",
    "    async with aiohttp.ClientSession() as session:\n",
    "        async with session.get(url) as resp:\n",
    "            result = await resp.text()\n",
    "            print(f\"craw url: {url},{len(result)}\")\n",
    "loop = asyncio.get_event_loop()\n",
    "tasks = [\n",
    "    loop.create_task(async_craw(url)) for url in urls\n",
    "]\n",
    "\n",
    "import time\n",
    "start = time.time()\n",
    "loop.run_until_complete(asyncio.wait(tasks))\n",
    "end = time.time()\n",
    "print(\"use time seconds: \",end-start)"
   ]
  }
 ],
 "metadata": {
  "kernelspec": {
   "display_name": "Python 3",
   "language": "python",
   "name": "python3"
  },
  "language_info": {
   "codemirror_mode": {
    "name": "ipython",
    "version": 3
   },
   "file_extension": ".py",
   "mimetype": "text/x-python",
   "name": "python",
   "nbconvert_exporter": "python",
   "pygments_lexer": "ipython3",
   "version": "3.9.12"
  }
 },
 "nbformat": 4,
 "nbformat_minor": 2
}
