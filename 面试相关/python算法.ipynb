{
 "cells": [
  {
   "cell_type": "markdown",
   "metadata": {},
   "source": [
    "# 快速排序"
   ]
  },
  {
   "cell_type": "code",
   "execution_count": 3,
   "metadata": {},
   "outputs": [
    {
     "name": "stdout",
     "output_type": "stream",
     "text": [
      "[1, 2, 3, 4]\n"
     ]
    }
   ],
   "source": [
    "def quickSort(nums,low,high):\n",
    "    if low>high:\n",
    "        return\n",
    "    i,j,k = low,high,nums[low]\n",
    "    while i<j:\n",
    "        while i<j and nums[j]>k:   # 右指针指向第一个小于等于k的值\n",
    "            j-=1\n",
    "        while i<j and nums[i]<=k:   # 左指针指向第一个大于k的值，且不能越过右指针\n",
    "            i+=1\n",
    "        if i<j: # 左右指针没有相遇，则交换左右指针的值\n",
    "            nums[i],nums[j]=nums[j],nums[i]\n",
    "    # 如果相遇，则位置必定在小于等于k的值，即右指针率先确定的位置\n",
    "    # 因此相遇时可以直接将相遇位置和起始位置交换\n",
    "    nums[low],nums[i] = nums[i],nums[low]\n",
    "    # i的位置（即相遇的位置）的数字的位置已经确定，所以不参与后续的排序\n",
    "    quickSort(nums,low,i-1)\n",
    "    quickSort(nums,i+1,high)\n",
    "\n",
    "nums = [2,1,3,4]\n",
    "quickSort(nums,0,3)\n",
    "print(nums)\n",
    "    "
   ]
  },
  {
   "cell_type": "markdown",
   "metadata": {},
   "source": [
    "# 冒泡排序"
   ]
  },
  {
   "cell_type": "code",
   "execution_count": 6,
   "metadata": {},
   "outputs": [
    {
     "name": "stdout",
     "output_type": "stream",
     "text": [
      "[1, 2, 3, 4, 6, 7, 8]\n"
     ]
    }
   ],
   "source": [
    "def bubbleSort(nums):\n",
    "    l = len(nums)\n",
    "    for i in range(l):\n",
    "        for j in range(1,l-i):\n",
    "            if nums[j-1]>nums[j]:\n",
    "                nums[j-1],nums[j]=nums[j],nums[j-1]\n",
    "\n",
    "a = [2,1,3,4,8,7,6]\n",
    "bubbleSort(a)\n",
    "print(a)"
   ]
  },
  {
   "cell_type": "markdown",
   "metadata": {},
   "source": [
    "# 插入排序"
   ]
  },
  {
   "cell_type": "code",
   "execution_count": 8,
   "metadata": {},
   "outputs": [
    {
     "name": "stdout",
     "output_type": "stream",
     "text": [
      "[1, 2, 3, 4, 6, 7, 8]\n"
     ]
    }
   ],
   "source": [
    "def insertSort(nums):\n",
    "    l = len(nums)\n",
    "    for i in range(1,l):\n",
    "        leftIndex = i\n",
    "        while leftIndex-1>=0 and a[leftIndex-1]>a[leftIndex]:    # 左边的数比当前数大\n",
    "            a[leftIndex],a[leftIndex-1]=a[leftIndex-1],a[leftIndex] # 交换\n",
    "            leftIndex-=1    # 再往左\n",
    "a = [2,1,3,4,8,7,6]\n",
    "insertSort(a)\n",
    "print(a)"
   ]
  },
  {
   "cell_type": "markdown",
   "metadata": {},
   "source": [
    "# 选择排序"
   ]
  },
  {
   "cell_type": "code",
   "execution_count": 9,
   "metadata": {},
   "outputs": [
    {
     "name": "stdout",
     "output_type": "stream",
     "text": [
      "[1, 2, 3, 4, 6, 7, 8]\n"
     ]
    }
   ],
   "source": [
    "def selectSort(nums):\n",
    "    l = len(nums)\n",
    "    for i in range(l):\n",
    "        low = i\n",
    "        for j in range(i+1,l):\n",
    "            if nums[j]<nums[low]:   # 选出最小值\n",
    "                low = j\n",
    "        if low!=i:  # 最小值不等于初始值\n",
    "            a[i],a[low]=a[low],a[i] # 交换\n",
    "a = [2,1,3,4,8,7,6]\n",
    "selectSort(a)\n",
    "print(a)"
   ]
  },
  {
   "cell_type": "markdown",
   "metadata": {},
   "source": [
    "# 归并排序"
   ]
  },
  {
   "cell_type": "code",
   "execution_count": 17,
   "metadata": {},
   "outputs": [
    {
     "name": "stdout",
     "output_type": "stream",
     "text": [
      "[1, 2, 3, 5, 6, 7, 8]\n"
     ]
    }
   ],
   "source": [
    "def mergeSort(a:list,low,high,temp:list):\n",
    "    if low>=high:\n",
    "        return\n",
    "    mid = (low+high)//2\n",
    "    mergeSort(a,low,mid,temp)   # 排完左边\n",
    "    mergeSort(a,mid+1,high,temp)    # 排完右边\n",
    "    merge(a,low,mid,high,temp)  # 归并\n",
    "def merge(a,low,mid,high,temp):\n",
    "    i,j,k=0,low,mid+1   # i：temp数组下标；j左指针；k：右指针\n",
    "    while j<=mid and k<=high:\n",
    "        # 把左右指针中更小的放入temp列表\n",
    "        if a[j]<=a[k]:\n",
    "            temp[i]=a[j]\n",
    "            i+=1\n",
    "            j+=1\n",
    "        else:\n",
    "            temp[i]=a[k]\n",
    "            i+=1\n",
    "            k+=1\n",
    "        # 清空两个指针剩余内容\n",
    "        while j<=mid:  \n",
    "            temp[i]=a[j]\n",
    "            i+=1\n",
    "            j+=1\n",
    "        while k<=high:  \n",
    "            temp[i]=a[k]\n",
    "            i+=1\n",
    "            k+=1\n",
    "    for k in range(i):  # k是原本列表中位置的偏移量，基准值为low\n",
    "        a[low+k] = temp[k]\n",
    "a = [2,3,1,5,8,7,6]\n",
    "temp = [0]*len(a)\n",
    "mergeSort(a,0,len(a)-1,temp)\n",
    "print(a)"
   ]
  },
  {
   "cell_type": "markdown",
   "metadata": {},
   "source": [
    "# 堆排序"
   ]
  },
  {
   "cell_type": "code",
   "execution_count": 20,
   "metadata": {},
   "outputs": [
    {
     "name": "stdout",
     "output_type": "stream",
     "text": [
      "[1, 2, 3, 5, 6, 7, 8]\n"
     ]
    }
   ],
   "source": [
    "def heapify(a): # 建堆，小根堆\n",
    "    tail = len(a)-1\n",
    "    last_nl = (tail-1)//2   # 最后一个非叶子结点\n",
    "    for i in range(last_nl,-1,-1):  # 倒序走，一直到根节点\n",
    "        if a[i]<=a[i*2+1] and a[i]<=a[i*2+2]:   # 比子结点都小\n",
    "            continue\n",
    "        min_index = i*2+1 if a[i*2+1]<a[i*2+2] else i*2+2   # 找出最小的\n",
    "        a[i],a[min_index]=a[min_index],a[i] # 交换\n",
    "\n",
    "def getHead(a:list):\n",
    "    min_value = a[0]    # 获取根节点，即最小值\n",
    "    a[0]=a[-1]\n",
    "    a.pop() # 删除最后一个结点\n",
    "    point = 0\n",
    "    l = len(a)  # a的长度\n",
    "    while point*2+1<l:  # 当前指向的点还有子结点\n",
    "        if point*2+1==l-1:  # 只剩一个子结点\n",
    "            if a[point]>a[point*2+1]:  # 比它的子结点大\n",
    "                a[point],a[point*2+1]=a[point*2+1],a[point] # 交换\n",
    "            break\n",
    "        if a[point]<=a[point*2+1] and a[point]<=a[point*2+2]:   # 比子结点都小\n",
    "            break\n",
    "        min_index = point*2+1 if a[point*2+1]<a[point*2+2] else point*2+2   # 找出最小的子结点\n",
    "        a[point],a[min_index]=a[min_index],a[point]\n",
    "        point = min_index   # 指针指向子结点\n",
    "    return min_value\n",
    "a = [2,1,3,5,8,7,6]\n",
    "heapify(a)\n",
    "l = len(a)\n",
    "result = []\n",
    "for i in range(l):\n",
    "    result.append(getHead(a))\n",
    "print(result)"
   ]
  }
 ],
 "metadata": {
  "kernelspec": {
   "display_name": "Python 3",
   "language": "python",
   "name": "python3"
  },
  "language_info": {
   "codemirror_mode": {
    "name": "ipython",
    "version": 3
   },
   "file_extension": ".py",
   "mimetype": "text/x-python",
   "name": "python",
   "nbconvert_exporter": "python",
   "pygments_lexer": "ipython3",
   "version": "3.10.12"
  }
 },
 "nbformat": 4,
 "nbformat_minor": 2
}
