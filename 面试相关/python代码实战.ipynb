{
 "cells": [
  {
   "cell_type": "markdown",
   "metadata": {},
   "source": [
    "# 常规装饰器（函数实现）"
   ]
  },
  {
   "cell_type": "code",
   "execution_count": 4,
   "metadata": {},
   "outputs": [
    {
     "name": "stdout",
     "output_type": "stream",
     "text": [
      "simple_plus\n",
      "simple_plus start\n",
      "simple_plus end\n",
      "12\n"
     ]
    }
   ],
   "source": [
    "from typing import Callable\n",
    "from functools import wraps\n",
    "def decorator(fn: Callable):\n",
    "    @wraps(fn)  # 指明下面的函数是用来包裹fn的函数，如果不加这个，则原函数加上@decorator后将直接被wrapper函数替换，simple_plus.__name__会变成wrapper\n",
    "    def wrapper(*args,**kwargs):\n",
    "        fn_name = fn.__name__\n",
    "        print(f'{fn_name} start')\n",
    "        result = fn(*args,**kwargs)\n",
    "        print(f'{fn_name} end')\n",
    "        return result\n",
    "    return wrapper\n",
    "\n",
    "@decorator # 本质上就是将simple_plus替换为decorator(simple_plus)\n",
    "def simple_plus(a,b):\n",
    "    return a+b\n",
    "print(simple_plus.__name__) # 确认原函数依然是原函数，因为@wraps的作用\n",
    "result = simple_plus('1','2')\n",
    "print(result)"
   ]
  },
  {
   "cell_type": "markdown",
   "metadata": {},
   "source": [
    "# 本身也带参数的装饰器\n",
    "外面再包一层带参数的，里面都不用变"
   ]
  },
  {
   "cell_type": "code",
   "execution_count": 6,
   "metadata": {},
   "outputs": [
    {
     "name": "stdout",
     "output_type": "stream",
     "text": [
      "Welcome User\n",
      "simple_sum start\n",
      "simple_sum end\n",
      "10\n"
     ]
    }
   ],
   "source": [
    "def welcome(name):\n",
    "    def decorator(fn: Callable):\n",
    "        @wraps(fn)\n",
    "        def wrapper(*args,**kwargs):\n",
    "            print(f'Welcome {name}')\n",
    "            print(f'{fn.__name__} start')\n",
    "            result = fn(*args,**kwargs)\n",
    "            print(f'{fn.__name__} end')\n",
    "            return result\n",
    "        return wrapper\n",
    "    return decorator\n",
    "\n",
    "@welcome('User')\n",
    "def simple_sum(*args):\n",
    "    return sum(args)\n",
    "\n",
    "print(simple_sum(1,2,3,4))"
   ]
  },
  {
   "cell_type": "markdown",
   "metadata": {},
   "source": [
    "# 生成器\n",
    "当一个函数包含yield语句后，就不再是一个普通的函数，而是一个生成器\n",
    "\n",
    "return只能执行一次，yield可以执行好多次"
   ]
  },
  {
   "cell_type": "code",
   "execution_count": 28,
   "metadata": {},
   "outputs": [
    {
     "name": "stdout",
     "output_type": "stream",
     "text": [
      "Step 1:\n",
      "1\n",
      "Step 2:\n",
      "2\n",
      "Step 3:\n",
      "3\n"
     ]
    }
   ],
   "source": [
    "def hello():    # 执行时返回一个可迭代的对象\n",
    "    print('Step 1:')\n",
    "    yield 1\n",
    "    print('Step 2:')\n",
    "    yield 2\n",
    "    print('Step 3:')\n",
    "    yield 3\n",
    "a = hello() # a是可迭代对象\n",
    "print(next(a))    # 测试一下a的迭代方法，输出Step 1:1。每次调用next时，函数只会执行到下一个yield语句\n",
    "for i in a: # for循环迭代a的剩余部分（后台实际上也是在执行next方法）分别输出Step 2:2 Step 3:3\n",
    "    print(i)"
   ]
  },
  {
   "cell_type": "markdown",
   "metadata": {},
   "source": [
    "相比于在函数中构造出一个大的list并最后return，使用yield可以大大节省资源"
   ]
  },
  {
   "cell_type": "markdown",
   "metadata": {},
   "source": [
    "## 实战：构造一个生成从0到n-1的每个数的平方值的生成器"
   ]
  },
  {
   "cell_type": "code",
   "execution_count": 4,
   "metadata": {},
   "outputs": [
    {
     "name": "stdout",
     "output_type": "stream",
     "text": [
      "0\n",
      "1\n",
      "4\n",
      "9\n",
      "0\n",
      "1\n",
      "4\n",
      "9\n"
     ]
    }
   ],
   "source": [
    "def square(n):\n",
    "    for i in range(n):\n",
    "        yield i**2\n",
    "\n",
    "for i in square(4):\n",
    "    print(i)\n",
    "\n",
    "# 不使用生成器的版本\n",
    "# def square_wo_generator(n):\n",
    "#     result = []\n",
    "#     for i in range(n):\n",
    "#         result.append(i**2)\n",
    "#     return result\n",
    "# for i in square_wo_generator(4):\n",
    "#     print(i)"
   ]
  },
  {
   "cell_type": "markdown",
   "metadata": {},
   "source": [
    "## 上下文管理器"
   ]
  },
  {
   "cell_type": "markdown",
   "metadata": {},
   "source": [
    "一个上下文管理器是一个对象，它定义了运行时的上下文，使用with语句来执行\n",
    "### with语句\n",
    "```py\n",
    "with context as ctx：\n",
    "    # 使用这个上下文对象\n",
    "# 上下文对象已经被清除了\n",
    "```"
   ]
  },
  {
   "cell_type": "markdown",
   "metadata": {},
   "source": [
    "# 面向对象的python"
   ]
  },
  {
   "cell_type": "markdown",
   "metadata": {},
   "source": [
    "类本身是type类型的对象"
   ]
  },
  {
   "cell_type": "code",
   "execution_count": 12,
   "metadata": {},
   "outputs": [
    {
     "name": "stdout",
     "output_type": "stream",
     "text": [
      "<class '__main__.Student'>\n",
      "<class 'type'>\n"
     ]
    }
   ],
   "source": [
    "class Student:\n",
    "    pass\n",
    "xm = Student()\n",
    "print(type(xm))\n",
    "# 类本身是type类型的对象\n",
    "print(type(Student))"
   ]
  },
  {
   "cell_type": "markdown",
   "metadata": {},
   "source": [
    "## 类变量\n",
    "属于类本身这个对象的属性\n",
    "\n",
    "所有该类的对象都共享类变量。类似于Java的静态变量。但是python的静态变量是别的概念"
   ]
  },
  {
   "cell_type": "code",
   "execution_count": 11,
   "metadata": {},
   "outputs": [
    {
     "name": "stdout",
     "output_type": "stream",
     "text": [
      "8\n",
      "8\n",
      "10\n",
      "100\n",
      "hello\n"
     ]
    }
   ],
   "source": [
    "class Student:\n",
    "    student_count = 8\n",
    "\n",
    "print(Student.student_count)    # 直接取值\n",
    "print(getattr(Student,'student_count')) # 用getattr取值\n",
    "# print(Student.unknown)\n",
    "print(getattr(Student,\"unknown\",\"10\"))\n",
    "\n",
    "Student.student_count = 89\n",
    "setattr(Student,'student_count',100)\n",
    "print(Student.student_count)\n",
    "\n",
    "Student.newattribute = \"hello\"\n",
    "print(Student.newattribute) # python是动态语言"
   ]
  },
  {
   "cell_type": "markdown",
   "metadata": {},
   "source": [
    "setattr相当于Java的反射，动态修改类"
   ]
  },
  {
   "cell_type": "markdown",
   "metadata": {},
   "source": [
    "### 删除类变量"
   ]
  },
  {
   "cell_type": "code",
   "execution_count": 12,
   "metadata": {},
   "outputs": [
    {
     "name": "stdout",
     "output_type": "stream",
     "text": [
      "hello\n",
      "100\n"
     ]
    },
    {
     "ename": "AttributeError",
     "evalue": "type object 'Student' has no attribute 'newattribute'",
     "output_type": "error",
     "traceback": [
      "\u001b[0;31m---------------------------------------------------------------------------\u001b[0m",
      "\u001b[0;31mAttributeError\u001b[0m                            Traceback (most recent call last)",
      "Cell \u001b[0;32mIn [12], line 7\u001b[0m\n\u001b[1;32m      4\u001b[0m \u001b[38;5;28;01mdel\u001b[39;00m Student\u001b[38;5;241m.\u001b[39mnewattribute\n\u001b[1;32m      5\u001b[0m \u001b[38;5;28mdelattr\u001b[39m(Student,\u001b[38;5;124m'\u001b[39m\u001b[38;5;124mstudent_count\u001b[39m\u001b[38;5;124m'\u001b[39m)\n\u001b[0;32m----> 7\u001b[0m \u001b[38;5;28mprint\u001b[39m(\u001b[43mStudent\u001b[49m\u001b[38;5;241;43m.\u001b[39;49m\u001b[43mnewattribute\u001b[49m)\n\u001b[1;32m      8\u001b[0m \u001b[38;5;28mprint\u001b[39m(Student\u001b[38;5;241m.\u001b[39mstudent_count)\n",
      "\u001b[0;31mAttributeError\u001b[0m: type object 'Student' has no attribute 'newattribute'"
     ]
    }
   ],
   "source": [
    "\n",
    "print(Student.newattribute)\n",
    "print(Student.student_count)\n",
    "\n",
    "del Student.newattribute\n",
    "delattr(Student,'student_count')\n",
    "\n",
    "print(Student.newattribute)\n",
    "print(Student.student_count)"
   ]
  },
  {
   "cell_type": "code",
   "execution_count": 13,
   "metadata": {},
   "outputs": [
    {
     "name": "stdout",
     "output_type": "stream",
     "text": [
      "4\n",
      "4\n"
     ]
    }
   ],
   "source": [
    "s1 = Student()\n",
    "s2 = Student()\n",
    "Student.student_count = 4\n",
    "print(s1.student_count)\n",
    "print(s2.student_count)"
   ]
  },
  {
   "cell_type": "markdown",
   "metadata": {},
   "source": [
    "### 类变量的存储\n",
    "类变量全部存放在类变量__dict__这个字典中，但不要直接修改__dict__的内容"
   ]
  },
  {
   "cell_type": "code",
   "execution_count": 15,
   "metadata": {},
   "outputs": [
    {
     "name": "stdout",
     "output_type": "stream",
     "text": [
      "mappingproxy({'__dict__': <attribute '__dict__' of 'Student' objects>,\n",
      "              '__doc__': None,\n",
      "              '__module__': '__main__',\n",
      "              '__weakref__': <attribute '__weakref__' of 'Student' objects>,\n",
      "              'student_count': 4})\n"
     ]
    }
   ],
   "source": [
    "from pprint import pprint\n",
    "pprint(Student.__dict__)"
   ]
  },
  {
   "cell_type": "markdown",
   "metadata": {},
   "source": [
    "## 实例变量与函数"
   ]
  },
  {
   "cell_type": "markdown",
   "metadata": {},
   "source": [
    "定义实例函数"
   ]
  },
  {
   "cell_type": "code",
   "execution_count": 20,
   "metadata": {},
   "outputs": [
    {
     "name": "stdout",
     "output_type": "stream",
     "text": [
      "hello Mike\n"
     ]
    }
   ],
   "source": [
    "class Student:\n",
    "    def say_hello(self,msg):\n",
    "        print(f\"hello {msg}\")\n",
    "a = Student()\n",
    "a.say_hello('Mike')"
   ]
  },
  {
   "cell_type": "markdown",
   "metadata": {},
   "source": [
    "### 认识__init__函数\n",
    "1. 在内存中创建了物理对象\n",
    "2. 调用__init__方法初始化刚刚创建的对象"
   ]
  },
  {
   "cell_type": "code",
   "execution_count": 27,
   "metadata": {},
   "outputs": [
    {
     "name": "stdout",
     "output_type": "stream",
     "text": [
      "Jack\n",
      "hello Mike, my name is Jack\n"
     ]
    }
   ],
   "source": [
    "class Student:\n",
    "    def __init__(self,name):\n",
    "        self.name = name\n",
    "    def say_hello(self,msg):\n",
    "        print(f\"hello {msg}, my name is {self.name}\")\n",
    "s1 = Student('Jack')\n",
    "print(s1.name)\n",
    "s1.say_hello('Mike')"
   ]
  },
  {
   "cell_type": "markdown",
   "metadata": {},
   "source": [
    "直接给对象加属性"
   ]
  },
  {
   "cell_type": "code",
   "execution_count": 28,
   "metadata": {},
   "outputs": [
    {
     "name": "stdout",
     "output_type": "stream",
     "text": [
      "Male\n"
     ]
    }
   ],
   "source": [
    "s1.gender = 'Male'\n",
    "print(s1.gender)"
   ]
  },
  {
   "cell_type": "markdown",
   "metadata": {},
   "source": [
    "## 私有属性与函数"
   ]
  },
  {
   "cell_type": "markdown",
   "metadata": {},
   "source": [
    "### 私有属性与函数的用途\n",
    "防止它们在类的外部被使用\n",
    "\n",
    "在Python中并没有严格的权限限定符去进行限制，主要通过命名来进行区分"
   ]
  },
  {
   "cell_type": "markdown",
   "metadata": {},
   "source": [
    "### 如何定义私有属性与函数\n",
    "通过给属性和函数名称添加_或__前缀"
   ]
  },
  {
   "cell_type": "code",
   "execution_count": 31,
   "metadata": {},
   "outputs": [
    {
     "name": "stdout",
     "output_type": "stream",
     "text": [
      "Jack\n",
      "Male\n"
     ]
    }
   ],
   "source": [
    "class Student:\n",
    "    def __init__(self,name,gender):\n",
    "        self._name = name\n",
    "        self.__gender = gender\n",
    "    def _change_gender():\n",
    "        pass\n",
    "    def __change_name():\n",
    "        pass\n",
    "    def say_hello(self,msg):\n",
    "        print(f'Hello {msg}, my name is {self._name}')\n",
    "s1 = Student('Jack','Male')\n",
    "print(s1._name) # 尝试获取一个下划线前缀的属性不会报错，但是不符合规范\n",
    "# print(s1.__gender)  # 在外部尝试获取两个下划线前缀的属性会报错\n",
    "print(s1._Student__gender)  # 如果在外部非要用得这样写，在前面加上一个下划线和类名"
   ]
  },
  {
   "cell_type": "markdown",
   "metadata": {},
   "source": [
    "## 类方法和静态方法"
   ]
  },
  {
   "cell_type": "markdown",
   "metadata": {},
   "source": [
    "### 类方法\n",
    "类方法需要用@classmethod装饰器来定义\n",
    "\n",
    "类方法的第一个参数是类本身"
   ]
  },
  {
   "cell_type": "code",
   "execution_count": 33,
   "metadata": {},
   "outputs": [
    {
     "name": "stdout",
     "output_type": "stream",
     "text": [
      "Student\n"
     ]
    }
   ],
   "source": [
    "class Student:\n",
    "    name = 'Student'\n",
    "    @classmethod\n",
    "    def get_instance(cls):\n",
    "        return cls()\n",
    "    @classmethod\n",
    "    def hello(cls):\n",
    "        print(cls.name)\n",
    "student = Student.get_instance()\n",
    "Student.hello()"
   ]
  },
  {
   "cell_type": "markdown",
   "metadata": {},
   "source": [
    "### 静态方法\n",
    "静态方法使用@staticmethod装饰器来定义\n",
    "\n",
    "静态方法只是定义在类范围内的一个函数而已。通常用来定义一些工具方法"
   ]
  },
  {
   "cell_type": "code",
   "execution_count": 34,
   "metadata": {},
   "outputs": [
    {
     "name": "stdout",
     "output_type": "stream",
     "text": [
      "hello Student\n"
     ]
    }
   ],
   "source": [
    "class Student:\n",
    "    name = 'Student'\n",
    "    @staticmethod\n",
    "    def out():\n",
    "        print(f\"hello {Student.name}\")  # 也能用类的属性，但不用cls，得用类名\n",
    "Student.out()"
   ]
  },
  {
   "cell_type": "markdown",
   "metadata": {},
   "source": [
    "## 常用的特殊方法"
   ]
  },
  {
   "cell_type": "markdown",
   "metadata": {},
   "source": [
    "双下划线开头，双下划线结尾\n",
    "\n",
    "### 特殊方法__str__\n",
    "返回一个描述对象本身的字符串，该描述主要面对用户。当调用str()函数时就会返回__str__的值"
   ]
  },
  {
   "cell_type": "code",
   "execution_count": 35,
   "metadata": {},
   "outputs": [
    {
     "name": "stdout",
     "output_type": "stream",
     "text": [
      "2022-11-3\n"
     ]
    }
   ],
   "source": [
    "class MyDate:\n",
    "    def __init__(self,year,month,day):\n",
    "        self.year = year\n",
    "        self.month = month\n",
    "        self.day = day\n",
    "    def __str__(self):\n",
    "        return f\"{self.year}-{self.month}-{self.day}\"\n",
    "    \n",
    "my_date = MyDate(2022,11,3)\n",
    "print(str(my_date))"
   ]
  },
  {
   "cell_type": "markdown",
   "metadata": {},
   "source": [
    "### 特殊方法__repr__\n",
    "用于返回一个描述对象本身的字符串\n",
    "\n",
    "该描述的主要目标是机器或者开发者，通常比__str__包含更丰富的调试信息\n",
    "\n",
    "使用repr()函数时返回\n",
    "\n",
    "和__str__的区别就是在于用途"
   ]
  },
  {
   "cell_type": "code",
   "execution_count": 36,
   "metadata": {},
   "outputs": [
    {
     "name": "stdout",
     "output_type": "stream",
     "text": [
      "MyDate:2022-11-3\n"
     ]
    }
   ],
   "source": [
    "class MyDate:\n",
    "    def __init__(self,year,month,day):\n",
    "        self.year = year\n",
    "        self.month = month\n",
    "        self.day = day\n",
    "    def __repr__(self):\n",
    "        return f\"MyDate:{self.year}-{self.month}-{self.day}\"\n",
    "\n",
    "my_date = MyDate(2022,11,3)\n",
    "print(repr(my_date))"
   ]
  },
  {
   "cell_type": "markdown",
   "metadata": {},
   "source": [
    "### 特殊方法__eq__\n",
    "用于实现对比两个对象是否相等的逻辑\n",
    "\n",
    "调用==时使用"
   ]
  },
  {
   "cell_type": "code",
   "execution_count": 38,
   "metadata": {},
   "outputs": [
    {
     "name": "stdout",
     "output_type": "stream",
     "text": [
      "False\n",
      "False\n"
     ]
    }
   ],
   "source": [
    "my_date1 = MyDate(2022,11,3)\n",
    "my_date2 = MyDate(2022,11,3)\n",
    "print(my_date1 is my_date2) # is比较的是地址\n",
    "print(my_date1 == my_date2) # ==根据__eq__方法比较值是否相等，但如果没有重写过__eq__方法，就没用\n"
   ]
  },
  {
   "cell_type": "code",
   "execution_count": 39,
   "metadata": {},
   "outputs": [
    {
     "name": "stdout",
     "output_type": "stream",
     "text": [
      "False\n",
      "True\n"
     ]
    }
   ],
   "source": [
    "class MyDate:\n",
    "    def __init__(self,year,month,day):\n",
    "        self.year = year\n",
    "        self.month = month\n",
    "        self.day = day\n",
    "    def __eq__(self,other): # other是要比较的对象\n",
    "        if not isinstance(other, MyDate):\n",
    "            return False\n",
    "        return self.year == other.year and self.month == other.month and self.day == other.day\n",
    "my_date1 = MyDate(2022,11,3)\n",
    "my_date2 = MyDate(2022,11,3)\n",
    "print(my_date1 is my_date2) # is比较的是地址\n",
    "print(my_date1 == my_date2) # ==根据__eq__方法比较值是否相等，但如果没有重写过__eq__方法，就没用"
   ]
  },
  {
   "cell_type": "markdown",
   "metadata": {},
   "source": [
    "### 特殊方法__hash__\n",
    "用于实现根据对象生成hash值的逻辑\n",
    "\n",
    "set和dict会用到"
   ]
  },
  {
   "cell_type": "code",
   "execution_count": 42,
   "metadata": {},
   "outputs": [
    {
     "name": "stdout",
     "output_type": "stream",
     "text": [
      "hash is called\n"
     ]
    }
   ],
   "source": [
    "class MyDate:\n",
    "    def __init__(self,year,month,day):\n",
    "        self.year = year\n",
    "        self.month = month\n",
    "        self.day = day\n",
    "    def __hash__(self):\n",
    "        print(\"hash is called\")\n",
    "        return hash(self.year+self.month*101+self.day*101)\n",
    "    \n",
    "my_date1 = MyDate(2022,11,3)\n",
    "data_set = set()\n",
    "data_set.add(my_date1)\n"
   ]
  },
  {
   "cell_type": "markdown",
   "metadata": {},
   "source": [
    "### 特殊方法__bool__\n",
    "用于在对象被bool函数求解的时候返回一个布尔值\n",
    "\n",
    "在对象放在条件判断语句时用到\n",
    "\n",
    "如果类没有实现这个方法，那么__len__将会被用户求解布尔值"
   ]
  },
  {
   "cell_type": "code",
   "execution_count": 43,
   "metadata": {},
   "outputs": [
    {
     "name": "stdout",
     "output_type": "stream",
     "text": [
      "bool is called\n",
      ">2021\n",
      "bool is called\n",
      "<=2021\n"
     ]
    }
   ],
   "source": [
    "class MyDate:\n",
    "    def __init__(self,year,month,day):\n",
    "        self.year = year\n",
    "        self.month = month\n",
    "        self.day = day\n",
    "    def __bool__(self):\n",
    "        print(\"bool is called\")\n",
    "        return self.year>2021\n",
    "my_date1 = MyDate(2022,11,3)\n",
    "my_date2 = MyDate(2021,11,3)\n",
    "if my_date1:\n",
    "    print('>2021')\n",
    "if not my_date2:\n",
    "    print('<=2021')\n"
   ]
  },
  {
   "cell_type": "markdown",
   "metadata": {},
   "source": [
    "### 特殊方法__del__\n",
    "__del__方法在对象被垃圾回收前调用\n",
    "\n",
    "因为对象何时被回收未知，所以不要依赖于这个方法去做一些重要的事情"
   ]
  },
  {
   "cell_type": "code",
   "execution_count": 44,
   "metadata": {},
   "outputs": [
    {
     "name": "stdout",
     "output_type": "stream",
     "text": [
      "del is called\n"
     ]
    }
   ],
   "source": [
    "class MyDate:\n",
    "    def __init__(self,year,month,day):\n",
    "        self.year = year\n",
    "        self.month = month\n",
    "        self.day = day\n",
    "    def __del__(self):\n",
    "        print(\"del is called\")\n",
    "my_date5 = MyDate(2024,11,3)\n",
    "my_date5 = None # 不能保证是在这里被回收"
   ]
  },
  {
   "cell_type": "markdown",
   "metadata": {},
   "source": [
    "## property类\n",
    "如何防止实例变量被外部错误修改\n",
    "\n",
    "编写setter和getter方法\n",
    "\n",
    "引入property类"
   ]
  },
  {
   "cell_type": "markdown",
   "metadata": {},
   "source": [
    "### 如何防止实例变量被外部错误修改"
   ]
  },
  {
   "cell_type": "code",
   "execution_count": 46,
   "metadata": {},
   "outputs": [
    {
     "name": "stdout",
     "output_type": "stream",
     "text": [
      "Jack -3\n"
     ]
    }
   ],
   "source": [
    "class Student:\n",
    "    def __init__(self,name,age):\n",
    "        self.name = name\n",
    "        self.age = age\n",
    "\n",
    "    def __str__(self):\n",
    "        return f\"{self.name} {self.age}\"\n",
    "student = Student(\"Jack\",18)\n",
    "student.age = -3    # 错误的代码不会提示\n",
    "print(student)"
   ]
  },
  {
   "cell_type": "markdown",
   "metadata": {},
   "source": [
    "如何避免？"
   ]
  },
  {
   "cell_type": "code",
   "execution_count": 48,
   "metadata": {},
   "outputs": [
    {
     "ename": "Exception",
     "evalue": "Age -3 is not valid",
     "output_type": "error",
     "traceback": [
      "\u001b[0;31m---------------------------------------------------------------------------\u001b[0m",
      "\u001b[0;31mException\u001b[0m                                 Traceback (most recent call last)",
      "Cell \u001b[0;32mIn [48], line 14\u001b[0m\n\u001b[1;32m     12\u001b[0m         \u001b[38;5;28;01mreturn\u001b[39;00m \u001b[38;5;124mf\u001b[39m\u001b[38;5;124m\"\u001b[39m\u001b[38;5;132;01m{\u001b[39;00m\u001b[38;5;28mself\u001b[39m\u001b[38;5;241m.\u001b[39mname\u001b[38;5;132;01m}\u001b[39;00m\u001b[38;5;124m \u001b[39m\u001b[38;5;132;01m{\u001b[39;00m\u001b[38;5;28mself\u001b[39m\u001b[38;5;241m.\u001b[39mage\u001b[38;5;132;01m}\u001b[39;00m\u001b[38;5;124m\"\u001b[39m\n\u001b[1;32m     13\u001b[0m student \u001b[38;5;241m=\u001b[39m Student(\u001b[38;5;124m\"\u001b[39m\u001b[38;5;124mJack\u001b[39m\u001b[38;5;124m\"\u001b[39m,\u001b[38;5;241m18\u001b[39m)\n\u001b[0;32m---> 14\u001b[0m \u001b[43mstudent\u001b[49m\u001b[38;5;241;43m.\u001b[39;49m\u001b[43mset_age\u001b[49m\u001b[43m(\u001b[49m\u001b[38;5;241;43m-\u001b[39;49m\u001b[38;5;241;43m3\u001b[39;49m\u001b[43m)\u001b[49m\n",
      "Cell \u001b[0;32mIn [48], line 7\u001b[0m, in \u001b[0;36mStudent.set_age\u001b[0;34m(self, age)\u001b[0m\n\u001b[1;32m      5\u001b[0m \u001b[38;5;28;01mdef\u001b[39;00m \u001b[38;5;21mset_age\u001b[39m(\u001b[38;5;28mself\u001b[39m, age):\n\u001b[1;32m      6\u001b[0m     \u001b[38;5;28;01mif\u001b[39;00m age\u001b[38;5;241m<\u001b[39m\u001b[38;5;241m0\u001b[39m \u001b[38;5;129;01mor\u001b[39;00m age\u001b[38;5;241m>\u001b[39m\u001b[38;5;241m200\u001b[39m:\n\u001b[0;32m----> 7\u001b[0m         \u001b[38;5;28;01mraise\u001b[39;00m \u001b[38;5;167;01mException\u001b[39;00m(\u001b[38;5;124mf\u001b[39m\u001b[38;5;124m\"\u001b[39m\u001b[38;5;124mAge \u001b[39m\u001b[38;5;132;01m{\u001b[39;00mage\u001b[38;5;132;01m}\u001b[39;00m\u001b[38;5;124m is not valid\u001b[39m\u001b[38;5;124m\"\u001b[39m)\n\u001b[1;32m      8\u001b[0m     \u001b[38;5;28mself\u001b[39m\u001b[38;5;241m.\u001b[39m__age \u001b[38;5;241m=\u001b[39m age\n",
      "\u001b[0;31mException\u001b[0m: Age -3 is not valid"
     ]
    }
   ],
   "source": [
    "class Student:\n",
    "    def __init__(self,name,age):\n",
    "        self.name = name\n",
    "        self.__age = age\n",
    "    def set_age(self, age):\n",
    "        if age<0 or age>200:\n",
    "            raise Exception(f\"Age {age} is not valid\")\n",
    "        self.__age = age\n",
    "    def get_age(self):\n",
    "        return self.__age\n",
    "    def __str__(self):\n",
    "        return f\"{self.name} {self.age}\"\n",
    "student = Student(\"Jack\",18)\n",
    "# student.age = -3    # 错误的代码不会提示\n",
    "student.set_age(-3)    # 错误的代码会提示"
   ]
  },
  {
   "cell_type": "markdown",
   "metadata": {},
   "source": [
    "问题是，如果之前的人已经用了self.age来修改，直接将age变为私有会不兼容\n",
    "\n",
    "### 引入property类"
   ]
  },
  {
   "cell_type": "code",
   "execution_count": 57,
   "metadata": {},
   "outputs": [
    {
     "ename": "Exception",
     "evalue": "Age -3 is not valid",
     "output_type": "error",
     "traceback": [
      "\u001b[0;31m---------------------------------------------------------------------------\u001b[0m",
      "\u001b[0;31mException\u001b[0m                                 Traceback (most recent call last)",
      "Cell \u001b[0;32mIn [57], line 18\u001b[0m\n\u001b[1;32m     15\u001b[0m     age \u001b[38;5;241m=\u001b[39m \u001b[38;5;28mproperty\u001b[39m(fget\u001b[38;5;241m=\u001b[39mget_age,fset\u001b[38;5;241m=\u001b[39mset_age)   \u001b[38;5;66;03m# 将age设为property类，会绑定上get和set方法\u001b[39;00m\n\u001b[1;32m     17\u001b[0m student \u001b[38;5;241m=\u001b[39m Student(\u001b[38;5;124m\"\u001b[39m\u001b[38;5;124mJack\u001b[39m\u001b[38;5;124m\"\u001b[39m,\u001b[38;5;241m18\u001b[39m)\n\u001b[0;32m---> 18\u001b[0m \u001b[43mstudent\u001b[49m\u001b[38;5;241;43m.\u001b[39;49m\u001b[43mage\u001b[49m \u001b[38;5;241m=\u001b[39m \u001b[38;5;241m-\u001b[39m\u001b[38;5;241m3\u001b[39m\n",
      "Cell \u001b[0;32mIn [57], line 7\u001b[0m, in \u001b[0;36mStudent.set_age\u001b[0;34m(self, age)\u001b[0m\n\u001b[1;32m      5\u001b[0m \u001b[38;5;28;01mdef\u001b[39;00m \u001b[38;5;21mset_age\u001b[39m(\u001b[38;5;28mself\u001b[39m, age):\n\u001b[1;32m      6\u001b[0m     \u001b[38;5;28;01mif\u001b[39;00m age\u001b[38;5;241m<\u001b[39m\u001b[38;5;241m0\u001b[39m \u001b[38;5;129;01mor\u001b[39;00m age\u001b[38;5;241m>\u001b[39m\u001b[38;5;241m200\u001b[39m:\n\u001b[0;32m----> 7\u001b[0m         \u001b[38;5;28;01mraise\u001b[39;00m \u001b[38;5;167;01mException\u001b[39;00m(\u001b[38;5;124mf\u001b[39m\u001b[38;5;124m\"\u001b[39m\u001b[38;5;124mAge \u001b[39m\u001b[38;5;132;01m{\u001b[39;00mage\u001b[38;5;132;01m}\u001b[39;00m\u001b[38;5;124m is not valid\u001b[39m\u001b[38;5;124m\"\u001b[39m)\n\u001b[1;32m      8\u001b[0m     \u001b[38;5;28mself\u001b[39m\u001b[38;5;241m.\u001b[39m__age \u001b[38;5;241m=\u001b[39m age\n",
      "\u001b[0;31mException\u001b[0m: Age -3 is not valid"
     ]
    }
   ],
   "source": [
    "class Student:\n",
    "    def __init__(self,name,age):\n",
    "        self.name = name\n",
    "        self.__age = age\n",
    "    def set_age(self, age):\n",
    "        if age<0 or age>200:\n",
    "            raise Exception(f\"Age {age} is not valid\")\n",
    "        self.__age = age\n",
    "    def get_age(self): \n",
    "        print('get_age')\n",
    "        return self.__age\n",
    "    def __str__(self):\n",
    "        return f\"{self.name} {self.age}\"\n",
    "    \n",
    "    age = property(fget=get_age,fset=set_age)   # 将age设为property类，会绑定上get和set方法\n",
    "\n",
    "student = Student(\"Jack\",18)\n",
    "student.age = -3    # 会调用set_age方法，报错会从set_age里面抛出\n"
   ]
  },
  {
   "cell_type": "code",
   "execution_count": 56,
   "metadata": {},
   "outputs": [
    {
     "name": "stdout",
     "output_type": "stream",
     "text": [
      "get_age\n",
      "18\n"
     ]
    }
   ],
   "source": [
    "student = Student(\"Jack\",18)\n",
    "print(student.age)  # 会调用get_age方法"
   ]
  },
  {
   "cell_type": "markdown",
   "metadata": {},
   "source": [
    "# property装饰器\n",
    "property类的替代，更加优雅"
   ]
  },
  {
   "cell_type": "code",
   "execution_count": 69,
   "metadata": {},
   "outputs": [
    {
     "name": "stdout",
     "output_type": "stream",
     "text": [
      "18\n",
      "3\n"
     ]
    },
    {
     "ename": "Exception",
     "evalue": "Age -3 is not valid",
     "output_type": "error",
     "traceback": [
      "\u001b[0;31m---------------------------------------------------------------------------\u001b[0m",
      "\u001b[0;31mException\u001b[0m                                 Traceback (most recent call last)",
      "Cell \u001b[0;32mIn [69], line 23\u001b[0m\n\u001b[1;32m     21\u001b[0m student\u001b[38;5;241m.\u001b[39mage \u001b[38;5;241m=\u001b[39m\u001b[38;5;241m3\u001b[39m \n\u001b[1;32m     22\u001b[0m \u001b[38;5;28mprint\u001b[39m(student\u001b[38;5;241m.\u001b[39mage)\n\u001b[0;32m---> 23\u001b[0m \u001b[43mstudent\u001b[49m\u001b[38;5;241;43m.\u001b[39;49m\u001b[43mage\u001b[49m \u001b[38;5;241m=\u001b[39m\u001b[38;5;241m-\u001b[39m\u001b[38;5;241m3\u001b[39m \n\u001b[1;32m     24\u001b[0m \u001b[38;5;28mprint\u001b[39m(student\u001b[38;5;241m.\u001b[39mage)\n",
      "Cell \u001b[0;32mIn [69], line 13\u001b[0m, in \u001b[0;36mStudent.age\u001b[0;34m(self, age)\u001b[0m\n\u001b[1;32m     10\u001b[0m \u001b[38;5;129m@age\u001b[39m\u001b[38;5;241m.\u001b[39msetter \u001b[38;5;66;03m# 方法名和上面的@property一致\u001b[39;00m\n\u001b[1;32m     11\u001b[0m \u001b[38;5;28;01mdef\u001b[39;00m \u001b[38;5;21mage\u001b[39m(\u001b[38;5;28mself\u001b[39m, age):\n\u001b[1;32m     12\u001b[0m     \u001b[38;5;28;01mif\u001b[39;00m age\u001b[38;5;241m<\u001b[39m\u001b[38;5;241m0\u001b[39m \u001b[38;5;129;01mor\u001b[39;00m age\u001b[38;5;241m>\u001b[39m\u001b[38;5;241m200\u001b[39m:\n\u001b[0;32m---> 13\u001b[0m         \u001b[38;5;28;01mraise\u001b[39;00m \u001b[38;5;167;01mException\u001b[39;00m(\u001b[38;5;124mf\u001b[39m\u001b[38;5;124m\"\u001b[39m\u001b[38;5;124mAge \u001b[39m\u001b[38;5;132;01m{\u001b[39;00mage\u001b[38;5;132;01m}\u001b[39;00m\u001b[38;5;124m is not valid\u001b[39m\u001b[38;5;124m\"\u001b[39m)\n\u001b[1;32m     14\u001b[0m     \u001b[38;5;28mself\u001b[39m\u001b[38;5;241m.\u001b[39m__age \u001b[38;5;241m=\u001b[39m age\n",
      "\u001b[0;31mException\u001b[0m: Age -3 is not valid"
     ]
    }
   ],
   "source": [
    "class Student:\n",
    "    def __init__(self,name,age):\n",
    "        self.name = name\n",
    "        self.__age = age\n",
    "\n",
    "    @property\n",
    "    def age(self): \n",
    "        return self.__age\n",
    "    \n",
    "    @age.setter # 方法名和上面的@property一致\n",
    "    def age(self, age):\n",
    "        if age<0 or age>200:\n",
    "            raise Exception(f\"Age {age} is not valid\")\n",
    "        self.__age = age\n",
    "\n",
    "    def __str__(self):\n",
    "        return f\"{self.name} {self.age}\"\n",
    "    \n",
    "student = Student(\"Jack\",18)\n",
    "print(student.age)\n",
    "student.age =3 \n",
    "print(student.age)\n",
    "student.age =-3 \n",
    "print(student.age)\n"
   ]
  },
  {
   "cell_type": "markdown",
   "metadata": {},
   "source": [
    "## 只读property"
   ]
  },
  {
   "cell_type": "markdown",
   "metadata": {},
   "source": [
    "最佳实践"
   ]
  },
  {
   "cell_type": "code",
   "execution_count": 71,
   "metadata": {},
   "outputs": [
    {
     "name": "stdout",
     "output_type": "stream",
     "text": [
      "25\n"
     ]
    }
   ],
   "source": [
    "class Square:\n",
    "    def __init__(self,width):\n",
    "        self.__width = width\n",
    "    \n",
    "    @property   # 让外部以为有这个属性\n",
    "    def area(self):\n",
    "        return self.__width*self.__width\n",
    "\n",
    "square = Square(5)\n",
    "print(square.area)"
   ]
  },
  {
   "cell_type": "markdown",
   "metadata": {},
   "source": [
    "但每次执行都要重新计算，会有点浪费。能否缓存？"
   ]
  },
  {
   "cell_type": "code",
   "execution_count": 72,
   "metadata": {},
   "outputs": [
    {
     "name": "stdout",
     "output_type": "stream",
     "text": [
      "25\n"
     ]
    }
   ],
   "source": [
    "class Square:\n",
    "    def __init__(self,width):\n",
    "        self.__width = width\n",
    "        self.__area = None\n",
    "    \n",
    "    @property   # 让外部以为有这个属性，第二次不用再计算\n",
    "    def area(self):\n",
    "        if self.__area is None:\n",
    "            self.__area = self.__width*self.__width\n",
    "        return self.__area\n",
    "\n",
    "square = Square(5)\n",
    "print(square.area)"
   ]
  },
  {
   "cell_type": "markdown",
   "metadata": {},
   "source": [
    "但如果中途改了width，area会不准"
   ]
  },
  {
   "cell_type": "markdown",
   "metadata": {},
   "source": [
    "下面这样改"
   ]
  },
  {
   "cell_type": "code",
   "execution_count": 73,
   "metadata": {},
   "outputs": [
    {
     "name": "stdout",
     "output_type": "stream",
     "text": [
      "25\n",
      "36\n"
     ]
    }
   ],
   "source": [
    "class Square:\n",
    "    def __init__(self,width):\n",
    "        self.__width = width\n",
    "        self.__area = None\n",
    "    \n",
    "    @property\n",
    "    def area(self):\n",
    "        if self.__area is None:\n",
    "            self.__area = self.__width*self.__width\n",
    "        return self.__area\n",
    "    \n",
    "    @property\n",
    "    def width(self,width):\n",
    "        return self.__width\n",
    "    \n",
    "    @width.setter\n",
    "    def width(self, width):\n",
    "        self.__width = width\n",
    "        self.__area = None  #清空\n",
    "\n",
    "square = Square(5)\n",
    "print(square.area)\n",
    "square.width = 6\n",
    "print(square.area)\n"
   ]
  },
  {
   "cell_type": "markdown",
   "metadata": {},
   "source": [
    "## 删除property"
   ]
  },
  {
   "cell_type": "markdown",
   "metadata": {},
   "source": [
    "@属性名.deleter装饰器"
   ]
  },
  {
   "cell_type": "code",
   "execution_count": 75,
   "metadata": {},
   "outputs": [
    {
     "name": "stdout",
     "output_type": "stream",
     "text": [
      "25\n",
      "36\n"
     ]
    }
   ],
   "source": [
    "class Square:\n",
    "    def __init__(self,width):\n",
    "        self.__width = width\n",
    "        self.__area = None\n",
    "    \n",
    "    @property\n",
    "    def area(self):\n",
    "        if self.__area is None:\n",
    "            self.__area = self.__width*self.__width\n",
    "        return self.__area\n",
    "    \n",
    "    @property\n",
    "    def width(self,width):\n",
    "        return self.__width\n",
    "    \n",
    "    @width.setter\n",
    "    def width(self, width):\n",
    "        self.__width = width\n",
    "        # self.__area = None  #清空\n",
    "\n",
    "    @area.deleter\n",
    "    def area(self):\n",
    "        self.__area = None\n",
    "square = Square(5)\n",
    "print(square.area)\n",
    "square.width = 6\n",
    "del square.area # 会执行area.deleter方法\n",
    "print(square.area)"
   ]
  },
  {
   "cell_type": "markdown",
   "metadata": {},
   "source": [
    "## 类的继承"
   ]
  },
  {
   "cell_type": "markdown",
   "metadata": {},
   "source": [
    "isinstance()\n",
    "\n",
    "issubclass()"
   ]
  },
  {
   "cell_type": "code",
   "execution_count": 85,
   "metadata": {},
   "outputs": [
    {
     "name": "stdout",
     "output_type": "stream",
     "text": [
      "Person:init is called\n",
      "Jack\n",
      "Student:init is called\n"
     ]
    },
    {
     "ename": "AttributeError",
     "evalue": "'Student' object has no attribute 'name'",
     "output_type": "error",
     "traceback": [
      "\u001b[0;31m---------------------------------------------------------------------------\u001b[0m",
      "\u001b[0;31mAttributeError\u001b[0m                            Traceback (most recent call last)",
      "Cell \u001b[0;32mIn [85], line 18\u001b[0m\n\u001b[1;32m     15\u001b[0m         \u001b[38;5;28mself\u001b[39m\u001b[38;5;241m.\u001b[39mschool \u001b[38;5;241m=\u001b[39m \u001b[38;5;124m'\u001b[39m\u001b[38;5;124mABC\u001b[39m\u001b[38;5;124m'\u001b[39m\n\u001b[1;32m     17\u001b[0m student \u001b[38;5;241m=\u001b[39m Student()\n\u001b[0;32m---> 18\u001b[0m \u001b[38;5;28mprint\u001b[39m(\u001b[43mstudent\u001b[49m\u001b[38;5;241;43m.\u001b[39;49m\u001b[43mname\u001b[49m)\n",
      "\u001b[0;31mAttributeError\u001b[0m: 'Student' object has no attribute 'name'"
     ]
    }
   ],
   "source": [
    "class Person:\n",
    "    def __init__(self):\n",
    "        print('Person:init is called')\n",
    "        self.name = \"Jack\"\n",
    "\n",
    "class Student(Person):  # 不写__init__，会自动调用父类的\n",
    "    pass\n",
    "\n",
    "student = Student()\n",
    "print(student.name)\n",
    "\n",
    "class Student(Person):\n",
    "    def __init__(self):    # 重写__init__方法后，父类的__init__方法失效\n",
    "        print('Student:init is called')\n",
    "        self.school = 'ABC'\n",
    "\n",
    "student = Student()\n",
    "print(student.name)\n"
   ]
  },
  {
   "cell_type": "code",
   "execution_count": 87,
   "metadata": {},
   "outputs": [
    {
     "name": "stdout",
     "output_type": "stream",
     "text": [
      "Person:init is called\n",
      "Jack\n"
     ]
    }
   ],
   "source": [
    "class Student(Person):\n",
    "    def __init__(self):\n",
    "        super().__init__()  # 先执行父类的初始化\n",
    "        self.school = 'ABC'\n",
    "student = Student()\n",
    "print(student.name)"
   ]
  },
  {
   "cell_type": "code",
   "execution_count": 88,
   "metadata": {},
   "outputs": [
    {
     "name": "stdout",
     "output_type": "stream",
     "text": [
      "Jack\n",
      "ABC\n"
     ]
    }
   ],
   "source": [
    "class Person:\n",
    "    def __init__(self,name):\n",
    "        self.name = name\n",
    "\n",
    "class Student(Person):\n",
    "    def __init__(self,name,school):\n",
    "        super().__init__(name)\n",
    "        self.school = school\n",
    "student = Student('Jack','ABC')\n",
    "print(student.name)\n",
    "print(student.school)"
   ]
  },
  {
   "cell_type": "markdown",
   "metadata": {},
   "source": [
    "isinstance()判断对象是否是一个类的对象或者该类的子类的对象"
   ]
  },
  {
   "cell_type": "code",
   "execution_count": 92,
   "metadata": {},
   "outputs": [
    {
     "name": "stdout",
     "output_type": "stream",
     "text": [
      "True\n",
      "True\n",
      "False\n"
     ]
    }
   ],
   "source": [
    "student = Student('Jack','ABC')\n",
    "print(isinstance(student,Student))\n",
    "print(isinstance(student,Person))\n",
    "person = Person('Mike')\n",
    "print(isinstance(person,Student))"
   ]
  },
  {
   "cell_type": "markdown",
   "metadata": {},
   "source": [
    "issubclass()判断一个类是否为某个类的子类"
   ]
  },
  {
   "cell_type": "code",
   "execution_count": 93,
   "metadata": {},
   "outputs": [
    {
     "data": {
      "text/plain": [
       "True"
      ]
     },
     "execution_count": 93,
     "metadata": {},
     "output_type": "execute_result"
    }
   ],
   "source": [
    "issubclass(Student,Person)"
   ]
  },
  {
   "cell_type": "markdown",
   "metadata": {},
   "source": [
    "# 方法重写"
   ]
  },
  {
   "cell_type": "markdown",
   "metadata": {},
   "source": [
    "在子类中重新定义父类的方法"
   ]
  },
  {
   "cell_type": "code",
   "execution_count": 3,
   "metadata": {},
   "outputs": [
    {
     "name": "stdout",
     "output_type": "stream",
     "text": [
      "Hello from person\n"
     ]
    }
   ],
   "source": [
    "class Person:\n",
    "    def __init__(self,name):\n",
    "        self.name = name\n",
    "    def say(self):\n",
    "        print(\"Hello from person\")\n",
    "class Student(Person):\n",
    "    def __init__(self,name,school):\n",
    "        super().__init__(name)\n",
    "        self.school = school\n",
    "student = Student('Jack','ABC')\n",
    "student.say()"
   ]
  },
  {
   "cell_type": "code",
   "execution_count": 4,
   "metadata": {},
   "outputs": [
    {
     "name": "stdout",
     "output_type": "stream",
     "text": [
      "Hello from student\n"
     ]
    }
   ],
   "source": [
    "class Student(Person):\n",
    "    def __init__(self,name,school):\n",
    "        super().__init__(name)\n",
    "        self.school = school\n",
    "    def say(self):\n",
    "        print(\"Hello from student\")\n",
    "student = Student('Jack','ABC')\n",
    "student.say()"
   ]
  },
  {
   "cell_type": "code",
   "execution_count": 5,
   "metadata": {},
   "outputs": [
    {
     "name": "stdout",
     "output_type": "stream",
     "text": [
      "Hello from student\n"
     ]
    }
   ],
   "source": [
    "def render(person: Person):\n",
    "    person.say()\n",
    "\n",
    "render(student) # 鸭子类型的表现。多态一种形式。不管对象属于哪个类，也不管声明的具体接口是什么，只要对象实现了相应的方法，函数就可以在对象上执行操作"
   ]
  },
  {
   "cell_type": "code",
   "execution_count": 6,
   "metadata": {},
   "outputs": [
    {
     "name": "stdout",
     "output_type": "stream",
     "text": [
      "Hello from person\n"
     ]
    }
   ],
   "source": [
    "class Worker(Person):\n",
    "    pass\n",
    "worker = Worker('Jack')\n",
    "render(worker)  # 调用的是Person类中的say方法"
   ]
  },
  {
   "cell_type": "markdown",
   "metadata": {},
   "source": [
    "### 类属性的覆盖"
   ]
  },
  {
   "cell_type": "code",
   "execution_count": 8,
   "metadata": {},
   "outputs": [
    {
     "name": "stdout",
     "output_type": "stream",
     "text": [
      "3\n"
     ]
    }
   ],
   "source": [
    "class Person:\n",
    "    color = 1\n",
    "    def __init__(self,name):\n",
    "        self.name = name\n",
    "    def say(self):\n",
    "        print(\"Hello from person\")\n",
    "    def print_color(self):\n",
    "        print(self.color)\n",
    "class Student(Person):\n",
    "    color = 3\n",
    "    def __init__(self,name,school):\n",
    "        super().__init__(name)\n",
    "        self.school = school\n",
    "\n",
    "student = Student('Jack','ABC')\n",
    "student.print_color()   # 这里打印出来的是已经被覆盖的属性"
   ]
  },
  {
   "cell_type": "markdown",
   "metadata": {},
   "source": [
    "### 在父类方法基础上再加点内容"
   ]
  },
  {
   "cell_type": "code",
   "execution_count": 9,
   "metadata": {},
   "outputs": [
    {
     "name": "stdout",
     "output_type": "stream",
     "text": [
      "Hello from person\n",
      "Hello from student\n"
     ]
    }
   ],
   "source": [
    "class Person:\n",
    "    def __init__(self,name):\n",
    "        self.name = name\n",
    "    def say(self):\n",
    "        print(\"Hello from person\")\n",
    "class Student(Person):\n",
    "    def __init__(self,name,school):\n",
    "        super().__init__(name)\n",
    "        self.school = school\n",
    "    def say(self):\n",
    "        super().say()   # 用super()调用父类的方法\n",
    "        print('Hello from student')\n",
    "student = Student('Jack','ABC')\n",
    "student.say()"
   ]
  },
  {
   "cell_type": "markdown",
   "metadata": {},
   "source": [
    "## 抽象类"
   ]
  },
  {
   "cell_type": "markdown",
   "metadata": {},
   "source": [
    "抽象类是一个不能被实例化的类\n",
    "\n",
    "抽象方法是一个没有具体实现的方法\n",
    "\n",
    "一个抽象类可以有或者没有抽象方法\n",
    "\n",
    "Python并没有直接支持抽象类，但是提供了一个模块（abc）来允许定义抽象类"
   ]
  },
  {
   "cell_type": "markdown",
   "metadata": {},
   "source": [
    "### 如何定义抽象类\n",
    "通过继承abc.ABC类定义一个抽象类"
   ]
  },
  {
   "cell_type": "code",
   "execution_count": 13,
   "metadata": {},
   "outputs": [],
   "source": [
    "from abc import ABC\n",
    "class Action(ABC):\n",
    "    pass\n",
    "action = Action()   # 没有抽象方法的抽象类是可以构造出对象的"
   ]
  },
  {
   "cell_type": "code",
   "execution_count": 14,
   "metadata": {},
   "outputs": [
    {
     "ename": "TypeError",
     "evalue": "Can't instantiate abstract class Action with abstract method execute",
     "output_type": "error",
     "traceback": [
      "\u001b[0;31m---------------------------------------------------------------------------\u001b[0m",
      "\u001b[0;31mTypeError\u001b[0m                                 Traceback (most recent call last)",
      "Cell \u001b[0;32mIn [14], line 6\u001b[0m\n\u001b[1;32m      3\u001b[0m     \u001b[38;5;129m@abstractmethod\u001b[39m \u001b[38;5;66;03m# 抽象方法，不需要实现\u001b[39;00m\n\u001b[1;32m      4\u001b[0m     \u001b[38;5;28;01mdef\u001b[39;00m \u001b[38;5;21mexecute\u001b[39m(\u001b[38;5;28mself\u001b[39m):\n\u001b[1;32m      5\u001b[0m         \u001b[38;5;28;01mpass\u001b[39;00m\n\u001b[0;32m----> 6\u001b[0m action \u001b[38;5;241m=\u001b[39m \u001b[43mAction\u001b[49m\u001b[43m(\u001b[49m\u001b[43m)\u001b[49m\n",
      "\u001b[0;31mTypeError\u001b[0m: Can't instantiate abstract class Action with abstract method execute"
     ]
    }
   ],
   "source": [
    "from abc import ABC, abstractmethod\n",
    "class Action(ABC):\n",
    "    @abstractmethod # 抽象方法，不需要实现\n",
    "    def execute(self):\n",
    "        pass\n",
    "action = Action()   # 会报错"
   ]
  },
  {
   "cell_type": "code",
   "execution_count": 15,
   "metadata": {},
   "outputs": [
    {
     "name": "stdout",
     "output_type": "stream",
     "text": [
      "Create a new student\n"
     ]
    }
   ],
   "source": [
    "class CreateStudentAction(Action):\n",
    "    def execute(self):  # 得实现父类中的抽象方法\n",
    "        print(\"Create a new student\")\n",
    "\n",
    "class DeleteStudentAction(Action):\n",
    "    def execute(self):  # 得实现父类中的抽象方法\n",
    "        print(\"Delete a student\")\n",
    "\n",
    "def execute_action(action: Action):\n",
    "    action.execute()\n",
    "\n",
    "create_student_action = CreateStudentAction()\n",
    "delete_student_action = DeleteStudentAction()\n",
    "execute_action(create_student_action)   # 传不同的对象会调用不同的方法\n",
    "execute_action(delete_student_action)   # 传不同的对象会调用不同的方法"
   ]
  },
  {
   "cell_type": "markdown",
   "metadata": {},
   "source": [
    "## 枚举"
   ]
  },
  {
   "cell_type": "markdown",
   "metadata": {},
   "source": [
    "代码中的数值不利于人来阅读的时候，总希望能够有一个既方便阅读又利于查错的方法"
   ]
  },
  {
   "cell_type": "markdown",
   "metadata": {},
   "source": [
    "### 如何定义枚举\n",
    "通过继承enum.Enum类定义一个枚举类型"
   ]
  },
  {
   "cell_type": "code",
   "execution_count": 19,
   "metadata": {},
   "outputs": [
    {
     "name": "stdout",
     "output_type": "stream",
     "text": [
      "<enum 'Gender'>\n",
      "MALE\n",
      "1\n",
      "MALE 1\n",
      "FEMALE 2\n"
     ]
    }
   ],
   "source": [
    "from enum import Enum\n",
    "class Gender(Enum):\n",
    "    MALE=1  # 成员1\n",
    "    FEMALE=2    # 成员2\n",
    "class Student:\n",
    "    def __init__(self):\n",
    "        self.gender = Gender.MALE\n",
    "print(type(Gender.MALE))\n",
    "print(Gender.MALE.name)\n",
    "print(Gender.MALE.value)"
   ]
  },
  {
   "cell_type": "markdown",
   "metadata": {},
   "source": [
    "### 存数据库怎么办"
   ]
  },
  {
   "cell_type": "markdown",
   "metadata": {},
   "source": [
    "#### 字符串转枚举"
   ]
  },
  {
   "cell_type": "code",
   "execution_count": 20,
   "metadata": {},
   "outputs": [
    {
     "name": "stdout",
     "output_type": "stream",
     "text": [
      "Gender.MALE\n"
     ]
    }
   ],
   "source": [
    "s_gender= \"MALE\"    # 假设从数据库中取出字符串形式的值\n",
    "# 怎么变成枚举？\n",
    "student = Student()\n",
    "student.gender = Gender[s_gender]   # 将字符串转为枚举类型\n",
    "print(student.gender)"
   ]
  },
  {
   "cell_type": "markdown",
   "metadata": {},
   "source": [
    "#### 数字转枚举"
   ]
  },
  {
   "cell_type": "code",
   "execution_count": 21,
   "metadata": {},
   "outputs": [
    {
     "name": "stdout",
     "output_type": "stream",
     "text": [
      "Gender.MALE\n"
     ]
    }
   ],
   "source": [
    "s_gender= 1   # 假设从数据库中取出数字形式的值\n",
    "# 怎么变成枚举？\n",
    "student = Student()\n",
    "student.gender = Gender(s_gender)   # 将数字转为枚举类型\n",
    "print(student.gender)"
   ]
  },
  {
   "cell_type": "markdown",
   "metadata": {},
   "source": [
    "### 遍历枚举\n",
    "枚举本身是可迭代的"
   ]
  },
  {
   "cell_type": "code",
   "execution_count": 22,
   "metadata": {},
   "outputs": [
    {
     "name": "stdout",
     "output_type": "stream",
     "text": [
      "Gender.MALE\n",
      "Gender.FEMALE\n"
     ]
    }
   ],
   "source": [
    "for gg in Gender:\n",
    "    print(gg)"
   ]
  },
  {
   "cell_type": "markdown",
   "metadata": {},
   "source": [
    "### 枚举的继承\n",
    "枚举可以继承其他没有成员的枚举，有成员的枚举不能被继承"
   ]
  },
  {
   "cell_type": "markdown",
   "metadata": {},
   "source": [
    "## 枚举别名和装饰器"
   ]
  },
  {
   "cell_type": "markdown",
   "metadata": {},
   "source": [
    "### 枚举成员的别名\n",
    "当枚举中的多个成员具有相同value的时候，只有一个能成为主要的成员，其他的都自动成为别名"
   ]
  },
  {
   "cell_type": "code",
   "execution_count": 26,
   "metadata": {},
   "outputs": [
    {
     "name": "stdout",
     "output_type": "stream",
     "text": [
      "SUCCESS\n",
      "FAIL\n",
      "{'SUCCESS': <Status.SUCCESS: 1>, 'OK': <Status.SUCCESS: 1>, 'FAIL': <Status.FAIL: 2>, 'WRONG': <Status.FAIL: 2>}\n",
      "True\n",
      "True\n"
     ]
    }
   ],
   "source": [
    "class Status(Enum):\n",
    "    SUCCESS = 1\n",
    "    OK = 1\n",
    "    FAIL = 2\n",
    "    WRONG = 2\n",
    "for i in Status:\n",
    "    print(i.name)   # 同value值中第一次出现的name才能被遍历到，即主要成员\n",
    "print(Status.__members__)   # __members__记录了全部的name\n",
    "print(Status.SUCCESS == Status.OK)\n",
    "print(Status.SUCCESS is Status.OK)  # OK没有指向新的对象"
   ]
  },
  {
   "cell_type": "markdown",
   "metadata": {},
   "source": [
    "### @enum.unique装饰器\n",
    "当我们需要保证枚举中的成员必须具有唯一值的时候，可以使用@enum.unique来约束"
   ]
  },
  {
   "cell_type": "code",
   "execution_count": 28,
   "metadata": {},
   "outputs": [
    {
     "ename": "ValueError",
     "evalue": "duplicate values found in <enum 'Gender'>: FEMALE -> MALE",
     "output_type": "error",
     "traceback": [
      "\u001b[0;31m---------------------------------------------------------------------------\u001b[0m",
      "\u001b[0;31mValueError\u001b[0m                                Traceback (most recent call last)",
      "Cell \u001b[0;32mIn [28], line 3\u001b[0m\n\u001b[1;32m      1\u001b[0m \u001b[38;5;28;01mimport\u001b[39;00m \u001b[38;5;21;01menum\u001b[39;00m\n\u001b[1;32m      2\u001b[0m \u001b[38;5;129;43m@enum\u001b[39;49m\u001b[38;5;241;43m.\u001b[39;49m\u001b[43munique\u001b[49m\n\u001b[0;32m----> 3\u001b[0m \u001b[38;5;28;43;01mclass\u001b[39;49;00m\u001b[43m \u001b[49m\u001b[38;5;21;43;01mGender\u001b[39;49;00m\u001b[43m(\u001b[49m\u001b[43mEnum\u001b[49m\u001b[43m)\u001b[49m\u001b[43m:\u001b[49m\n\u001b[1;32m      4\u001b[0m \u001b[43m    \u001b[49m\u001b[43mMALE\u001b[49m\u001b[38;5;241;43m=\u001b[39;49m\u001b[38;5;241;43m1\u001b[39;49m\n\u001b[1;32m      5\u001b[0m \u001b[43m    \u001b[49m\u001b[43mFEMALE\u001b[49m\u001b[38;5;241;43m=\u001b[39;49m\u001b[38;5;241;43m1\u001b[39;49m\n",
      "File \u001b[0;32m/Applications/Xcode.app/Contents/Developer/Library/Frameworks/Python3.framework/Versions/3.9/lib/python3.9/enum.py:1013\u001b[0m, in \u001b[0;36munique\u001b[0;34m(enumeration)\u001b[0m\n\u001b[1;32m   1010\u001b[0m \u001b[38;5;28;01mif\u001b[39;00m duplicates:\n\u001b[1;32m   1011\u001b[0m     alias_details \u001b[38;5;241m=\u001b[39m \u001b[38;5;124m'\u001b[39m\u001b[38;5;124m, \u001b[39m\u001b[38;5;124m'\u001b[39m\u001b[38;5;241m.\u001b[39mjoin(\n\u001b[1;32m   1012\u001b[0m             [\u001b[38;5;124m\"\u001b[39m\u001b[38;5;132;01m%s\u001b[39;00m\u001b[38;5;124m -> \u001b[39m\u001b[38;5;132;01m%s\u001b[39;00m\u001b[38;5;124m\"\u001b[39m \u001b[38;5;241m%\u001b[39m (alias, name) \u001b[38;5;28;01mfor\u001b[39;00m (alias, name) \u001b[38;5;129;01min\u001b[39;00m duplicates])\n\u001b[0;32m-> 1013\u001b[0m     \u001b[38;5;28;01mraise\u001b[39;00m \u001b[38;5;167;01mValueError\u001b[39;00m(\u001b[38;5;124m'\u001b[39m\u001b[38;5;124mduplicate values found in \u001b[39m\u001b[38;5;132;01m%r\u001b[39;00m\u001b[38;5;124m: \u001b[39m\u001b[38;5;132;01m%s\u001b[39;00m\u001b[38;5;124m'\u001b[39m \u001b[38;5;241m%\u001b[39m\n\u001b[1;32m   1014\u001b[0m             (enumeration, alias_details))\n\u001b[1;32m   1015\u001b[0m \u001b[38;5;28;01mreturn\u001b[39;00m enumeration\n",
      "\u001b[0;31mValueError\u001b[0m: duplicate values found in <enum 'Gender'>: FEMALE -> MALE"
     ]
    }
   ],
   "source": [
    "import enum\n",
    "@enum.unique\n",
    "class Gender(Enum):\n",
    "    MALE=1\n",
    "    FEMALE=1    # 加了unique装饰器后直接就会报错"
   ]
  },
  {
   "cell_type": "markdown",
   "metadata": {},
   "source": [
    "## 定制和扩展枚举"
   ]
  },
  {
   "cell_type": "markdown",
   "metadata": {},
   "source": [
    "### 定制__str__函数"
   ]
  },
  {
   "cell_type": "code",
   "execution_count": 29,
   "metadata": {},
   "outputs": [
    {
     "name": "stdout",
     "output_type": "stream",
     "text": [
      "SUCCESS(1)\n",
      "FAIL(2)\n"
     ]
    }
   ],
   "source": [
    "class Status(Enum):\n",
    "    SUCCESS=1\n",
    "    FAIL=2\n",
    "    def __str__(self):\n",
    "        return f\"{self.name}({self.value})\"\n",
    "for s in Status:\n",
    "    print(s)"
   ]
  },
  {
   "cell_type": "markdown",
   "metadata": {},
   "source": [
    "### 定制__eq__函数"
   ]
  },
  {
   "cell_type": "code",
   "execution_count": 30,
   "metadata": {},
   "outputs": [
    {
     "name": "stdout",
     "output_type": "stream",
     "text": [
      "True\n",
      "True\n",
      "False\n"
     ]
    }
   ],
   "source": [
    "class Status(Enum):\n",
    "    SUCCESS=1\n",
    "    FAIL=2\n",
    "    def __str__(self):\n",
    "        return f\"{self.name}({self.value})\"\n",
    "    def __eq__(self,other):\n",
    "        if isinstance(other,int):\n",
    "            return self.value==other\n",
    "        if isinstance(other,str):\n",
    "            return self.name==other.upper()\n",
    "        if isinstance(other,Gender):\n",
    "            return self is other\n",
    "        return False\n",
    "        \n",
    "print(Status.SUCCESS==1)\n",
    "print(Status.SUCCESS==\"SUCCESS\")\n",
    "print(Status.SUCCESS==\"FAILED\")"
   ]
  },
  {
   "cell_type": "markdown",
   "metadata": {},
   "source": [
    "### 定制__lt__函数"
   ]
  },
  {
   "cell_type": "code",
   "execution_count": 32,
   "metadata": {},
   "outputs": [
    {
     "name": "stdout",
     "output_type": "stream",
     "text": [
      "False\n",
      "True\n"
     ]
    }
   ],
   "source": [
    "from functools import total_ordering\n",
    "\n",
    "@total_ordering\n",
    "class WorkFlowStatus(Enum):\n",
    "    OPEN=1\n",
    "    IN_PROGRESS=2\n",
    "    REVIEW=3\n",
    "    COMPLETE=4\n",
    "    def __lt__(self,other):\n",
    "        if isinstance(other,int):\n",
    "            return self.value<other\n",
    "        if isinstance(other,WorkFlowStatus):\n",
    "            return self.value<other.value\n",
    "        return False\n",
    "\n",
    "print(WorkFlowStatus.IN_PROGRESS<2)\n",
    "print(WorkFlowStatus.IN_PROGRESS<WorkFlowStatus.COMPLETE)\n"
   ]
  },
  {
   "cell_type": "markdown",
   "metadata": {},
   "source": [
    "### auto()函数\n",
    "当希望程序自动按顺序来给枚举成员赋值的时候，可以使用auto()函数。不推荐用"
   ]
  },
  {
   "cell_type": "code",
   "execution_count": null,
   "metadata": {},
   "outputs": [],
   "source": [
    "from enum import auto\n",
    "\n",
    "\n",
    "class Status(Enum):\n",
    "    SUCCESS=auto()\n",
    "    FAILED=auto()"
   ]
  },
  {
   "cell_type": "markdown",
   "metadata": {},
   "source": [
    "## 多继承\n",
    "### 多继承的语法"
   ]
  },
  {
   "cell_type": "code",
   "execution_count": 33,
   "metadata": {},
   "outputs": [
    {
     "name": "stdout",
     "output_type": "stream",
     "text": [
      "parent 1\n",
      "hello parent 2\n"
     ]
    }
   ],
   "source": [
    "class Parent1:\n",
    "    def render(self):\n",
    "        print(\"parent 1\")\n",
    "class Parent2:\n",
    "    def hello(self):\n",
    "        print(\"hello parent 2\")\n",
    "class Child(Parent1,Parent2):\n",
    "    pass\n",
    "child = Child()\n",
    "child.render()\n",
    "child.hello()\n"
   ]
  },
  {
   "cell_type": "markdown",
   "metadata": {},
   "source": [
    "### 同名函数的继承问题"
   ]
  },
  {
   "cell_type": "code",
   "execution_count": 35,
   "metadata": {},
   "outputs": [
    {
     "name": "stdout",
     "output_type": "stream",
     "text": [
      "parent 1\n",
      "parent 2\n"
     ]
    }
   ],
   "source": [
    "class Parent1:\n",
    "    def render(self):\n",
    "        print(\"parent 1\")\n",
    "class Parent2:\n",
    "    def render(self):\n",
    "        print(\"parent 2\")\n",
    "    def hello(self):\n",
    "        print(\"hello parent 2\")\n",
    "class Child(Parent1,Parent2):\n",
    "    pass\n",
    "child = Child()\n",
    "child.render()\n",
    "class Child(Parent2,Parent1):\n",
    "    pass\n",
    "child = Child()\n",
    "child.render()"
   ]
  },
  {
   "cell_type": "markdown",
   "metadata": {},
   "source": [
    "以继承的书写顺序来确定，先继承那个就调谁的"
   ]
  },
  {
   "cell_type": "markdown",
   "metadata": {},
   "source": [
    "如果希望手动选择继承哪个类的方法，怎么办"
   ]
  },
  {
   "cell_type": "code",
   "execution_count": 37,
   "metadata": {},
   "outputs": [],
   "source": [
    "class Parent1:\n",
    "    def render(self):\n",
    "        print(\"parent 1\")\n",
    "    def hello(self):\n",
    "        print(\"hello parent 1\")\n",
    "\n",
    "class Parent2:\n",
    "    def render(self):\n",
    "        print(\"parent 2\")\n",
    "    def hello(self):\n",
    "        print(\"hello parent 2\")"
   ]
  },
  {
   "cell_type": "code",
   "execution_count": 38,
   "metadata": {},
   "outputs": [
    {
     "name": "stdout",
     "output_type": "stream",
     "text": [
      "parent 2\n",
      "hello parent 1\n"
     ]
    }
   ],
   "source": [
    "class Child(Parent2,Parent1):   # 希望执行Parent1的hello\n",
    "    def hello(self):\n",
    "        Parent1.hello(self) # 重点，将self传入\n",
    "child = Child()\n",
    "child.render()\n",
    "child.hello()"
   ]
  },
  {
   "cell_type": "markdown",
   "metadata": {},
   "source": [
    "尽量使用单继承"
   ]
  },
  {
   "cell_type": "markdown",
   "metadata": {},
   "source": [
    "## 描述符"
   ]
  },
  {
   "cell_type": "markdown",
   "metadata": {},
   "source": [
    "### 定义属性时的麻烦"
   ]
  },
  {
   "cell_type": "code",
   "execution_count": 39,
   "metadata": {},
   "outputs": [
    {
     "ename": "Exception",
     "evalue": "First name is empty",
     "output_type": "error",
     "traceback": [
      "\u001b[0;31m---------------------------------------------------------------------------\u001b[0m",
      "\u001b[0;31mException\u001b[0m                                 Traceback (most recent call last)",
      "Cell \u001b[0;32mIn [39], line 25\u001b[0m\n\u001b[1;32m     23\u001b[0m             \u001b[38;5;28;01mraise\u001b[39;00m \u001b[38;5;167;01mException\u001b[39;00m(\u001b[38;5;124m\"\u001b[39m\u001b[38;5;124mLast name is empty\u001b[39m\u001b[38;5;124m\"\u001b[39m)\n\u001b[1;32m     24\u001b[0m         \u001b[38;5;28mself\u001b[39m\u001b[38;5;241m.\u001b[39m__last_name \u001b[38;5;241m=\u001b[39m last_name\n\u001b[0;32m---> 25\u001b[0m student \u001b[38;5;241m=\u001b[39m \u001b[43mStudent\u001b[49m\u001b[43m(\u001b[49m\u001b[38;5;124;43m'\u001b[39;49m\u001b[38;5;124;43m'\u001b[39;49m\u001b[43m,\u001b[49m\u001b[38;5;124;43m'\u001b[39;49m\u001b[38;5;124;43m'\u001b[39;49m\u001b[43m)\u001b[49m\n",
      "Cell \u001b[0;32mIn [39], line 3\u001b[0m, in \u001b[0;36mStudent.__init__\u001b[0;34m(self, first_name, last_name)\u001b[0m\n\u001b[1;32m      2\u001b[0m \u001b[38;5;28;01mdef\u001b[39;00m \u001b[38;5;21m__init__\u001b[39m(\u001b[38;5;28mself\u001b[39m,first_name,last_name):\n\u001b[0;32m----> 3\u001b[0m     \u001b[38;5;28;43mself\u001b[39;49m\u001b[38;5;241;43m.\u001b[39;49m\u001b[43mfirst_name\u001b[49m \u001b[38;5;241m=\u001b[39m first_name\n\u001b[1;32m      4\u001b[0m     \u001b[38;5;28mself\u001b[39m\u001b[38;5;241m.\u001b[39mlast_name \u001b[38;5;241m=\u001b[39m last_name\n",
      "Cell \u001b[0;32mIn [39], line 13\u001b[0m, in \u001b[0;36mStudent.first_name\u001b[0;34m(self, first_name)\u001b[0m\n\u001b[1;32m     11\u001b[0m     \u001b[38;5;28;01mraise\u001b[39;00m \u001b[38;5;167;01mException\u001b[39;00m(\u001b[38;5;124m\"\u001b[39m\u001b[38;5;124mFirst name is not a string\u001b[39m\u001b[38;5;124m\"\u001b[39m)\n\u001b[1;32m     12\u001b[0m \u001b[38;5;28;01mif\u001b[39;00m \u001b[38;5;28mlen\u001b[39m(first_name)\u001b[38;5;241m==\u001b[39m\u001b[38;5;241m0\u001b[39m:\n\u001b[0;32m---> 13\u001b[0m     \u001b[38;5;28;01mraise\u001b[39;00m \u001b[38;5;167;01mException\u001b[39;00m(\u001b[38;5;124m\"\u001b[39m\u001b[38;5;124mFirst name is empty\u001b[39m\u001b[38;5;124m\"\u001b[39m)\n\u001b[1;32m     14\u001b[0m \u001b[38;5;28mself\u001b[39m\u001b[38;5;241m.\u001b[39m__first_name \u001b[38;5;241m=\u001b[39m first_name\n",
      "\u001b[0;31mException\u001b[0m: First name is empty"
     ]
    }
   ],
   "source": [
    "class Student:\n",
    "    def __init__(self,first_name,last_name):\n",
    "        self.first_name = first_name\n",
    "        self.last_name = last_name\n",
    "    @property\n",
    "    def first_name(self):\n",
    "        return self.__first_name\n",
    "    @first_name.setter\n",
    "    def first_name(self,first_name):\n",
    "        if not isinstance(first_name,str):\n",
    "            raise Exception(\"First name is not a string\")\n",
    "        if len(first_name)==0:\n",
    "            raise Exception(\"First name is empty\")\n",
    "        self.__first_name = first_name\n",
    "    @property\n",
    "    def last_name(self):\n",
    "        return self.__last_name\n",
    "    @last_name.setter\n",
    "    def last_name(self,last_name):\n",
    "        if not isinstance(last_name,str):\n",
    "            raise Exception(\"Last name is not a string\")\n",
    "        if len(last_name)==0:\n",
    "            raise Exception(\"Last name is empty\")\n",
    "        self.__last_name = last_name\n",
    "student = Student('','')"
   ]
  },
  {
   "cell_type": "markdown",
   "metadata": {},
   "source": [
    "每个属性校验都要写一遍代码，非常麻烦"
   ]
  },
  {
   "cell_type": "markdown",
   "metadata": {},
   "source": [
    "#### 描述符的规定\n",
    "描述符是一个特殊的类，要求实现如下一些方法\n",
    "* 方法__set_name__(self,owner,name)\n",
    "* 方法__get__(self,instance,owner)\n",
    "* 方法__set__(self,instance,value)\n",
    "* 方法__delete__(self,instance)"
   ]
  },
  {
   "cell_type": "code",
   "execution_count": 46,
   "metadata": {},
   "outputs": [
    {
     "name": "stdout",
     "output_type": "stream",
     "text": [
      "Jack\n",
      "Tom\n"
     ]
    }
   ],
   "source": [
    "class RequiredString:   # 可复用到所有的类\n",
    "    def __init__(self,trim:bool=False):\n",
    "        self.__trim = trim\n",
    "\n",
    "    def __set_name__(self,owner,name):\n",
    "        self.__property_name = name\n",
    "\n",
    "    def __set__(self,instance,value):\n",
    "        if not isinstance(value,str):\n",
    "            raise Exception(f\"{self.__property_name} is not a string\")\n",
    "        if self.__trim:\n",
    "            value = value.strip()\n",
    "        if len(value)==0:\n",
    "            raise Exception(f\"{self.__property_name} is empty\")\n",
    "        instance.__dict__[self.__property_name] = value\n",
    "    \n",
    "    def __get__(self,instance,owner):\n",
    "        if self.__property_name in instance.__dict__:\n",
    "            return instance.__dict__[self.__property_name]\n",
    "\n",
    "class Student2:\n",
    "    first_name = RequiredString(True)    # 用描述符校验，并将类变量变成属性\n",
    "    last_name = RequiredString()\n",
    "\n",
    "student2 = Student2()\n",
    "student2.first_name = 'Jack'    # 调用类变量，类变量指向修饰符对象，因此会调用__set__方法。即first_name.__set__(student2,\"Jack\")\n",
    "student2.last_name = 'Johnson'\n",
    "\n",
    "student3=Student2()\n",
    "student3.first_name = ' Tom'\n",
    "# student3.last_name = ''\n",
    "print(student2.first_name)\n",
    "print(student3.first_name)"
   ]
  },
  {
   "cell_type": "markdown",
   "metadata": {},
   "source": [
    "## 特殊方法__new__方法"
   ]
  },
  {
   "cell_type": "markdown",
   "metadata": {},
   "source": [
    "### 方法__new__的定义原型\n",
    "方法__new__定义在object类中，所有类的最终父类都是object类\n",
    "* `object.__new__(cls,*args,**kwargs)`"
   ]
  },
  {
   "cell_type": "markdown",
   "metadata": {},
   "source": [
    "构造一个对象的过程，比如:\n",
    "`person=Person(\"Jack\")`\n",
    "\n",
    "1. `person=object.__new__(Person,\"Jack\")`\n",
    "2. `person.__init__(\"Jack\")`"
   ]
  },
  {
   "cell_type": "markdown",
   "metadata": {},
   "source": [
    "### `__new__`方法的最佳实践\n",
    "通常情况下定义了__new__就不用再定义__init__方法了"
   ]
  },
  {
   "cell_type": "code",
   "execution_count": 47,
   "metadata": {},
   "outputs": [
    {
     "name": "stdout",
     "output_type": "stream",
     "text": [
      "4\n",
      "<class '__main__.SquareNumber'>\n",
      "True\n"
     ]
    }
   ],
   "source": [
    "class SquareNumber(int):\n",
    "    def __new__(cls,value:int):\n",
    "        return super().__new__(cls,value**2)\n",
    "num = SquareNumber(2)\n",
    "print(num)\n",
    "print(type(num))\n",
    "print(isinstance(num,int))"
   ]
  },
  {
   "cell_type": "code",
   "execution_count": 49,
   "metadata": {},
   "outputs": [
    {
     "name": "stdout",
     "output_type": "stream",
     "text": [
      "Jack\n",
      "Ma\n"
     ]
    }
   ],
   "source": [
    "class Student:\n",
    "    def __new__(cls,first_name,last_name):\n",
    "        obj = super().__new__(cls)\n",
    "        obj.first_name = first_name\n",
    "        obj.last_name = last_name\n",
    "        return obj\n",
    "student = Student(\"Jack\",\"Ma\")\n",
    "print(student.first_name)\n",
    "print(student.last_name)"
   ]
  },
  {
   "cell_type": "markdown",
   "metadata": {},
   "source": [
    "# 异常类\n",
    "* 常用的异常类继承关系\n",
    "* 异常类的捕捉\n",
    "* 同时处理多个异常\n",
    "* raise异常\n",
    "* 自定义异常"
   ]
  },
  {
   "cell_type": "markdown",
   "metadata": {},
   "source": [
    "### 常用的异常类继承关系\n",
    "![](../images/异常类.png)"
   ]
  },
  {
   "cell_type": "markdown",
   "metadata": {},
   "source": [
    "红色是系统级别故障，蓝色是程序级别异常"
   ]
  },
  {
   "cell_type": "markdown",
   "metadata": {},
   "source": [
    "### 异常类的捕捉\n",
    "try ... except语句，可以使用特定的的异常类来捕捉，也可以用父类型的异常类来捕捉"
   ]
  },
  {
   "cell_type": "markdown",
   "metadata": {},
   "source": [
    "### 同时处理多个异常\n",
    "在同时捕捉多个异常的时候，需要先捕捉子类型的异常，后捕捉父类型的异常"
   ]
  },
  {
   "cell_type": "code",
   "execution_count": 55,
   "metadata": {},
   "outputs": [
    {
     "name": "stdout",
     "output_type": "stream",
     "text": [
      "All Exception\n"
     ]
    }
   ],
   "source": [
    "try:\n",
    "    a = 5/0\n",
    "except AssertionError:\n",
    "    print('AssertionError')\n",
    "except ArithmeticError:\n",
    "    print('ArithmeticError')\n",
    "except ZeroDivisionError:\n",
    "    print('除数不能为0')    # 前面的父类已经找到了就不会到这\n",
    "except Exception:   # 所有上面没有被捕获的异常类型\n",
    "    print('All Exception')"
   ]
  },
  {
   "cell_type": "markdown",
   "metadata": {},
   "source": [
    "### raise异常\n",
    "可以在代码中通过raise异常的方式来向调用者返回错误信息"
   ]
  },
  {
   "cell_type": "code",
   "execution_count": 59,
   "metadata": {},
   "outputs": [
    {
     "name": "stdout",
     "output_type": "stream",
     "text": [
      "Exception: Argument is not int\n"
     ]
    }
   ],
   "source": [
    "def add(n1,n2):\n",
    "    if not isinstance(n1,int) or not isinstance(n2,int):\n",
    "        raise Exception(\"Argument is not int\")\n",
    "    return n1+n2\n",
    "try:\n",
    "    add('a',2)\n",
    "except Exception as ex: # 可以获取到抛出的异常对象\n",
    "    print(f'Exception: {ex}')"
   ]
  },
  {
   "cell_type": "markdown",
   "metadata": {},
   "source": [
    "### 自定义异常"
   ]
  },
  {
   "cell_type": "code",
   "execution_count": 61,
   "metadata": {},
   "outputs": [
    {
     "name": "stdout",
     "output_type": "stream",
     "text": [
      "InvalidArgumentException: ('Argument is not int',)\n"
     ]
    }
   ],
   "source": [
    "class InvalidArgumentException(Exception):  # 自定义异常\n",
    "    def __init__(self,*args,**kwargs):\n",
    "        super().__init__(args)\n",
    "\n",
    "\n",
    "def add(n1,n2):\n",
    "    if not isinstance(n1,int) or not isinstance(n2,int):\n",
    "        raise InvalidArgumentException(\"Argument is not int\")\n",
    "    return n1+n2\n",
    "try:\n",
    "    add('a',2)\n",
    "except InvalidArgumentException as ex: # 可以获取到抛出的异常对象\n",
    "    print(f'InvalidArgumentException: {ex}')"
   ]
  }
 ],
 "metadata": {
  "kernelspec": {
   "display_name": "Python 3",
   "language": "python",
   "name": "python3"
  },
  "language_info": {
   "codemirror_mode": {
    "name": "ipython",
    "version": 3
   },
   "file_extension": ".py",
   "mimetype": "text/x-python",
   "name": "python",
   "nbconvert_exporter": "python",
   "pygments_lexer": "ipython3",
   "version": "3.9.6"
  }
 },
 "nbformat": 4,
 "nbformat_minor": 2
}
