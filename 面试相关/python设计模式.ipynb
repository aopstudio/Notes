{
 "cells": [
  {
   "cell_type": "markdown",
   "metadata": {},
   "source": [
    "# 创建型模式"
   ]
  },
  {
   "cell_type": "markdown",
   "metadata": {},
   "source": [
    "## 简单工厂模式\n",
    "隐藏了类的内部细节"
   ]
  },
  {
   "cell_type": "code",
   "execution_count": null,
   "metadata": {},
   "outputs": [],
   "source": [
    "class Payment:\n",
    "    def pay(self,money):\n",
    "        pass\n",
    "\n",
    "class WechatPay(Payment):\n",
    "    def pay(self,money):\n",
    "        print(f'微信支付{money}元')\n",
    "\n",
    "class Alipay(Payment):\n",
    "    def pay(self,money):\n",
    "        print(f'微信支付{money}元')\n",
    "\n",
    "class PaymentFactory:\n",
    "    def create_payment(self,method):\n",
    "        if method=='alipay':\n",
    "            return Alipay()\n",
    "        elif method=='wechat':\n",
    "            return WechatPay()\n",
    "        else:\n",
    "            raise TypeError(f\"No such payment named {method}\")"
   ]
  },
  {
   "cell_type": "markdown",
   "metadata": {},
   "source": [
    "## 工厂方法模式\n",
    "一个工厂生成一种产品"
   ]
  },
  {
   "cell_type": "code",
   "execution_count": null,
   "metadata": {},
   "outputs": [],
   "source": [
    "class PaymentFactory:\n",
    "    def create_payment(self):\n",
    "        pass\n",
    "\n",
    "class AlipayFactory(PaymentFactory):\n",
    "    def create_payment(self):\n",
    "        return Alipay()\n",
    "    \n",
    "class WechatFactory(PaymentFactory):\n",
    "    def create_payment(self):\n",
    "        return WechatPay()\n"
   ]
  }
 ],
 "metadata": {
  "language_info": {
   "name": "python"
  }
 },
 "nbformat": 4,
 "nbformat_minor": 2
}
